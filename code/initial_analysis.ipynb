{
 "cells": [
  {
   "cell_type": "markdown",
   "id": "22e83573-93ef-444d-aaeb-67f07279ea5e",
   "metadata": {},
   "source": [
    "### initial data analysis and final database preparation\n"
   ]
  },
  {
   "cell_type": "code",
   "execution_count": 48,
   "id": "863b4be1-a557-4b6f-9454-1f2f418651a0",
   "metadata": {},
   "outputs": [],
   "source": [
    "\n",
    "import doi as doiLib\n",
    "from unpywall.utils import UnpywallCredentials\n",
    "from unpywall import Unpywall\n",
    "#from prepare_wos_data_to_json import Prepare as prp\n",
    "import pandas as pd\n",
    "import json\n",
    "import seaborn as sns\n",
    "import numpy as np"
   ]
  },
  {
   "cell_type": "code",
   "execution_count": 5,
   "id": "4a33b8ed",
   "metadata": {},
   "outputs": [
    {
     "data": {
      "text/plain": [
       "Your email has been set."
      ]
     },
     "execution_count": 5,
     "metadata": {},
     "output_type": "execute_result"
    }
   ],
   "source": [
    "with open(\"email\") as fid:\n",
    "    unpaywallcred = fid.readline()\n",
    "\n",
    "UnpywallCredentials(unpaywallcred)# could not get api cred on time, so using this email which is pasted all over the web.... #unpaywallcred)"
   ]
  },
  {
   "cell_type": "code",
   "execution_count": 1,
   "id": "41dbce4a-015a-4012-8f84-ed860bffb625",
   "metadata": {},
   "outputs": [],
   "source": [
    "dataPath = \"../data/derived2/\"\n",
    "dataFile = \"wos_data_as.json\"\n"
   ]
  },
  {
   "cell_type": "code",
   "execution_count": null,
   "id": "af0efa19",
   "metadata": {},
   "outputs": [],
   "source": [
    "with open(dataPath+dataFile,\"r\") as fid:\n",
    "    dataDict = json.load(fid)\n",
    "#convert dictionary to panda dataframe\n",
    "data = pd.DataFrame.from_dict(dataDict)\n"
   ]
  },
  {
   "cell_type": "code",
   "execution_count": 44,
   "id": "309018a1",
   "metadata": {},
   "outputs": [],
   "source": [
    "entryType = list()\n",
    "for item in data[\"pubType\"]:\n",
    "    if type(item)==str:\n",
    "        if item == \"Article\":# or item == \"Journal Article\":\n",
    "            entryType.append(True)\n",
    "        else:\n",
    "            entryType.append(False)\n",
    "    else:\n",
    "        #print(item)\n",
    "        if \"Article\" in item:# or \"Journal Article\" in item:\n",
    "            entryType.append(True)\n",
    "        else:\n",
    "            entryType.append(False)\n",
    "\n",
    "\n",
    "wosArticles = data[entryType]\n"
   ]
  },
  {
   "cell_type": "markdown",
   "id": "4632b3b2",
   "metadata": {},
   "source": [
    "Use unpaywall api to find information about the papers"
   ]
  },
  {
   "cell_type": "code",
   "execution_count": 45,
   "id": "b90ff93e",
   "metadata": {},
   "outputs": [
    {
     "name": "stdout",
     "output_type": "stream",
     "text": [
      "|==================================================| 100%\n",
      "\n"
     ]
    }
   ],
   "source": [
    "upwData = Unpywall.doi(dois=list(wosArticles[\"doi\"]),errors=\"ignore\",progress=True)\n"
   ]
  },
  {
   "cell_type": "code",
   "execution_count": 62,
   "id": "4c8853a6",
   "metadata": {},
   "outputs": [],
   "source": [
    "articles = pd.merge(wosArticles, upwData,on=\"doi\" )\n"
   ]
  },
  {
   "cell_type": "code",
   "execution_count": 66,
   "metadata": {},
   "outputs": [
    {
     "name": "stdout",
     "output_type": "stream",
     "text": [
      "closed    0.370817\n",
      "gold      0.310576\n",
      "green     0.182062\n",
      "bronze    0.074967\n",
      "hybrid    0.061580\n",
      "Name: oa_status, dtype: float64\n",
      "closed    277\n",
      "gold      232\n",
      "green     136\n",
      "bronze     56\n",
      "hybrid     46\n",
      "Name: oa_status, dtype: int64\n"
     ]
    }
   ],
   "source": [
    "#Open Access\n",
    "\n",
    "#Paper distribution \n",
    "print(articles.oa_status.value_counts(normalize=True))\n",
    "print(articles.oa_status.value_counts(normalize=False))\n",
    "#sns.histplot(data = articles.is_oa)\n",
    "\n"
   ]
  },
  {
   "cell_type": "code",
   "execution_count": 69,
   "id": "d5168759",
   "metadata": {},
   "outputs": [
    {
     "data": {
      "text/plain": [
       "0      http://www.tandfonline.com/doi/abs/10.1080/095...\n",
       "1                http://www.mdpi.com/1424-8220/8/11/7545\n",
       "2      https://www.sciencedirect.com/science/article/...\n",
       "3      https://onlinelibrary.wiley.com/doi/10.1002/st...\n",
       "4      http://link.springer.com/10.1007/978-90-481-96...\n",
       "                             ...                        \n",
       "742    https://www.sciencedirect.com/science/article/...\n",
       "743    https://www.sciencedirect.com/science/article/...\n",
       "744           http://www.nature.com/articles/nature24021\n",
       "745    https://www.triple-c.at/index.php/tripleC/arti...\n",
       "746              http://www.mdpi.com/1424-8220/17/6/1326\n",
       "Name: url, Length: 747, dtype: object"
      ]
     },
     "execution_count": 69,
     "metadata": {},
     "output_type": "execute_result"
    }
   ],
   "source": [
    "articles.url"
   ]
  },
  {
   "cell_type": "code",
   "execution_count": 73,
   "id": "34a03358",
   "metadata": {},
   "outputs": [
    {
     "ename": "ValueError",
     "evalue": "Cannot mask with non-boolean array containing NA / NaN values",
     "output_type": "error",
     "traceback": [
      "\u001b[1;31m---------------------------------------------------------------------------\u001b[0m",
      "\u001b[1;31mValueError\u001b[0m                                Traceback (most recent call last)",
      "\u001b[1;32mC:\\Users\\ANDREM~1\\AppData\\Local\\Temp/ipykernel_10368/3931677994.py\u001b[0m in \u001b[0;36m<module>\u001b[1;34m\u001b[0m\n\u001b[0;32m      2\u001b[0m \u001b[0mdataMerge\u001b[0m \u001b[1;33m=\u001b[0m \u001b[0mpd\u001b[0m\u001b[1;33m.\u001b[0m\u001b[0mmerge\u001b[0m\u001b[1;33m(\u001b[0m\u001b[0mdata\u001b[0m\u001b[1;33m,\u001b[0m \u001b[0mupArticles\u001b[0m\u001b[1;33m,\u001b[0m \u001b[0mon\u001b[0m\u001b[1;33m=\u001b[0m\u001b[1;34m'doi'\u001b[0m\u001b[1;33m,\u001b[0m\u001b[0mhow\u001b[0m\u001b[1;33m=\u001b[0m\u001b[1;34m\"outer\"\u001b[0m\u001b[1;33m)\u001b[0m\u001b[1;33m\u001b[0m\u001b[1;33m\u001b[0m\u001b[0m\n\u001b[0;32m      3\u001b[0m \u001b[1;33m\u001b[0m\u001b[0m\n\u001b[1;32m----> 4\u001b[1;33m \u001b[0mlen\u001b[0m\u001b[1;33m(\u001b[0m\u001b[0mdataMerge\u001b[0m\u001b[1;33m[\u001b[0m\u001b[0mdataMerge\u001b[0m\u001b[1;33m.\u001b[0m\u001b[0mis_oa\u001b[0m\u001b[1;33m]\u001b[0m\u001b[1;33m)\u001b[0m\u001b[1;33m/\u001b[0m\u001b[0mlen\u001b[0m\u001b[1;33m(\u001b[0m\u001b[0mdataMerge\u001b[0m\u001b[1;33m)\u001b[0m\u001b[1;33m\u001b[0m\u001b[1;33m\u001b[0m\u001b[0m\n\u001b[0m\u001b[0;32m      5\u001b[0m \u001b[1;33m\u001b[0m\u001b[0m\n\u001b[0;32m      6\u001b[0m \u001b[1;31m#'best_oa_location.license'\u001b[0m\u001b[1;33m\u001b[0m\u001b[1;33m\u001b[0m\u001b[1;33m\u001b[0m\u001b[0m\n",
      "\u001b[1;32mC:\\ProgramData\\Miniconda3\\lib\\site-packages\\pandas\\core\\frame.py\u001b[0m in \u001b[0;36m__getitem__\u001b[1;34m(self, key)\u001b[0m\n\u001b[0;32m   3446\u001b[0m \u001b[1;33m\u001b[0m\u001b[0m\n\u001b[0;32m   3447\u001b[0m         \u001b[1;31m# Do we have a (boolean) 1d indexer?\u001b[0m\u001b[1;33m\u001b[0m\u001b[1;33m\u001b[0m\u001b[1;33m\u001b[0m\u001b[0m\n\u001b[1;32m-> 3448\u001b[1;33m         \u001b[1;32mif\u001b[0m \u001b[0mcom\u001b[0m\u001b[1;33m.\u001b[0m\u001b[0mis_bool_indexer\u001b[0m\u001b[1;33m(\u001b[0m\u001b[0mkey\u001b[0m\u001b[1;33m)\u001b[0m\u001b[1;33m:\u001b[0m\u001b[1;33m\u001b[0m\u001b[1;33m\u001b[0m\u001b[0m\n\u001b[0m\u001b[0;32m   3449\u001b[0m             \u001b[1;32mreturn\u001b[0m \u001b[0mself\u001b[0m\u001b[1;33m.\u001b[0m\u001b[0m_getitem_bool_array\u001b[0m\u001b[1;33m(\u001b[0m\u001b[0mkey\u001b[0m\u001b[1;33m)\u001b[0m\u001b[1;33m\u001b[0m\u001b[1;33m\u001b[0m\u001b[0m\n\u001b[0;32m   3450\u001b[0m \u001b[1;33m\u001b[0m\u001b[0m\n",
      "\u001b[1;32mC:\\ProgramData\\Miniconda3\\lib\\site-packages\\pandas\\core\\common.py\u001b[0m in \u001b[0;36mis_bool_indexer\u001b[1;34m(key)\u001b[0m\n\u001b[0;32m    137\u001b[0m                     \u001b[1;31m# Don't raise on e.g. [\"A\", \"B\", np.nan], see\u001b[0m\u001b[1;33m\u001b[0m\u001b[1;33m\u001b[0m\u001b[1;33m\u001b[0m\u001b[0m\n\u001b[0;32m    138\u001b[0m                     \u001b[1;31m#  test_loc_getitem_list_of_labels_categoricalindex_with_na\u001b[0m\u001b[1;33m\u001b[0m\u001b[1;33m\u001b[0m\u001b[1;33m\u001b[0m\u001b[0m\n\u001b[1;32m--> 139\u001b[1;33m                     \u001b[1;32mraise\u001b[0m \u001b[0mValueError\u001b[0m\u001b[1;33m(\u001b[0m\u001b[0mna_msg\u001b[0m\u001b[1;33m)\u001b[0m\u001b[1;33m\u001b[0m\u001b[1;33m\u001b[0m\u001b[0m\n\u001b[0m\u001b[0;32m    140\u001b[0m                 \u001b[1;32mreturn\u001b[0m \u001b[1;32mFalse\u001b[0m\u001b[1;33m\u001b[0m\u001b[1;33m\u001b[0m\u001b[0m\n\u001b[0;32m    141\u001b[0m             \u001b[1;32mreturn\u001b[0m \u001b[1;32mTrue\u001b[0m\u001b[1;33m\u001b[0m\u001b[1;33m\u001b[0m\u001b[0m\n",
      "\u001b[1;31mValueError\u001b[0m: Cannot mask with non-boolean array containing NA / NaN values"
     ]
    }
   ],
   "source": [
    "#merge information based on doi\n",
    "##TODO\n",
    "#dataMerge = pd.merge(data, upArticles, on='doi')\n",
    "\n",
    "\n",
    "    \n",
    "#'best_oa_location.license'\n",
    "#df[\"OA\"] = up[\"is_oa\"]\n",
    "#df[\"OA-pdf_url\"] = up[\"best_oa_location.url_for_pdf\"]"
   ]
  },
  {
   "cell_type": "code",
   "execution_count": 1,
   "id": "7e0a48e7",
   "metadata": {},
   "outputs": [
    {
     "ename": "NameError",
     "evalue": "name 'data' is not defined",
     "output_type": "error",
     "traceback": [
      "\u001b[1;31m---------------------------------------------------------------------------\u001b[0m",
      "\u001b[1;31mNameError\u001b[0m                                 Traceback (most recent call last)",
      "\u001b[1;32mC:\\Users\\ANDREM~1\\AppData\\Local\\Temp/ipykernel_9860/3418008062.py\u001b[0m in \u001b[0;36m<module>\u001b[1;34m\u001b[0m\n\u001b[1;32m----> 1\u001b[1;33m \u001b[0mprint\u001b[0m\u001b[1;33m(\u001b[0m\u001b[0mlen\u001b[0m\u001b[1;33m(\u001b[0m\u001b[0mdata\u001b[0m\u001b[1;33m)\u001b[0m\u001b[1;33m)\u001b[0m\u001b[1;33m\u001b[0m\u001b[1;33m\u001b[0m\u001b[0m\n\u001b[0m\u001b[0;32m      2\u001b[0m \u001b[0msns\u001b[0m\u001b[1;33m.\u001b[0m\u001b[0mhistplot\u001b[0m\u001b[1;33m(\u001b[0m\u001b[0mdata\u001b[0m\u001b[1;33m[\u001b[0m\u001b[1;34m\"pubYear\"\u001b[0m\u001b[1;33m]\u001b[0m\u001b[1;33m,\u001b[0m\u001b[0mbins\u001b[0m\u001b[1;33m=\u001b[0m\u001b[0mlist\u001b[0m\u001b[1;33m(\u001b[0m\u001b[0mrange\u001b[0m\u001b[1;33m(\u001b[0m\u001b[1;36m2004\u001b[0m\u001b[1;33m,\u001b[0m\u001b[1;36m2023\u001b[0m\u001b[1;33m)\u001b[0m\u001b[1;33m)\u001b[0m\u001b[1;33m)\u001b[0m\u001b[1;33m\u001b[0m\u001b[1;33m\u001b[0m\u001b[0m\n",
      "\u001b[1;31mNameError\u001b[0m: name 'data' is not defined"
     ]
    }
   ],
   "source": [
    "print(len(data))\n",
    "sns.histplot(data[\"pubYear\"],bins=list(range(2004,2023)))"
   ]
  },
  {
   "cell_type": "code",
   "execution_count": 16,
   "id": "10604348",
   "metadata": {},
   "outputs": [],
   "source": [
    "#identifier\n",
    "#obj[\"record\"][\"dynamic_data\"][\"cluster_related\"][\"identifiers\"][\"identifier\"]\n",
    "\n",
    "#WOSID \n",
    "#obj[\"record\"][\"UID\"][4:]\n",
    "\n",
    "#'find if this is an article\n",
    "#obj[\"record\"][\"static_data\"][\"summary\"][\"doctypes\"][\"doctype\"]\n",
    "\n",
    "#find publication title\n",
    "#obj[\"record\"][\"static_data\"][\"summary\"][\"titles\"][\"title\"][-1][\"content\"]\n",
    "\n",
    "#find journal title\n",
    "#obj[\"record\"][\"static_data\"][\"summary\"][\"titles\"][\"title\"][0][\"content\"]\n",
    "\n",
    "#find publisher (elsevier, nature, etc)\n",
    "#obj[\"record\"][\"static_data\"][\"summary\"][\"publishers\"][\"publisher\"][\"names\"][\"name\"][\"unified_name\"]\n",
    "\n",
    "#get publication year\n",
    "#obj[\"record\"][\"static_data\"][\"summary\"][\"pub_info\"][\"pubyear\"]\n",
    "\n",
    "#find area (still requires more code to systematically extract all categories)\n",
    "#obj[\"record\"][\"static_data\"][\"fullrecord_metadata\"][\"category_info\"][\"subheadings\"]"
   ]
  },
  {
   "cell_type": "markdown",
   "id": "f7d2bf18",
   "metadata": {},
   "source": [
    "### plot for the paper:\n",
    "- number of papers in OSH over years\n",
    "  - divide them per area (using research areas tags)\n",
    "    - Engineering, life sciences, humanities?\n",
    "- quality of the papers - how many fit the OSHWA OSH classification?\n",
    "- Accessibility of the papers - how many are OA?"
   ]
  }
 ],
 "metadata": {
  "kernelspec": {
   "display_name": "Python 3.8.3 ('base')",
   "language": "python",
   "name": "python3"
  },
  "language_info": {
   "codemirror_mode": {
    "name": "ipython",
    "version": 3
   },
   "file_extension": ".py",
   "mimetype": "text/x-python",
   "name": "python",
   "nbconvert_exporter": "python",
   "pygments_lexer": "ipython3",
   "version": "3.8.3"
  },
  "vscode": {
   "interpreter": {
    "hash": "8abf625e542ff33194dd4502f291ce11b7bf8daed732e6d5f31b5a030b27ce17"
   }
  }
 },
 "nbformat": 4,
 "nbformat_minor": 5
}
