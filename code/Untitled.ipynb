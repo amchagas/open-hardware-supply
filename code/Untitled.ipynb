{
 "cells": [
  {
   "cell_type": "markdown",
   "id": "22e83573-93ef-444d-aaeb-67f07279ea5e",
   "metadata": {},
   "source": [
    "### load derived data (json file) into pandas\n",
    "\n",
    "- load data downloaded from WOS"
   ]
  },
  {
   "cell_type": "code",
   "execution_count": 1,
   "id": "863b4be1-a557-4b6f-9454-1f2f418651a0",
   "metadata": {},
   "outputs": [],
   "source": [
    "import pandas as pd\n",
    "import seaborn as sns\n",
    "import matplotlib.pyplot as plt\n",
    "import jsonlines\n",
    "import doi as doiLib"
   ]
  },
  {
   "cell_type": "code",
   "execution_count": 2,
   "id": "41dbce4a-015a-4012-8f84-ed860bffb625",
   "metadata": {},
   "outputs": [],
   "source": [
    "dataPath = \"../data/derived2/\"\n",
    "dataFile = \"records.jsonl\""
   ]
  },
  {
   "cell_type": "code",
   "execution_count": 3,
   "id": "d5e5519b-d14c-4333-a84a-6ea5b6b83ab9",
   "metadata": {},
   "outputs": [],
   "source": [
    "#test = pd.read_json(path_or_buf=dataPath+dataFile,\n",
    "#                   #orient=\"table\",\n",
    "#                   lines=True,\n",
    "#                   #orient=\"columns\",\n",
    "#                   typ=\"series\"\n",
    "#                   )\n",
    "\n",
    "index = 0\n",
    "\n",
    "#initialData = pd.DataFrame()\n",
    "data = {\"WOSUID\":[],\n",
    "            \"pubTitle\":[],\n",
    "            \"pubYear\":[],\n",
    "            \"pubType\":[],\n",
    "            \"journalTitle\":[],\n",
    "            \"publisher\":[],\n",
    "            \"area\":[],\n",
    "            \"areaCount\":[],\n",
    "            \"identifier\":[],\n",
    "            \"keywords\":[],\n",
    "            \"abstract\":[],\n",
    "            \"doi\":[],\n",
    "            \"url\":[],\n",
    "            #\"issn\":[],\n",
    "                   }\n",
    "with jsonlines.open(dataPath+dataFile) as reader:   \n",
    "    for obj in reader:\n",
    "        if index<10000000:\n",
    "            try:\n",
    "                wosID = obj[\"record\"][\"UID\"][4:]\n",
    "            except KeyError:\n",
    "                wosID = None\n",
    "            data[\"WOSUID\"].append(wosID)\n",
    "            data[\"pubTitle\"].append(obj[\"record\"][\"static_data\"][\"summary\"][\"titles\"][\"title\"][-1][\"content\"])\n",
    "            data[\"pubYear\"].append(obj[\"record\"][\"static_data\"][\"summary\"][\"pub_info\"][\"pubyear\"])\n",
    "            data[\"pubType\"].append(obj[\"record\"][\"static_data\"][\"summary\"][\"doctypes\"][\"doctype\"])\n",
    "            data[\"journalTitle\"].append(obj[\"record\"][\"static_data\"][\"summary\"][\"titles\"][\"title\"][0][\"content\"])\n",
    "                \n",
    "            try:\n",
    "                publisher = obj[\"record\"][\"static_data\"][\"summary\"][\"publishers\"][\"publisher\"][\"names\"][\"name\"][\"unified_name\"]\n",
    "            except KeyError:\n",
    "                publisher = None\n",
    "                \n",
    "            data[\"publisher\"].append(publisher)\n",
    "            try:\n",
    "                areaCount = obj[\"record\"][\"static_data\"][\"fullrecord_metadata\"][\"category_info\"][\"subheadings\"][\"count\"]\n",
    "                \n",
    "            except KeyError:\n",
    "                areaCount = None\n",
    "            data[\"areaCount\"].append(areaCount)\n",
    "            \n",
    "            try:\n",
    "                area = obj[\"record\"][\"static_data\"][\"fullrecord_metadata\"][\"category_info\"][\"subheadings\"][\"subheading\"]\n",
    "                \n",
    "            except KeyError:\n",
    "                area = None\n",
    "            data[\"area\"].append(area)\n",
    "            \n",
    "            data[\"identifier\"].append(obj[\"record\"][\"dynamic_data\"][\"cluster_related\"][\"identifiers\"][\"identifier\"])\n",
    "            \n",
    "            try:\n",
    "                keyword = obj[\"record\"][\"static_data\"][\"fullrecord_metadata\"][\"keywords\"][\"keyword\"]\n",
    "            except KeyError:\n",
    "                keyword = None\n",
    "            data[\"keywords\"].append(keyword)\n",
    "\n",
    "            try:\n",
    "                abstract = obj[\"record\"][\"static_data\"][\"fullrecord_metadata\"][\"abstracts\"][\"abstract\"][\"abstract_text\"][\"p\"]\n",
    "            except KeyError:\n",
    "                abstract = None\n",
    "            \n",
    "            data[\"abstract\"].append(abstract)\n",
    "            \n",
    "\n",
    "            #doi = None\n",
    "            #url = None\n",
    "            #print(index)\n",
    "            for item in obj[\"record\"][\"dynamic_data\"][\"cluster_related\"][\"identifiers\"][\"identifier\"]:\n",
    "                try:\n",
    "                    if item[\"type\"]==\"doi\" or item[\"type\"]==\"xref_doi\":    \n",
    "                        doi = item[\"value\"]\n",
    "                except TypeError:\n",
    "                    doi=None\n",
    "            data[\"doi\"].append(doi)\n",
    "\n",
    "            try:\n",
    "                url = doiLib.get_real_url_from_doi(doi)\n",
    "            \n",
    "            except ValueError:\n",
    "                url=None\n",
    "\n",
    "            data[\"url\"].append(url)\n",
    "\n",
    "            \n",
    "        index=index+1\n"
   ]
  },
  {
   "cell_type": "code",
   "execution_count": 4,
   "id": "d4b0fa7b-4e03-4c51-9148-d7bb57840dc9",
   "metadata": {},
   "outputs": [],
   "source": [
    "df = pd.DataFrame.from_dict(data)\n",
    "#df\n",
    "articles = df[df[\"pubType\"]==\"Article\"]\n"
   ]
  },
  {
   "cell_type": "code",
   "execution_count": 5,
   "id": "907421f4",
   "metadata": {},
   "outputs": [
    {
     "name": "stdout",
     "output_type": "stream",
     "text": [
      "2601\n",
      "2601\n",
      "2601\n",
      "2601\n",
      "2601\n",
      "2601\n",
      "2601\n",
      "2601\n",
      "2601\n",
      "2601\n",
      "2601\n",
      "2601\n",
      "2601\n"
     ]
    }
   ],
   "source": [
    "for key in data.keys():\n",
    "    print(len(data[key]))"
   ]
  },
  {
   "cell_type": "code",
   "execution_count": 8,
   "id": "6288a241",
   "metadata": {},
   "outputs": [],
   "source": [
    "articles.to_json(dataPath+\"articles.json\")"
   ]
  },
  {
   "cell_type": "code",
   "execution_count": 9,
   "id": "502af21a",
   "metadata": {},
   "outputs": [
    {
     "ename": "ValueError",
     "evalue": "HTTP 404: DOI not found",
     "output_type": "error",
     "traceback": [
      "\u001b[0;31m---------------------------------------------------------------------------\u001b[0m",
      "\u001b[0;31mHTTPError\u001b[0m                                 Traceback (most recent call last)",
      "\u001b[0;32m~/miniconda3/lib/python3.8/site-packages/doi/__init__.py\u001b[0m in \u001b[0;36mvalidate_doi\u001b[0;34m(doi)\u001b[0m\n\u001b[1;32m     54\u001b[0m     \u001b[0;32mtry\u001b[0m\u001b[0;34m:\u001b[0m\u001b[0;34m\u001b[0m\u001b[0;34m\u001b[0m\u001b[0m\n\u001b[0;32m---> 55\u001b[0;31m         \u001b[0mresult\u001b[0m \u001b[0;34m=\u001b[0m \u001b[0mjson\u001b[0m\u001b[0;34m.\u001b[0m\u001b[0mloads\u001b[0m\u001b[0;34m(\u001b[0m\u001b[0murllib\u001b[0m\u001b[0;34m.\u001b[0m\u001b[0mrequest\u001b[0m\u001b[0;34m.\u001b[0m\u001b[0murlopen\u001b[0m\u001b[0;34m(\u001b[0m\u001b[0mrequest\u001b[0m\u001b[0;34m)\u001b[0m\u001b[0;34m.\u001b[0m\u001b[0mread\u001b[0m\u001b[0;34m(\u001b[0m\u001b[0;34m)\u001b[0m\u001b[0;34m.\u001b[0m\u001b[0mdecode\u001b[0m\u001b[0;34m(\u001b[0m\u001b[0;34m)\u001b[0m\u001b[0;34m)\u001b[0m\u001b[0;34m\u001b[0m\u001b[0;34m\u001b[0m\u001b[0m\n\u001b[0m\u001b[1;32m     56\u001b[0m     \u001b[0;32mexcept\u001b[0m \u001b[0mHTTPError\u001b[0m\u001b[0;34m:\u001b[0m\u001b[0;34m\u001b[0m\u001b[0;34m\u001b[0m\u001b[0m\n",
      "\u001b[0;32m~/miniconda3/lib/python3.8/urllib/request.py\u001b[0m in \u001b[0;36murlopen\u001b[0;34m(url, data, timeout, cafile, capath, cadefault, context)\u001b[0m\n\u001b[1;32m    221\u001b[0m         \u001b[0mopener\u001b[0m \u001b[0;34m=\u001b[0m \u001b[0m_opener\u001b[0m\u001b[0;34m\u001b[0m\u001b[0;34m\u001b[0m\u001b[0m\n\u001b[0;32m--> 222\u001b[0;31m     \u001b[0;32mreturn\u001b[0m \u001b[0mopener\u001b[0m\u001b[0;34m.\u001b[0m\u001b[0mopen\u001b[0m\u001b[0;34m(\u001b[0m\u001b[0murl\u001b[0m\u001b[0;34m,\u001b[0m \u001b[0mdata\u001b[0m\u001b[0;34m,\u001b[0m \u001b[0mtimeout\u001b[0m\u001b[0;34m)\u001b[0m\u001b[0;34m\u001b[0m\u001b[0;34m\u001b[0m\u001b[0m\n\u001b[0m\u001b[1;32m    223\u001b[0m \u001b[0;34m\u001b[0m\u001b[0m\n",
      "\u001b[0;32m~/miniconda3/lib/python3.8/urllib/request.py\u001b[0m in \u001b[0;36mopen\u001b[0;34m(self, fullurl, data, timeout)\u001b[0m\n\u001b[1;32m    530\u001b[0m             \u001b[0mmeth\u001b[0m \u001b[0;34m=\u001b[0m \u001b[0mgetattr\u001b[0m\u001b[0;34m(\u001b[0m\u001b[0mprocessor\u001b[0m\u001b[0;34m,\u001b[0m \u001b[0mmeth_name\u001b[0m\u001b[0;34m)\u001b[0m\u001b[0;34m\u001b[0m\u001b[0;34m\u001b[0m\u001b[0m\n\u001b[0;32m--> 531\u001b[0;31m             \u001b[0mresponse\u001b[0m \u001b[0;34m=\u001b[0m \u001b[0mmeth\u001b[0m\u001b[0;34m(\u001b[0m\u001b[0mreq\u001b[0m\u001b[0;34m,\u001b[0m \u001b[0mresponse\u001b[0m\u001b[0;34m)\u001b[0m\u001b[0;34m\u001b[0m\u001b[0;34m\u001b[0m\u001b[0m\n\u001b[0m\u001b[1;32m    532\u001b[0m \u001b[0;34m\u001b[0m\u001b[0m\n",
      "\u001b[0;32m~/miniconda3/lib/python3.8/urllib/request.py\u001b[0m in \u001b[0;36mhttp_response\u001b[0;34m(self, request, response)\u001b[0m\n\u001b[1;32m    639\u001b[0m         \u001b[0;32mif\u001b[0m \u001b[0;32mnot\u001b[0m \u001b[0;34m(\u001b[0m\u001b[0;36m200\u001b[0m \u001b[0;34m<=\u001b[0m \u001b[0mcode\u001b[0m \u001b[0;34m<\u001b[0m \u001b[0;36m300\u001b[0m\u001b[0;34m)\u001b[0m\u001b[0;34m:\u001b[0m\u001b[0;34m\u001b[0m\u001b[0;34m\u001b[0m\u001b[0m\n\u001b[0;32m--> 640\u001b[0;31m             response = self.parent.error(\n\u001b[0m\u001b[1;32m    641\u001b[0m                 'http', request, response, code, msg, hdrs)\n",
      "\u001b[0;32m~/miniconda3/lib/python3.8/urllib/request.py\u001b[0m in \u001b[0;36merror\u001b[0;34m(self, proto, *args)\u001b[0m\n\u001b[1;32m    568\u001b[0m             \u001b[0margs\u001b[0m \u001b[0;34m=\u001b[0m \u001b[0;34m(\u001b[0m\u001b[0mdict\u001b[0m\u001b[0;34m,\u001b[0m \u001b[0;34m'default'\u001b[0m\u001b[0;34m,\u001b[0m \u001b[0;34m'http_error_default'\u001b[0m\u001b[0;34m)\u001b[0m \u001b[0;34m+\u001b[0m \u001b[0morig_args\u001b[0m\u001b[0;34m\u001b[0m\u001b[0;34m\u001b[0m\u001b[0m\n\u001b[0;32m--> 569\u001b[0;31m             \u001b[0;32mreturn\u001b[0m \u001b[0mself\u001b[0m\u001b[0;34m.\u001b[0m\u001b[0m_call_chain\u001b[0m\u001b[0;34m(\u001b[0m\u001b[0;34m*\u001b[0m\u001b[0margs\u001b[0m\u001b[0;34m)\u001b[0m\u001b[0;34m\u001b[0m\u001b[0;34m\u001b[0m\u001b[0m\n\u001b[0m\u001b[1;32m    570\u001b[0m \u001b[0;34m\u001b[0m\u001b[0m\n",
      "\u001b[0;32m~/miniconda3/lib/python3.8/urllib/request.py\u001b[0m in \u001b[0;36m_call_chain\u001b[0;34m(self, chain, kind, meth_name, *args)\u001b[0m\n\u001b[1;32m    501\u001b[0m             \u001b[0mfunc\u001b[0m \u001b[0;34m=\u001b[0m \u001b[0mgetattr\u001b[0m\u001b[0;34m(\u001b[0m\u001b[0mhandler\u001b[0m\u001b[0;34m,\u001b[0m \u001b[0mmeth_name\u001b[0m\u001b[0;34m)\u001b[0m\u001b[0;34m\u001b[0m\u001b[0;34m\u001b[0m\u001b[0m\n\u001b[0;32m--> 502\u001b[0;31m             \u001b[0mresult\u001b[0m \u001b[0;34m=\u001b[0m \u001b[0mfunc\u001b[0m\u001b[0;34m(\u001b[0m\u001b[0;34m*\u001b[0m\u001b[0margs\u001b[0m\u001b[0;34m)\u001b[0m\u001b[0;34m\u001b[0m\u001b[0;34m\u001b[0m\u001b[0m\n\u001b[0m\u001b[1;32m    503\u001b[0m             \u001b[0;32mif\u001b[0m \u001b[0mresult\u001b[0m \u001b[0;32mis\u001b[0m \u001b[0;32mnot\u001b[0m \u001b[0;32mNone\u001b[0m\u001b[0;34m:\u001b[0m\u001b[0;34m\u001b[0m\u001b[0;34m\u001b[0m\u001b[0m\n",
      "\u001b[0;32m~/miniconda3/lib/python3.8/urllib/request.py\u001b[0m in \u001b[0;36mhttp_error_default\u001b[0;34m(self, req, fp, code, msg, hdrs)\u001b[0m\n\u001b[1;32m    648\u001b[0m     \u001b[0;32mdef\u001b[0m \u001b[0mhttp_error_default\u001b[0m\u001b[0;34m(\u001b[0m\u001b[0mself\u001b[0m\u001b[0;34m,\u001b[0m \u001b[0mreq\u001b[0m\u001b[0;34m,\u001b[0m \u001b[0mfp\u001b[0m\u001b[0;34m,\u001b[0m \u001b[0mcode\u001b[0m\u001b[0;34m,\u001b[0m \u001b[0mmsg\u001b[0m\u001b[0;34m,\u001b[0m \u001b[0mhdrs\u001b[0m\u001b[0;34m)\u001b[0m\u001b[0;34m:\u001b[0m\u001b[0;34m\u001b[0m\u001b[0;34m\u001b[0m\u001b[0m\n\u001b[0;32m--> 649\u001b[0;31m         \u001b[0;32mraise\u001b[0m \u001b[0mHTTPError\u001b[0m\u001b[0;34m(\u001b[0m\u001b[0mreq\u001b[0m\u001b[0;34m.\u001b[0m\u001b[0mfull_url\u001b[0m\u001b[0;34m,\u001b[0m \u001b[0mcode\u001b[0m\u001b[0;34m,\u001b[0m \u001b[0mmsg\u001b[0m\u001b[0;34m,\u001b[0m \u001b[0mhdrs\u001b[0m\u001b[0;34m,\u001b[0m \u001b[0mfp\u001b[0m\u001b[0;34m)\u001b[0m\u001b[0;34m\u001b[0m\u001b[0;34m\u001b[0m\u001b[0m\n\u001b[0m\u001b[1;32m    650\u001b[0m \u001b[0;34m\u001b[0m\u001b[0m\n",
      "\u001b[0;31mHTTPError\u001b[0m: HTTP Error 404: Not Found",
      "\nDuring handling of the above exception, another exception occurred:\n",
      "\u001b[0;31mValueError\u001b[0m                                Traceback (most recent call last)",
      "\u001b[0;32m<ipython-input-9-f5fc634da78e>\u001b[0m in \u001b[0;36m<module>\u001b[0;34m\u001b[0m\n\u001b[0;32m----> 1\u001b[0;31m \u001b[0murl\u001b[0m \u001b[0;34m=\u001b[0m \u001b[0mdoiLib\u001b[0m\u001b[0;34m.\u001b[0m\u001b[0mget_real_url_from_doi\u001b[0m\u001b[0;34m(\u001b[0m\u001b[0mdoi\u001b[0m\u001b[0;34m)\u001b[0m\u001b[0;34m\u001b[0m\u001b[0;34m\u001b[0m\u001b[0m\n\u001b[0m",
      "\u001b[0;32m~/miniconda3/lib/python3.8/site-packages/doi/__init__.py\u001b[0m in \u001b[0;36mget_real_url_from_doi\u001b[0;34m(doi)\u001b[0m\n\u001b[1;32m    116\u001b[0m     \u001b[0;34m:\u001b[0m\u001b[0mreturns\u001b[0m\u001b[0;34m:\u001b[0m \u001b[0mA\u001b[0m \u001b[0mURL\u001b[0m \u001b[0;32mfor\u001b[0m \u001b[0mthe\u001b[0m \u001b[0mDOI\u001b[0m\u001b[0;34m.\u001b[0m \u001b[0mIf\u001b[0m \u001b[0mthe\u001b[0m \u001b[0mDOI\u001b[0m \u001b[0;32mis\u001b[0m \u001b[0minvalid\u001b[0m\u001b[0;34m,\u001b[0m \u001b[0;32mreturn\u001b[0m\u001b[0;31m \u001b[0m\u001b[0;31m`\u001b[0m\u001b[0;31m`\u001b[0m\u001b[0;32mNone\u001b[0m\u001b[0;31m`\u001b[0m\u001b[0;31m`\u001b[0m\u001b[0;34m.\u001b[0m\u001b[0;34m\u001b[0m\u001b[0;34m\u001b[0m\u001b[0m\n\u001b[1;32m    117\u001b[0m     \"\"\"\n\u001b[0;32m--> 118\u001b[0;31m     \u001b[0murl\u001b[0m \u001b[0;34m=\u001b[0m \u001b[0mvalidate_doi\u001b[0m\u001b[0;34m(\u001b[0m\u001b[0mdoi\u001b[0m\u001b[0;34m)\u001b[0m\u001b[0;34m\u001b[0m\u001b[0;34m\u001b[0m\u001b[0m\n\u001b[0m\u001b[1;32m    119\u001b[0m     \u001b[0;32mif\u001b[0m \u001b[0murl\u001b[0m \u001b[0;32mis\u001b[0m \u001b[0;32mNone\u001b[0m\u001b[0;34m:\u001b[0m\u001b[0;34m\u001b[0m\u001b[0;34m\u001b[0m\u001b[0m\n\u001b[1;32m    120\u001b[0m         \u001b[0;32mreturn\u001b[0m \u001b[0murl\u001b[0m\u001b[0;34m\u001b[0m\u001b[0;34m\u001b[0m\u001b[0m\n",
      "\u001b[0;32m~/miniconda3/lib/python3.8/site-packages/doi/__init__.py\u001b[0m in \u001b[0;36mvalidate_doi\u001b[0;34m(doi)\u001b[0m\n\u001b[1;32m     55\u001b[0m         \u001b[0mresult\u001b[0m \u001b[0;34m=\u001b[0m \u001b[0mjson\u001b[0m\u001b[0;34m.\u001b[0m\u001b[0mloads\u001b[0m\u001b[0;34m(\u001b[0m\u001b[0murllib\u001b[0m\u001b[0;34m.\u001b[0m\u001b[0mrequest\u001b[0m\u001b[0;34m.\u001b[0m\u001b[0murlopen\u001b[0m\u001b[0;34m(\u001b[0m\u001b[0mrequest\u001b[0m\u001b[0;34m)\u001b[0m\u001b[0;34m.\u001b[0m\u001b[0mread\u001b[0m\u001b[0;34m(\u001b[0m\u001b[0;34m)\u001b[0m\u001b[0;34m.\u001b[0m\u001b[0mdecode\u001b[0m\u001b[0;34m(\u001b[0m\u001b[0;34m)\u001b[0m\u001b[0;34m)\u001b[0m\u001b[0;34m\u001b[0m\u001b[0;34m\u001b[0m\u001b[0m\n\u001b[1;32m     56\u001b[0m     \u001b[0;32mexcept\u001b[0m \u001b[0mHTTPError\u001b[0m\u001b[0;34m:\u001b[0m\u001b[0;34m\u001b[0m\u001b[0;34m\u001b[0m\u001b[0m\n\u001b[0;32m---> 57\u001b[0;31m         \u001b[0;32mraise\u001b[0m \u001b[0mValueError\u001b[0m\u001b[0;34m(\u001b[0m\u001b[0;34m'HTTP 404: DOI not found'\u001b[0m\u001b[0;34m)\u001b[0m\u001b[0;34m\u001b[0m\u001b[0;34m\u001b[0m\u001b[0m\n\u001b[0m\u001b[1;32m     58\u001b[0m     \u001b[0;32melse\u001b[0m\u001b[0;34m:\u001b[0m\u001b[0;34m\u001b[0m\u001b[0;34m\u001b[0m\u001b[0m\n\u001b[1;32m     59\u001b[0m         urls = [v['data']['value']\n",
      "\u001b[0;31mValueError\u001b[0m: HTTP 404: DOI not found"
     ]
    }
   ],
   "source": [
    "url = doiLib.get_real_url_from_doi(doi)"
   ]
  },
  {
   "cell_type": "code",
   "execution_count": 85,
   "id": "61ca5aea",
   "metadata": {},
   "outputs": [
    {
     "data": {
      "text/plain": [
       "'http://ieeexplore.ieee.org/document/4484546/'"
      ]
     },
     "execution_count": 85,
     "metadata": {},
     "output_type": "execute_result"
    }
   ],
   "source": []
  },
  {
   "cell_type": "code",
   "execution_count": 20,
   "id": "7e0a48e7",
   "metadata": {},
   "outputs": [
    {
     "data": {
      "text/plain": [
       "<AxesSubplot:xlabel='pubYear', ylabel='Count'>"
      ]
     },
     "execution_count": 20,
     "metadata": {},
     "output_type": "execute_result"
    },
    {
     "data": {
      "image/png": "[encoded data removed]",
      "text/plain": [
       "<Figure size 432x288 with 1 Axes>"
      ]
     },
     "metadata": {
      "needs_background": "light"
     },
     "output_type": "display_data"
    }
   ],
   "source": [
    "sns.histplot(articles[\"pubYear\"],bins=list(range(2000,2025)))"
   ]
  },
  {
   "cell_type": "code",
   "execution_count": 16,
   "id": "10604348",
   "metadata": {},
   "outputs": [],
   "source": [
    "#identifier\n",
    "#obj[\"record\"][\"dynamic_data\"][\"cluster_related\"][\"identifiers\"][\"identifier\"]\n",
    "\n",
    "#WOSID \n",
    "#obj[\"record\"][\"UID\"][4:]\n",
    "\n",
    "#'find if this is an article\n",
    "#obj[\"record\"][\"static_data\"][\"summary\"][\"doctypes\"][\"doctype\"]\n",
    "\n",
    "#find publication title\n",
    "#obj[\"record\"][\"static_data\"][\"summary\"][\"titles\"][\"title\"][-1][\"content\"]\n",
    "\n",
    "#find journal title\n",
    "#obj[\"record\"][\"static_data\"][\"summary\"][\"titles\"][\"title\"][0][\"content\"]\n",
    "\n",
    "#find publisher (elsevier, nature, etc)\n",
    "#obj[\"record\"][\"static_data\"][\"summary\"][\"publishers\"][\"publisher\"][\"names\"][\"name\"][\"unified_name\"]\n",
    "\n",
    "#get publication year\n",
    "#obj[\"record\"][\"static_data\"][\"summary\"][\"pub_info\"][\"pubyear\"]\n",
    "\n",
    "#find area (still requires more code to systematically extract all categories)\n",
    "#obj[\"record\"][\"static_data\"][\"fullrecord_metadata\"][\"category_info\"][\"subheadings\"]"
   ]
  },
  {
   "cell_type": "markdown",
   "id": "f7d2bf18",
   "metadata": {},
   "source": [
    "### plot for the paper:\n",
    "- number of papers in OSH over years\n",
    "  - divide them per area (using research areas tags)\n",
    "    - Engineering, life sciences, humanities?\n",
    "- quality of the papers - how many fit the OSHWA OSH classification?\n",
    "- Accessibility of the papers - how many are OA?"
   ]
  }
 ],
 "metadata": {
  "kernelspec": {
   "display_name": "Python 3",
   "language": "python",
   "name": "python3"
  },
  "language_info": {
   "codemirror_mode": {
    "name": "ipython",
    "version": 3
   },
   "file_extension": ".py",
   "mimetype": "text/x-python",
   "name": "python",
   "nbconvert_exporter": "python",
   "pygments_lexer": "ipython3",
   "version": "3.9.5"
  }
 },
 "nbformat": 4,
 "nbformat_minor": 5
}
