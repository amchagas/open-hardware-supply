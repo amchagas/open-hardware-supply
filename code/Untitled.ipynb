{
 "cells": [
  {
   "cell_type": "markdown",
   "id": "22e83573-93ef-444d-aaeb-67f07279ea5e",
   "metadata": {},
   "source": [
    "### load derived data (json file) into pandas\n",
    "\n",
    "- load data downloaded from WOS"
   ]
  },
  {
   "cell_type": "code",
   "execution_count": 1,
   "id": "863b4be1-a557-4b6f-9454-1f2f418651a0",
   "metadata": {},
   "outputs": [],
   "source": [
    "import pandas as pd\n",
    "import seaborn as sns\n",
    "import matplotlib.pyplot as plt\n",
    "import jsonlines"
   ]
  },
  {
   "cell_type": "code",
   "execution_count": 2,
   "id": "41dbce4a-015a-4012-8f84-ed860bffb625",
   "metadata": {},
   "outputs": [],
   "source": [
    "dataPath = \"../data/derived1/\"\n",
    "dataFile = \"records.jsonl\""
   ]
  },
  {
   "cell_type": "code",
   "execution_count": 15,
   "id": "d5e5519b-d14c-4333-a84a-6ea5b6b83ab9",
   "metadata": {},
   "outputs": [],
   "source": [
    "test = pd.read_json(path_or_buf=dataPath+dataFile,\n",
    "                   #orient=\"table\",\n",
    "                   lines=True,\n",
    "                   #orient=\"columns\",\n",
    "                   typ=\"series\"\n",
    "                   )\n",
    "#data = pd.DataFrame()\n",
    "index = 0\n",
    "with jsonlines.open(dataPath+dataFile) as reader:\n",
    "    \n",
    "    for obj in reader:\n",
    "        if index==0:\n",
    "            #print(obj[\"record\"])\n",
    "            test = pd.Series(obj[\"record\"][\"static_data\"][\"summary\"])\n",
    "            index=1\n",
    "        \n",
    "\n",
    "\n"
   ]
  },
  {
   "cell_type": "code",
   "execution_count": 65,
   "id": "d4b0fa7b-4e03-4c51-9148-d7bb57840dc9",
   "metadata": {},
   "outputs": [
    {
     "data": {
      "text/plain": [
       "'Elsevier'"
      ]
     },
     "execution_count": 65,
     "metadata": {},
     "output_type": "execute_result"
    }
   ],
   "source": [
    "#'find if this is an article\n",
    "#obj[\"record\"][\"static_data\"][\"summary\"][\"doctypes\"][\"doctype\"]\n",
    "\n",
    "#find publication title\n",
    "#obj[\"record\"][\"static_data\"][\"summary\"][\"titles\"][\"title\"][-1][\"content\"]\n",
    "\n",
    "#find journal title\n",
    "#obj[\"record\"][\"static_data\"][\"summary\"][\"titles\"][\"title\"][0][\"content\"]\n",
    "\n",
    "#find publisher (elsevier, nature, etc)\n",
    "#obj[\"record\"][\"static_data\"][\"summary\"][\"publishers\"][\"publisher\"][\"names\"][\"name\"][\"unified_name\"]\n",
    "\n"
   ]
  },
  {
   "cell_type": "markdown",
   "id": "f7d2bf18",
   "metadata": {},
   "source": [
    "### plot for the paper:\n",
    "- number of papers in OSH over years\n",
    "  - divide them per area (using research areas tags)\n",
    "    - Engineering, life sciences, humanities?\n",
    "- quality of the papers - how many fit the OSHWA OSH classification?\n",
    "- Accessibility of the papers - how many are OA?"
   ]
  }
 ],
 "metadata": {
  "kernelspec": {
   "display_name": "Python 3",
   "language": "python",
   "name": "python3"
  },
  "language_info": {
   "codemirror_mode": {
    "name": "ipython",
    "version": 3
   },
   "file_extension": ".py",
   "mimetype": "text/x-python",
   "name": "python",
   "nbconvert_exporter": "python",
   "pygments_lexer": "ipython3",
   "version": "3.8.3"
  }
 },
 "nbformat": 4,
 "nbformat_minor": 5
}
