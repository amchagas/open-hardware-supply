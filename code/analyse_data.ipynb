{
 "cells": [
  {
   "cell_type": "markdown",
   "metadata": {},
   "source": [
    "### notebook for data analysis\n",
    "\n",
    "#### plots for the paper:\n",
    "- number of papers in OSH over years\n",
    "  - divide them per area (using research areas tags)\n",
    "    - Engineering, life sciences, humanities?\n",
    "- quality of the papers - use the open'o'metre plus if papers are open access or not\n",
    "- Accessibility of the papers - how many are OA?\n",
    "\n"
   ]
  },
  {
   "cell_type": "code",
   "execution_count": 1,
   "metadata": {},
   "outputs": [],
   "source": [
    "import pandas as pd\n",
    "import seaborn as sns\n",
    "from matplotlib import pyplot as plt\n",
    "from unpywall.utils import UnpywallCredentials\n",
    "from unpywall import Unpywall"
   ]
  },
  {
   "cell_type": "code",
   "execution_count": 2,
   "metadata": {},
   "outputs": [],
   "source": [
    "dataPath = \"../data/derived2/\"\n",
    "dataFile = \"articles.json\"\n",
    "data = pd.read_json(dataPath+dataFile)"
   ]
  },
  {
   "cell_type": "code",
   "execution_count": 3,
   "metadata": {},
   "outputs": [],
   "source": [
    "with open(\"email\") as fid:\n",
    "    UnpywallCredentials(fid.readline())\n"
   ]
  },
  {
   "cell_type": "code",
   "execution_count": 4,
   "metadata": {},
   "outputs": [
    {
     "name": "stderr",
     "output_type": "stream",
     "text": [
      "/home/andre/miniconda3/lib/python3.8/site-packages/unpywall/cache.py:203: UserWarning: Could not download doi: 10.3233/978-1-61499-484-8-631\n",
      "  warnings.warn('Could not download doi: {}'.format(doi))\n",
      "/home/andre/miniconda3/lib/python3.8/site-packages/unpywall/cache.py:203: UserWarning: Could not download doi: 10.18690/18557147.7.2.139-159(2015)\n",
      "  warnings.warn('Could not download doi: {}'.format(doi))\n",
      "/home/andre/miniconda3/lib/python3.8/site-packages/unpywall/cache.py:203: UserWarning: Could not download doi: 10.1504/IJSNET.2016.076858\n",
      "  warnings.warn('Could not download doi: {}'.format(doi))\n",
      "/home/andre/miniconda3/lib/python3.8/site-packages/unpywall/cache.py:203: UserWarning: Could not download doi: 10.13128/Aestimum-20454\n",
      "  warnings.warn('Could not download doi: {}'.format(doi))\n",
      "/home/andre/miniconda3/lib/python3.8/site-packages/unpywall/cache.py:203: UserWarning: Could not download doi: 10.18421/TEM64-02\n",
      "  warnings.warn('Could not download doi: {}'.format(doi))\n",
      "/home/andre/miniconda3/lib/python3.8/site-packages/unpywall/cache.py:203: UserWarning: Could not download doi: 10.4314/jfas.v9i7s.88\n",
      "  warnings.warn('Could not download doi: {}'.format(doi))\n",
      "/home/andre/miniconda3/lib/python3.8/site-packages/unpywall/cache.py:203: UserWarning: Could not download doi: 10.5277/ABB-01132-2018-02\n",
      "  warnings.warn('Could not download doi: {}'.format(doi))\n",
      "/home/andre/miniconda3/lib/python3.8/site-packages/unpywall/cache.py:203: UserWarning: Could not download doi: 10.6531/JFS.201812_23(2).0005\n",
      "  warnings.warn('Could not download doi: {}'.format(doi))\n",
      "/home/andre/miniconda3/lib/python3.8/site-packages/unpywall/cache.py:203: UserWarning: Could not download doi: 10.1504/IJSAMI.2019.101375\n",
      "  warnings.warn('Could not download doi: {}'.format(doi))\n"
     ]
    }
   ],
   "source": [
    "upArticles = Unpywall.doi(dois=list(data[\"doi\"].dropna()),errors=\"ignore\")"
   ]
  },
  {
   "cell_type": "code",
   "execution_count": 6,
   "metadata": {},
   "outputs": [],
   "source": [
    "upArticles.to_json(dataPath+\"unpaywall.json\")\n"
   ]
  },
  {
   "cell_type": "code",
   "execution_count": 7,
   "metadata": {},
   "outputs": [],
   "source": [
    "areas = data[\"area\"]\n",
    "flatAreas=list()\n",
    "for items in areas:\n",
    "    if type(items) is list:\n",
    "        for item in items:\n",
    "            flatAreas.append(item)\n",
    "    elif items==None:\n",
    "        flatAreas.append(None)\n",
    "    else:\n",
    "        flatAreas.append(items)"
   ]
  },
  {
   "cell_type": "code",
   "execution_count": 9,
   "metadata": {},
   "outputs": [
    {
     "data": {
      "text/plain": [
       "<AxesSubplot:>"
      ]
     },
     "execution_count": 9,
     "metadata": {},
     "output_type": "execute_result"
    },
    {
     "data": {
      "image/png": "[encoded data removed]",
      "text/plain": [
       "<Figure size 1440x432 with 3 Axes>"
      ]
     },
     "metadata": {
      "needs_background": "light"
     },
     "output_type": "display_data"
    }
   ],
   "source": [
    "fh = plt.figure(figsize=(20,6))\n",
    "#fh.size()\n",
    "plt.subplot(3,3,1)\n",
    "pd.Series(flatAreas).hist()\n",
    "plt.subplot(3,3,2)\n",
    "data[\"pubYear\"].hist()\n",
    "plt.subplot(3,3,3)\n",
    "data[\"pubYear\"].hist()\n"
   ]
  },
  {
   "cell_type": "code",
   "execution_count": 11,
   "metadata": {},
   "outputs": [
    {
     "data": {
      "text/plain": [
       "1122"
      ]
     },
     "execution_count": 11,
     "metadata": {},
     "output_type": "execute_result"
    }
   ],
   "source": [
    "len(data)"
   ]
  },
  {
   "cell_type": "code",
   "execution_count": null,
   "metadata": {},
   "outputs": [],
   "source": []
  }
 ],
 "metadata": {
  "interpreter": {
   "hash": "8abf625e542ff33194dd4502f291ce11b7bf8daed732e6d5f31b5a030b27ce17"
  },
  "kernelspec": {
   "display_name": "Python 3.8.3 ('base')",
   "language": "python",
   "name": "python3"
  },
  "language_info": {
   "codemirror_mode": {
    "name": "ipython",
    "version": 3
   },
   "file_extension": ".py",
   "mimetype": "text/x-python",
   "name": "python",
   "nbconvert_exporter": "python",
   "pygments_lexer": "ipython3",
   "version": "3.8.3"
  },
  "orig_nbformat": 4
 },
 "nbformat": 4,
 "nbformat_minor": 2
}
