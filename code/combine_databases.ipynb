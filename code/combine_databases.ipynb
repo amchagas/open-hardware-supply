{
 "cells": [
  {
   "cell_type": "markdown",
   "metadata": {},
   "source": [
    "Code to remove duplicates that appear after combining different databases (Web of Science, Scopus, Scielo, etc).\n",
    "This is part of the project described in <https://github.com/amchagas/OSH_papers_DB>, check the project readme for more details."
   ]
  },
  {
   "cell_type": "code",
   "execution_count": 1,
   "metadata": {},
   "outputs": [],
   "source": [
    "#import necessary libraries\n",
    "import os\n",
    "import pandas as pd\n",
    "import seaborn as sns\n",
    "import bibtexparser\n",
    "import matplotlib.pyplot as plt\n"
   ]
  },
  {
   "cell_type": "code",
   "execution_count": 2,
   "metadata": {},
   "outputs": [],
   "source": [
    "#databases output path\n",
    "dataPath = \"../data/\"\n",
    "scopusPath = \"scopus.bib\"\n",
    "wos1Path = \"wos_1to500.bib\"\n",
    "wos2Path = \"wos_501to835.bib\"\n",
    "scieloPath = \"scielo.bib\"\n",
    "\n",
    "#path to store figures\n",
    "outputPath = \"../figures/\""
   ]
  },
  {
   "cell_type": "markdown",
   "metadata": {},
   "source": [
    "## notes on similarities and differences between the databases\n",
    "\n",
    "### Document_type vs type\n",
    "\n",
    "- Scopus sets \"document_types\" as a column, indicating Articles, proceedings, etc\n",
    "- Web of Science sets this column as \"type\".\n",
    "\n",
    "**Because of the above, we set Scopus to \"type\" so there aren't two columns with the same kind of data on the joint panda dataframe**"
   ]
  },
  {
   "cell_type": "code",
   "execution_count": 3,
   "metadata": {},
   "outputs": [],
   "source": [
    "# Open Scopus database\n",
    "\n",
    "with open(dataPath+scopusPath) as scopusFile:\n",
    "    scopusDatabase = bibtexparser.load(scopusFile)\n",
    "\n",
    "scData = pd.DataFrame(scopusDatabase.entries)\n",
    "scData = scData.rename(columns={\"document_type\": \"type\"})\n",
    "scData.to_csv(dataPath+\"scData.csv\")\n",
    "\n",
    "\n",
    "\n"
   ]
  },
  {
   "cell_type": "code",
   "execution_count": 4,
   "metadata": {},
   "outputs": [],
   "source": [
    "#Open Web of Science database\n",
    "\n",
    "with open(dataPath+wos1Path) as wosFile1:\n",
    "    wosDatabase = bibtexparser.load(wosFile1)\n",
    "wosData1 = pd.DataFrame(wosDatabase.entries)\n",
    "\n",
    "with open(dataPath+wos2Path) as wosFile2:\n",
    "    wosDatabase = bibtexparser.load(wosFile2)\n",
    "wosData2 = pd.DataFrame(wosDatabase.entries)\n",
    "\n",
    "wosData = pd.concat([wosData1,wosData2], axis=0, join='outer', ignore_index=True, keys=None,\n",
    "          levels=None, names=None, verify_integrity=False, copy=True,sort=False)\n",
    "\n",
    "wosData.to_csv(dataPath+\"wos.csv\")"
   ]
  },
  {
   "cell_type": "code",
   "execution_count": 5,
   "metadata": {},
   "outputs": [],
   "source": [
    "#join all databases\n",
    "allData = pd.concat([wosData,scData], axis=0, join='outer', ignore_index=True, keys=None,\n",
    "          levels=None, names=None, verify_integrity=False, copy=True,sort=False)\n",
    "\n",
    "#web of science exports data with {} on every entry. \n",
    "# so the next lines clean it up.\n",
    "for key in allData.keys():\n",
    "    allData[key]=allData[key].str.replace(\"{\",\"\")\n",
    "    allData[key]=allData[key].str.replace(\"}\",\"\")\n",
    "\n",
    "#convert the year string type to int (making it easier to plot histograms)\n",
    "allData.year = allData.year.astype(int)\n",
    "\n",
    "allData.to_csv(dataPath+\"allData.csv\")"
   ]
  },
  {
   "cell_type": "code",
   "execution_count": 6,
   "metadata": {},
   "outputs": [
    {
     "data": {
      "text/plain": [
       "508"
      ]
     },
     "execution_count": 6,
     "metadata": {},
     "output_type": "execute_result"
    }
   ],
   "source": [
    "len(set(allData.journal[allData.type==\"Article\"]))"
   ]
  },
  {
   "cell_type": "code",
   "execution_count": 31,
   "metadata": {},
   "outputs": [
    {
     "name": "stdout",
     "output_type": "stream",
     "text": [
      "\n",
      "number of articles: 805\n",
      "\n"
     ]
    },
    {
     "data": {
      "image/png": "[encoded data removed]",
      "text/plain": [
       "<Figure size 432x288 with 1 Axes>"
      ]
     },
     "metadata": {
      "needs_background": "light"
     },
     "output_type": "display_data"
    }
   ],
   "source": [
    "\n",
    "fHandle = allData.year[allData.type==\"Article\"].plot(kind=\"hist\",\n",
    "                 fontsize=18,\n",
    "                 bins=list(set(allData.year+0.5)),\n",
    "                 rwidth=0.65,\n",
    "                # color=\"blue\",\n",
    "                )\n",
    "fHandle.set(xlabel=\"Year\")\n",
    "fHandle.axes.xaxis.set_label_text(label=\"year\",fontsize=18)\n",
    "fHandle.axes.yaxis.set_label_text(label=\"count\",fontsize=18)\n",
    "fHandle.legend([\"N = \" + str(len(allData.year[allData.type==\"Article\"]))])\n",
    "#fHandle.suptitle(\"test\")\n",
    "\n",
    "fHandle.figure.savefig(outputPath+ \"test.png\")\n",
    "\n",
    "\n",
    "print(\"\\n\"+\"number of articles: \" + str(len(allData.year[allData.type==\"Article\"]))+ \"\\n\")\n"
   ]
  },
  {
   "cell_type": "code",
   "execution_count": 28,
   "metadata": {},
   "outputs": [
    {
     "ename": "TypeError",
     "evalue": "'Text' object is not callable",
     "output_type": "error",
     "traceback": [
      "\u001b[0;31m---------------------------------------------------------------------------\u001b[0m",
      "\u001b[0;31mTypeError\u001b[0m                                 Traceback (most recent call last)",
      "\u001b[0;32m<ipython-input-28-89ac1ac77753>\u001b[0m in \u001b[0;36m<module>\u001b[0;34m\u001b[0m\n\u001b[0;32m----> 1\u001b[0;31m \u001b[0mfHandle\u001b[0m\u001b[0;34m.\u001b[0m\u001b[0mtitle\u001b[0m\u001b[0;34m(\u001b[0m\u001b[0mtext\u001b[0m\u001b[0;34m=\u001b[0m\u001b[0;34m\"test\"\u001b[0m\u001b[0;34m)\u001b[0m\u001b[0;34m\u001b[0m\u001b[0;34m\u001b[0m\u001b[0m\n\u001b[0m",
      "\u001b[0;31mTypeError\u001b[0m: 'Text' object is not callable"
     ]
    }
   ],
   "source": []
  },
  {
   "cell_type": "code",
   "execution_count": 10,
   "metadata": {},
   "outputs": [
    {
     "data": {
      "text/plain": [
       "{'Chinese',\n",
       " 'English',\n",
       " 'English; Portuguese',\n",
       " 'English; Spanish',\n",
       " 'German',\n",
       " 'Italian',\n",
       " 'Korean',\n",
       " 'Portuguese',\n",
       " 'Spanish',\n",
       " 'Turkish'}"
      ]
     },
     "execution_count": 10,
     "metadata": {},
     "output_type": "execute_result"
    }
   ],
   "source": [
    "set(scData.language)"
   ]
  },
  {
   "cell_type": "code",
   "execution_count": null,
   "metadata": {},
   "outputs": [],
   "source": []
  },
  {
   "cell_type": "code",
   "execution_count": null,
   "metadata": {},
   "outputs": [],
   "source": []
  }
 ],
 "metadata": {
  "kernelspec": {
   "display_name": "Python 3.7.4 64-bit ('base': conda)",
   "language": "python",
   "name": "python37464bitbaseconda3137f1b708d1463a910c69908fb66bfe"
  },
  "language_info": {
   "codemirror_mode": {
    "name": "ipython",
    "version": 3
   },
   "file_extension": ".py",
   "mimetype": "text/x-python",
   "name": "python",
   "nbconvert_exporter": "python",
   "pygments_lexer": "ipython3",
   "version": "3.7.4"
  }
 },
 "nbformat": 4,
 "nbformat_minor": 4
}
