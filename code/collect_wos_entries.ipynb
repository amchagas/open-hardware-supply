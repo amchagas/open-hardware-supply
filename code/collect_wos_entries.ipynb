{
 "cells": [
  {
   "cell_type": "markdown",
   "id": "3db0741c",
   "metadata": {},
   "source": [
    "## Collect WOS data using api and entries from Scrappy:\n"
   ]
  },
  {
   "cell_type": "code",
   "execution_count": 1,
   "id": "4d97ba89",
   "metadata": {},
   "outputs": [],
   "source": [
    "import get_wos_records_from_api as gwr"
   ]
  },
  {
   "cell_type": "code",
   "execution_count": 2,
   "id": "375c515d",
   "metadata": {},
   "outputs": [],
   "source": [
    "source_files =  gwr.DATA_PATHS \n",
    "output_dir =\"./test_wos\"\n",
    "with open(\"wos_api\") as fh:\n",
    "    api_key = fh.readline()\n",
    "\n"
   ]
  },
  {
   "cell_type": "code",
   "execution_count": 3,
   "id": "41271c50",
   "metadata": {},
   "outputs": [],
   "source": [
    "\n",
    "wosTtr = gwr.TitlesToRecords(source_files,output_dir,api_key)\n"
   ]
  },
  {
   "cell_type": "code",
   "execution_count": 4,
   "id": "e6f360db",
   "metadata": {},
   "outputs": [
    {
     "name": "stderr",
     "output_type": "stream",
     "text": [
      "  0%|          | 0/1 [00:00<?, ?it/s]"
     ]
    }
   ],
   "source": [
    "wosTtr.download_records()"
   ]
  },
  {
   "cell_type": "code",
   "execution_count": 6,
   "id": "0fea7b2c",
   "metadata": {},
   "outputs": [
    {
     "data": {
      "text/plain": [
       "PosixPath('test_wos')"
      ]
     },
     "execution_count": 6,
     "metadata": {},
     "output_type": "execute_result"
    }
   ],
   "source": [
    "wosTtr.store"
   ]
  },
  {
   "cell_type": "code",
   "execution_count": null,
   "id": "291b250a",
   "metadata": {},
   "outputs": [],
   "source": []
  }
 ],
 "metadata": {
  "interpreter": {
   "hash": "ecf5722fdaf1897a315d257d89d94520bfcaa453217d5becf09b39e73618b0de"
  },
  "kernelspec": {
   "display_name": "Python 3.9.5 64-bit ('base': conda)",
   "name": "python3"
  },
  "language_info": {
   "codemirror_mode": {
    "name": "ipython",
    "version": 3
   },
   "file_extension": ".py",
   "mimetype": "text/x-python",
   "name": "python",
   "nbconvert_exporter": "python",
   "pygments_lexer": "ipython3",
   "version": "3.8.3"
  }
 },
 "nbformat": 4,
 "nbformat_minor": 5
}
