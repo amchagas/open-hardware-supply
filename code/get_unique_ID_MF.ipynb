{
 "cells": [
  {
   "cell_type": "code",
   "execution_count": 1,
   "metadata": {},
   "outputs": [],
   "source": [
    "#import necessary libraries\n",
    "import os\n",
    "import pandas as pd\n",
    "import seaborn as sns\n",
    "import bibtexparser\n",
    "import matplotlib.pyplot as plt"
   ]
  },
  {
   "cell_type": "code",
   "execution_count": 2,
   "metadata": {},
   "outputs": [],
   "source": [
    "#databases output path\n",
    "dataPath = \"../data/\""
   ]
  },
  {
   "cell_type": "code",
   "execution_count": 3,
   "metadata": {},
   "outputs": [
    {
     "name": "stdout",
     "output_type": "stream",
     "text": [
      "combine_databases.ipynb   dois.csv                  \u001b[34mold_code\u001b[m\u001b[m/\r\n",
      "convert_pdf_into_text.py  get_unique_ID_MF.ipynb    pubmed_ids.csv\r\n",
      "\u001b[34mdefault\u001b[m\u001b[m/                  kumbol_2018.pdf           test.py\r\n"
     ]
    }
   ],
   "source": [
    "ls"
   ]
  },
  {
   "cell_type": "code",
   "execution_count": 4,
   "metadata": {},
   "outputs": [
    {
     "data": {
      "text/html": [
       "<div>\n",
       "<style scoped>\n",
       "    .dataframe tbody tr th:only-of-type {\n",
       "        vertical-align: middle;\n",
       "    }\n",
       "\n",
       "    .dataframe tbody tr th {\n",
       "        vertical-align: top;\n",
       "    }\n",
       "\n",
       "    .dataframe thead th {\n",
       "        text-align: right;\n",
       "    }\n",
       "</style>\n",
       "<table border=\"1\" class=\"dataframe\">\n",
       "  <thead>\n",
       "    <tr style=\"text-align: right;\">\n",
       "      <th></th>\n",
       "      <th>Unnamed: 0</th>\n",
       "      <th>da</th>\n",
       "      <th>unique-id</th>\n",
       "      <th>doc-delivery-number</th>\n",
       "      <th>journal-iso</th>\n",
       "      <th>usage-count-since-2013</th>\n",
       "      <th>usage-count-last-180-days</th>\n",
       "      <th>times-cited</th>\n",
       "      <th>number-of-cited-references</th>\n",
       "      <th>author-email</th>\n",
       "      <th>...</th>\n",
       "      <th>book-author</th>\n",
       "      <th>source</th>\n",
       "      <th>abbrev_source_title</th>\n",
       "      <th>pubmed_id</th>\n",
       "      <th>correspondence_address1</th>\n",
       "      <th>url</th>\n",
       "      <th>art_number</th>\n",
       "      <th>coden</th>\n",
       "      <th>author_keywords</th>\n",
       "      <th>page_count</th>\n",
       "    </tr>\n",
       "  </thead>\n",
       "  <tbody>\n",
       "    <tr>\n",
       "      <th>0</th>\n",
       "      <td>0</td>\n",
       "      <td>2020-04-29</td>\n",
       "      <td>ISI:000516600700006</td>\n",
       "      <td>KQ0DN</td>\n",
       "      <td>Crit. Rev. Biotechnol.</td>\n",
       "      <td>7.0</td>\n",
       "      <td>7.0</td>\n",
       "      <td>0.0</td>\n",
       "      <td>59.0</td>\n",
       "      <td>anadra@qi.fcen.uba.ar\\nprodriguez@sociales.uba...</td>\n",
       "      <td>...</td>\n",
       "      <td>NaN</td>\n",
       "      <td>NaN</td>\n",
       "      <td>NaN</td>\n",
       "      <td>NaN</td>\n",
       "      <td>NaN</td>\n",
       "      <td>NaN</td>\n",
       "      <td>NaN</td>\n",
       "      <td>NaN</td>\n",
       "      <td>NaN</td>\n",
       "      <td>NaN</td>\n",
       "    </tr>\n",
       "    <tr>\n",
       "      <th>1</th>\n",
       "      <td>1</td>\n",
       "      <td>2020-04-29</td>\n",
       "      <td>ISI:000517856500057</td>\n",
       "      <td>KR8HL</td>\n",
       "      <td>Renew. Energy</td>\n",
       "      <td>1.0</td>\n",
       "      <td>1.0</td>\n",
       "      <td>0.0</td>\n",
       "      <td>33.0</td>\n",
       "      <td>javier.bonilla@psa.es</td>\n",
       "      <td>...</td>\n",
       "      <td>NaN</td>\n",
       "      <td>NaN</td>\n",
       "      <td>NaN</td>\n",
       "      <td>NaN</td>\n",
       "      <td>NaN</td>\n",
       "      <td>NaN</td>\n",
       "      <td>NaN</td>\n",
       "      <td>NaN</td>\n",
       "      <td>NaN</td>\n",
       "      <td>NaN</td>\n",
       "    </tr>\n",
       "    <tr>\n",
       "      <th>2</th>\n",
       "      <td>2</td>\n",
       "      <td>2020-04-29</td>\n",
       "      <td>ISI:000525271500201</td>\n",
       "      <td>LC4CE</td>\n",
       "      <td>Sensors</td>\n",
       "      <td>0.0</td>\n",
       "      <td>0.0</td>\n",
       "      <td>0.0</td>\n",
       "      <td>32.0</td>\n",
       "      <td>florian.tschopp@mavt.ethz.ch\\nmichael.riner-ku...</td>\n",
       "      <td>...</td>\n",
       "      <td>NaN</td>\n",
       "      <td>NaN</td>\n",
       "      <td>NaN</td>\n",
       "      <td>NaN</td>\n",
       "      <td>NaN</td>\n",
       "      <td>NaN</td>\n",
       "      <td>NaN</td>\n",
       "      <td>NaN</td>\n",
       "      <td>NaN</td>\n",
       "      <td>NaN</td>\n",
       "    </tr>\n",
       "    <tr>\n",
       "      <th>3</th>\n",
       "      <td>3</td>\n",
       "      <td>2020-04-29</td>\n",
       "      <td>ISI:000519276600007</td>\n",
       "      <td>KT8QN</td>\n",
       "      <td>Sust. Comput.</td>\n",
       "      <td>0.0</td>\n",
       "      <td>0.0</td>\n",
       "      <td>1.0</td>\n",
       "      <td>30.0</td>\n",
       "      <td>amartya.mukherjee@iemcal.com\\nmukherjeeprateet...</td>\n",
       "      <td>...</td>\n",
       "      <td>NaN</td>\n",
       "      <td>NaN</td>\n",
       "      <td>NaN</td>\n",
       "      <td>NaN</td>\n",
       "      <td>NaN</td>\n",
       "      <td>NaN</td>\n",
       "      <td>NaN</td>\n",
       "      <td>NaN</td>\n",
       "      <td>NaN</td>\n",
       "      <td>NaN</td>\n",
       "    </tr>\n",
       "    <tr>\n",
       "      <th>4</th>\n",
       "      <td>4</td>\n",
       "      <td>2020-04-29</td>\n",
       "      <td>ISI:000522973300001</td>\n",
       "      <td>KZ0PE</td>\n",
       "      <td>AIP Adv.</td>\n",
       "      <td>0.0</td>\n",
       "      <td>0.0</td>\n",
       "      <td>0.0</td>\n",
       "      <td>60.0</td>\n",
       "      <td>philippe.comtois@umontreal.ca</td>\n",
       "      <td>...</td>\n",
       "      <td>NaN</td>\n",
       "      <td>NaN</td>\n",
       "      <td>NaN</td>\n",
       "      <td>NaN</td>\n",
       "      <td>NaN</td>\n",
       "      <td>NaN</td>\n",
       "      <td>NaN</td>\n",
       "      <td>NaN</td>\n",
       "      <td>NaN</td>\n",
       "      <td>NaN</td>\n",
       "    </tr>\n",
       "  </tbody>\n",
       "</table>\n",
       "<p>5 rows × 59 columns</p>\n",
       "</div>"
      ],
      "text/plain": [
       "   Unnamed: 0          da            unique-id doc-delivery-number  \\\n",
       "0           0  2020-04-29  ISI:000516600700006               KQ0DN   \n",
       "1           1  2020-04-29  ISI:000517856500057               KR8HL   \n",
       "2           2  2020-04-29  ISI:000525271500201               LC4CE   \n",
       "3           3  2020-04-29  ISI:000519276600007               KT8QN   \n",
       "4           4  2020-04-29  ISI:000522973300001               KZ0PE   \n",
       "\n",
       "              journal-iso  usage-count-since-2013  usage-count-last-180-days  \\\n",
       "0  Crit. Rev. Biotechnol.                     7.0                        7.0   \n",
       "1           Renew. Energy                     1.0                        1.0   \n",
       "2                 Sensors                     0.0                        0.0   \n",
       "3           Sust. Comput.                     0.0                        0.0   \n",
       "4                AIP Adv.                     0.0                        0.0   \n",
       "\n",
       "   times-cited  number-of-cited-references  \\\n",
       "0          0.0                        59.0   \n",
       "1          0.0                        33.0   \n",
       "2          0.0                        32.0   \n",
       "3          1.0                        30.0   \n",
       "4          0.0                        60.0   \n",
       "\n",
       "                                        author-email  ... book-author source  \\\n",
       "0  anadra@qi.fcen.uba.ar\\nprodriguez@sociales.uba...  ...         NaN    NaN   \n",
       "1                              javier.bonilla@psa.es  ...         NaN    NaN   \n",
       "2  florian.tschopp@mavt.ethz.ch\\nmichael.riner-ku...  ...         NaN    NaN   \n",
       "3  amartya.mukherjee@iemcal.com\\nmukherjeeprateet...  ...         NaN    NaN   \n",
       "4                      philippe.comtois@umontreal.ca  ...         NaN    NaN   \n",
       "\n",
       "  abbrev_source_title pubmed_id correspondence_address1  url art_number coden  \\\n",
       "0                 NaN       NaN                     NaN  NaN        NaN   NaN   \n",
       "1                 NaN       NaN                     NaN  NaN        NaN   NaN   \n",
       "2                 NaN       NaN                     NaN  NaN        NaN   NaN   \n",
       "3                 NaN       NaN                     NaN  NaN        NaN   NaN   \n",
       "4                 NaN       NaN                     NaN  NaN        NaN   NaN   \n",
       "\n",
       "  author_keywords page_count  \n",
       "0             NaN        NaN  \n",
       "1             NaN        NaN  \n",
       "2             NaN        NaN  \n",
       "3             NaN        NaN  \n",
       "4             NaN        NaN  \n",
       "\n",
       "[5 rows x 59 columns]"
      ]
     },
     "execution_count": 4,
     "metadata": {},
     "output_type": "execute_result"
    }
   ],
   "source": [
    "database=pd.read_csv('../data/allData.csv')\n",
    "database.head()"
   ]
  },
  {
   "cell_type": "code",
   "execution_count": 5,
   "metadata": {},
   "outputs": [
    {
     "name": "stdout",
     "output_type": "stream",
     "text": [
      "Index(['Unnamed: 0', 'da', 'unique-id', 'doc-delivery-number', 'journal-iso',\n",
      "       'usage-count-since-2013', 'usage-count-last-180-days', 'times-cited',\n",
      "       'number-of-cited-references', 'author-email',\n",
      "       'web-of-science-categories', 'research-areas', 'keywords-plus',\n",
      "       'keywords', 'eissn', 'issn', 'doi', 'affiliation', 'language', 'type',\n",
      "       'address', 'publisher', 'abstract', 'month', 'pages', 'number',\n",
      "       'volume', 'year', 'journal', 'title', 'author', 'ENTRYTYPE', 'ID',\n",
      "       'funding-text', 'funding-acknowledgement', 'oa', 'orcid-numbers',\n",
      "       'researcherid-numbers', 'article-number', 'organization', 'note',\n",
      "       'isbn', 'booktitle', 'book-group-author', 'meeting', 'series', 'editor',\n",
      "       'esi-hot-paper', 'esi-highly-cited-paper', 'book-author', 'source',\n",
      "       'abbrev_source_title', 'pubmed_id', 'correspondence_address1', 'url',\n",
      "       'art_number', 'coden', 'author_keywords', 'page_count'],\n",
      "      dtype='object')\n"
     ]
    }
   ],
   "source": [
    "print (database.columns)"
   ]
  },
  {
   "cell_type": "code",
   "execution_count": 6,
   "metadata": {},
   "outputs": [
    {
     "data": {
      "text/plain": [
       "2080"
      ]
     },
     "execution_count": 6,
     "metadata": {},
     "output_type": "execute_result"
    }
   ],
   "source": [
    "len(database)"
   ]
  },
  {
   "cell_type": "markdown",
   "metadata": {},
   "source": [
    "# Pubmed ID are not present for all papers"
   ]
  },
  {
   "cell_type": "code",
   "execution_count": 7,
   "metadata": {},
   "outputs": [
    {
     "name": "stdout",
     "output_type": "stream",
     "text": [
      "Number of Pubmed ID missing 1984\n"
     ]
    }
   ],
   "source": [
    "print ('Number of Pubmed ID missing', database.pubmed_id.isna().sum())"
   ]
  },
  {
   "cell_type": "markdown",
   "metadata": {},
   "source": [
    "# DOIs are not present for all papers"
   ]
  },
  {
   "cell_type": "code",
   "execution_count": 8,
   "metadata": {},
   "outputs": [
    {
     "name": "stdout",
     "output_type": "stream",
     "text": [
      "Number of DOIs missing 550\n"
     ]
    }
   ],
   "source": [
    "print ('Number of DOIs missing', database.doi.isna().sum())"
   ]
  },
  {
   "cell_type": "code",
   "execution_count": 9,
   "metadata": {},
   "outputs": [
    {
     "data": {
      "text/plain": [
       "1251"
      ]
     },
     "execution_count": 9,
     "metadata": {},
     "output_type": "execute_result"
    }
   ],
   "source": [
    "database['unique-id'].isna().sum()"
   ]
  },
  {
   "cell_type": "code",
   "execution_count": 10,
   "metadata": {},
   "outputs": [
    {
     "data": {
      "text/plain": [
       "0                 10.1080/07388551.2020.1712322\n",
       "1                  10.1016/j.renene.2019.12.075\n",
       "2                             10.3390/s20051439\n",
       "3                  10.1016/j.suscom.2019.100356\n",
       "4                             10.1063/1.5144922\n",
       "                         ...                   \n",
       "2075                                        NaN\n",
       "2076                                        NaN\n",
       "2077    10.1061/(ASCE)0733-9453(1990)116:2(105)\n",
       "2078                                        NaN\n",
       "2079         10.1002/j.1538-7305.1988.tb00240.x\n",
       "Name: doi, Length: 2080, dtype: object"
      ]
     },
     "execution_count": 10,
     "metadata": {},
     "output_type": "execute_result"
    }
   ],
   "source": [
    "database.doi"
   ]
  },
  {
   "cell_type": "code",
   "execution_count": 11,
   "metadata": {},
   "outputs": [],
   "source": [
    "pubmed_ids=database.pubmed_id\n",
    "pubmed_dois=database.doi"
   ]
  },
  {
   "cell_type": "code",
   "execution_count": 12,
   "metadata": {},
   "outputs": [
    {
     "name": "stderr",
     "output_type": "stream",
     "text": [
      "2020-06-12 12:26:10 m-o1-043.local metapub.config[7229] WARNING NCBI_API_KEY was not set.\n"
     ]
    }
   ],
   "source": [
    "from metapub.convert import pmid2doi, doi2pmid\n",
    "\n",
    "\n",
    "pmids=[]\n",
    "def get_pmid_from_series(series):\n",
    "    series=series.dropna().values# drop papers \n",
    "    for paper in series:\n",
    "        print ('doi to convert', paper)\n",
    "        pmids.append(doi2pmid(paper))\n",
    "    return pmids\n",
    "\n",
    "\n",
    "dois=[]\n",
    "def get_dois_from_series(series):\n",
    "    series=series.dropna().values# drop papers \n",
    "    for paper in series:\n",
    "        print ('pmid to convert', paper)\n",
    "        pmids.append(pmid2doi(paper))\n",
    "    return dois\n",
    "    "
   ]
  },
  {
   "cell_type": "code",
   "execution_count": 13,
   "metadata": {},
   "outputs": [
    {
     "name": "stdout",
     "output_type": "stream",
     "text": [
      "doi to convert 10.1080/07388551.2020.1712322\n",
      "doi to convert 10.1016/j.renene.2019.12.075\n",
      "doi to convert 10.3390/s20051439\n",
      "doi to convert 10.1016/j.suscom.2019.100356\n",
      "doi to convert 10.1063/1.5144922\n",
      "doi to convert 10.1134/S1061934820030156\n",
      "doi to convert 10.1785/0220190198\n",
      "doi to convert 10.3390/s20030846\n",
      "doi to convert 10.1098/rsos.191921\n"
     ]
    }
   ],
   "source": [
    "'''Trying to get missing dois '''\n",
    "test_pmid=get_pmid_from_series(pubmed_dois[:10]); #For now only first 10 entries"
   ]
  },
  {
   "cell_type": "code",
   "execution_count": 14,
   "metadata": {},
   "outputs": [],
   "source": [
    "#TODO solve problems with invalid journal"
   ]
  },
  {
   "cell_type": "code",
   "execution_count": 15,
   "metadata": {},
   "outputs": [
    {
     "data": {
      "text/plain": [
       "['32075446',\n",
       " None,\n",
       " '32155749',\n",
       " 'NOT_FOUND;INVALID_JOURNAL',\n",
       " None,\n",
       " None,\n",
       " 'NOT_FOUND;INVALID_JOURNAL',\n",
       " '32033345',\n",
       " '32218984']"
      ]
     },
     "execution_count": 15,
     "metadata": {},
     "output_type": "execute_result"
    }
   ],
   "source": [
    "test_pmid"
   ]
  },
  {
   "cell_type": "code",
   "execution_count": 16,
   "metadata": {},
   "outputs": [],
   "source": [
    "#TODO solve problems for Bad Request for url"
   ]
  },
  {
   "cell_type": "code",
   "execution_count": 17,
   "metadata": {},
   "outputs": [
    {
     "name": "stdout",
     "output_type": "stream",
     "text": [
      "pmid to convert 32214120.0\n",
      "pmid to convert 32075446.0\n",
      "pmid to convert 32197400.0\n",
      "pmid to convert 31746678.0\n",
      "pmid to convert 32155749.0\n",
      "pmid to convert 32033345.0\n",
      "pmid to convert 30837543.0\n",
      "pmid to convert 31434941.0\n",
      "pmid to convert 31527839.0\n",
      "pmid to convert 31627443.0\n",
      "pmid to convert 31540360.0\n",
      "pmid to convert 31437998.0\n",
      "pmid to convert 31330938.0\n",
      "pmid to convert 31130650.0\n",
      "pmid to convert 30080140.0\n",
      "pmid to convert 30935046.0\n",
      "pmid to convert 30717225.0\n",
      "pmid to convert 30699950.0\n",
      "pmid to convert 30736405.0\n",
      "pmid to convert 30468825.0\n",
      "pmid to convert 30229967.0\n",
      "pmid to convert 31805116.0\n",
      "pmid to convert 31370930.0\n",
      "pmid to convert 30869596.0\n",
      "pmid to convert 31533961.0\n",
      "pmid to convert 31743346.0\n",
      "pmid to convert 30238745.0\n",
      "pmid to convert 29607551.0\n",
      "pmid to convert 29990025.0\n",
      "pmid to convert 29649373.0\n",
      "pmid to convert 29746790.0\n",
      "pmid to convert 30260950.0\n",
      "pmid to convert 29809097.0\n",
      "pmid to convert 30011820.0\n",
      "pmid to convert 29976850.0\n",
      "pmid to convert 27387562.0\n",
      "pmid to convert 29725966.0\n",
      "pmid to convert 29725937.0\n",
      "pmid to convert 29813103.0\n",
      "pmid to convert 29596394.0\n",
      "pmid to convert 29428162.0\n",
      "pmid to convert 29342110.0\n",
      "pmid to convert 28433504.0\n",
      "pmid to convert 30366415.0\n",
      "pmid to convert 29968594.0\n"
     ]
    },
    {
     "ename": "HTTPError",
     "evalue": "400 Client Error: Bad Request for url: https://api.crossref.org/works?rows=5&query.title=Advantages+of+Modular+Hybrid+Network+Communication+on+Clinical+Wards.&query.container-title=Stud+Health+Technol+Inform",
     "output_type": "error",
     "traceback": [
      "\u001b[0;31m---------------------------------------------------------------------------\u001b[0m",
      "\u001b[0;31mHTTPError\u001b[0m                                 Traceback (most recent call last)",
      "\u001b[0;32m~/anaconda3/envs/opensource/lib/python3.7/site-packages/habanero/request_class.py\u001b[0m in \u001b[0;36m_req\u001b[0;34m(self, payload)\u001b[0m\n\u001b[1;32m    144\u001b[0m             )\n\u001b[0;32m--> 145\u001b[0;31m             \u001b[0mr\u001b[0m\u001b[0;34m.\u001b[0m\u001b[0mraise_for_status\u001b[0m\u001b[0;34m(\u001b[0m\u001b[0;34m)\u001b[0m\u001b[0;34m\u001b[0m\u001b[0;34m\u001b[0m\u001b[0m\n\u001b[0m\u001b[1;32m    146\u001b[0m         \u001b[0;32mexcept\u001b[0m \u001b[0mrequests\u001b[0m\u001b[0;34m.\u001b[0m\u001b[0mexceptions\u001b[0m\u001b[0;34m.\u001b[0m\u001b[0mHTTPError\u001b[0m\u001b[0;34m:\u001b[0m\u001b[0;34m\u001b[0m\u001b[0;34m\u001b[0m\u001b[0m\n",
      "\u001b[0;32m~/anaconda3/envs/opensource/lib/python3.7/site-packages/requests/models.py\u001b[0m in \u001b[0;36mraise_for_status\u001b[0;34m(self)\u001b[0m\n\u001b[1;32m    939\u001b[0m         \u001b[0;32mif\u001b[0m \u001b[0mhttp_error_msg\u001b[0m\u001b[0;34m:\u001b[0m\u001b[0;34m\u001b[0m\u001b[0;34m\u001b[0m\u001b[0m\n\u001b[0;32m--> 940\u001b[0;31m             \u001b[0;32mraise\u001b[0m \u001b[0mHTTPError\u001b[0m\u001b[0;34m(\u001b[0m\u001b[0mhttp_error_msg\u001b[0m\u001b[0;34m,\u001b[0m \u001b[0mresponse\u001b[0m\u001b[0;34m=\u001b[0m\u001b[0mself\u001b[0m\u001b[0;34m)\u001b[0m\u001b[0;34m\u001b[0m\u001b[0;34m\u001b[0m\u001b[0m\n\u001b[0m\u001b[1;32m    941\u001b[0m \u001b[0;34m\u001b[0m\u001b[0m\n",
      "\u001b[0;31mHTTPError\u001b[0m: 400 Client Error: Bad Request for url: https://api.crossref.org/works?rows=5&query.title=Advantages+of+Modular+Hybrid+Network+Communication+on+Clinical+Wards.&query.container-title=Stud+Health+Technol+Inform",
      "\nDuring handling of the above exception, another exception occurred:\n",
      "\u001b[0;31mRequestError\u001b[0m                              Traceback (most recent call last)",
      "\u001b[0;32m~/anaconda3/envs/opensource/lib/python3.7/site-packages/habanero/request_class.py\u001b[0m in \u001b[0;36m_req\u001b[0;34m(self, payload)\u001b[0m\n\u001b[1;32m    148\u001b[0m                 \u001b[0mf\u001b[0m \u001b[0;34m=\u001b[0m \u001b[0mr\u001b[0m\u001b[0;34m.\u001b[0m\u001b[0mjson\u001b[0m\u001b[0;34m(\u001b[0m\u001b[0;34m)\u001b[0m\u001b[0;34m\u001b[0m\u001b[0;34m\u001b[0m\u001b[0m\n\u001b[0;32m--> 149\u001b[0;31m                 \u001b[0;32mraise\u001b[0m \u001b[0mRequestError\u001b[0m\u001b[0;34m(\u001b[0m\u001b[0mr\u001b[0m\u001b[0;34m.\u001b[0m\u001b[0mstatus_code\u001b[0m\u001b[0;34m,\u001b[0m \u001b[0mf\u001b[0m\u001b[0;34m[\u001b[0m\u001b[0;34m\"message\"\u001b[0m\u001b[0;34m]\u001b[0m\u001b[0;34m[\u001b[0m\u001b[0;36m0\u001b[0m\u001b[0;34m]\u001b[0m\u001b[0;34m[\u001b[0m\u001b[0;34m\"message\"\u001b[0m\u001b[0;34m]\u001b[0m\u001b[0;34m)\u001b[0m\u001b[0;34m\u001b[0m\u001b[0;34m\u001b[0m\u001b[0m\n\u001b[0m\u001b[1;32m    150\u001b[0m             \u001b[0;32mexcept\u001b[0m\u001b[0;34m:\u001b[0m\u001b[0;34m\u001b[0m\u001b[0;34m\u001b[0m\u001b[0m\n",
      "\u001b[0;31mRequestError\u001b[0m: (400) caused by \"Parameter query.title has been deprecated. Please use query.bibliographic instead. See https://status.crossref.org/incidents/4y45gj63jsp4 \"",
      "\nDuring handling of the above exception, another exception occurred:\n",
      "\u001b[0;31mHTTPError\u001b[0m                                 Traceback (most recent call last)",
      "\u001b[0;32m<ipython-input-17-d8b5f64882ea>\u001b[0m in \u001b[0;36m<module>\u001b[0;34m\u001b[0m\n\u001b[1;32m      1\u001b[0m \u001b[0;34m'''Trying to get missing pmid'''\u001b[0m\u001b[0;34m\u001b[0m\u001b[0;34m\u001b[0m\u001b[0m\n\u001b[0;32m----> 2\u001b[0;31m \u001b[0mtest_dois\u001b[0m\u001b[0;34m=\u001b[0m\u001b[0mget_dois_from_series\u001b[0m\u001b[0;34m(\u001b[0m\u001b[0mpubmed_ids\u001b[0m\u001b[0;34m)\u001b[0m\u001b[0;34m;\u001b[0m \u001b[0;31m#For now only first 10 entries\u001b[0m\u001b[0;34m\u001b[0m\u001b[0;34m\u001b[0m\u001b[0m\n\u001b[0m",
      "\u001b[0;32m<ipython-input-12-573f9789b6ca>\u001b[0m in \u001b[0;36mget_dois_from_series\u001b[0;34m(series)\u001b[0m\n\u001b[1;32m     16\u001b[0m     \u001b[0;32mfor\u001b[0m \u001b[0mpaper\u001b[0m \u001b[0;32min\u001b[0m \u001b[0mseries\u001b[0m\u001b[0;34m:\u001b[0m\u001b[0;34m\u001b[0m\u001b[0;34m\u001b[0m\u001b[0m\n\u001b[1;32m     17\u001b[0m         \u001b[0mprint\u001b[0m \u001b[0;34m(\u001b[0m\u001b[0;34m'pmid to convert'\u001b[0m\u001b[0;34m,\u001b[0m \u001b[0mpaper\u001b[0m\u001b[0;34m)\u001b[0m\u001b[0;34m\u001b[0m\u001b[0;34m\u001b[0m\u001b[0m\n\u001b[0;32m---> 18\u001b[0;31m         \u001b[0mpmids\u001b[0m\u001b[0;34m.\u001b[0m\u001b[0mappend\u001b[0m\u001b[0;34m(\u001b[0m\u001b[0mpmid2doi\u001b[0m\u001b[0;34m(\u001b[0m\u001b[0mpaper\u001b[0m\u001b[0;34m)\u001b[0m\u001b[0;34m)\u001b[0m\u001b[0;34m\u001b[0m\u001b[0;34m\u001b[0m\u001b[0m\n\u001b[0m\u001b[1;32m     19\u001b[0m     \u001b[0;32mreturn\u001b[0m \u001b[0mdois\u001b[0m\u001b[0;34m\u001b[0m\u001b[0;34m\u001b[0m\u001b[0m\n\u001b[1;32m     20\u001b[0m \u001b[0;34m\u001b[0m\u001b[0m\n",
      "\u001b[0;32m~/anaconda3/envs/opensource/lib/python3.7/site-packages/metapub/convert.py\u001b[0m in \u001b[0;36mpmid2doi\u001b[0;34m(pmid)\u001b[0m\n\u001b[1;32m     99\u001b[0m         \u001b[0mlog\u001b[0m\u001b[0;34m.\u001b[0m\u001b[0mdebug\u001b[0m\u001b[0;34m(\u001b[0m\u001b[0;34m'PMID %s: Found DOI in MedLine XML.'\u001b[0m\u001b[0;34m,\u001b[0m \u001b[0mpmid\u001b[0m\u001b[0;34m)\u001b[0m\u001b[0;34m\u001b[0m\u001b[0;34m\u001b[0m\u001b[0m\n\u001b[1;32m    100\u001b[0m         \u001b[0;32mreturn\u001b[0m \u001b[0mpma\u001b[0m\u001b[0;34m.\u001b[0m\u001b[0mdoi\u001b[0m\u001b[0;34m\u001b[0m\u001b[0;34m\u001b[0m\u001b[0m\n\u001b[0;32m--> 101\u001b[0;31m     \u001b[0;32mreturn\u001b[0m \u001b[0mPubMedArticle2doi\u001b[0m\u001b[0;34m(\u001b[0m\u001b[0mpma\u001b[0m\u001b[0;34m)\u001b[0m\u001b[0;34m\u001b[0m\u001b[0;34m\u001b[0m\u001b[0m\n\u001b[0m\u001b[1;32m    102\u001b[0m \u001b[0;34m\u001b[0m\u001b[0m\n\u001b[1;32m    103\u001b[0m \u001b[0;34m\u001b[0m\u001b[0m\n",
      "\u001b[0;32m~/anaconda3/envs/opensource/lib/python3.7/site-packages/metapub/convert.py\u001b[0m in \u001b[0;36mPubMedArticle2doi\u001b[0;34m(pma)\u001b[0m\n\u001b[1;32m     72\u001b[0m     \u001b[0m_start_engines\u001b[0m\u001b[0;34m(\u001b[0m\u001b[0;34m)\u001b[0m\u001b[0;34m\u001b[0m\u001b[0;34m\u001b[0m\u001b[0m\n\u001b[1;32m     73\u001b[0m \u001b[0;34m\u001b[0m\u001b[0m\n\u001b[0;32m---> 74\u001b[0;31m     \u001b[0mwork\u001b[0m \u001b[0;34m=\u001b[0m \u001b[0mcr_fetch\u001b[0m\u001b[0;34m.\u001b[0m\u001b[0marticle_by_pma\u001b[0m\u001b[0;34m(\u001b[0m\u001b[0mpma\u001b[0m\u001b[0;34m)\u001b[0m\u001b[0;34m\u001b[0m\u001b[0;34m\u001b[0m\u001b[0m\n\u001b[0m\u001b[1;32m     75\u001b[0m     \u001b[0;32mif\u001b[0m \u001b[0mwork\u001b[0m\u001b[0;34m:\u001b[0m\u001b[0;34m\u001b[0m\u001b[0;34m\u001b[0m\u001b[0m\n\u001b[1;32m     76\u001b[0m         \u001b[0mlog\u001b[0m\u001b[0;34m.\u001b[0m\u001b[0mdebug\u001b[0m\u001b[0;34m(\u001b[0m\u001b[0;34m'CrossRefWork found (%s) with Crossref score %i.'\u001b[0m\u001b[0;34m,\u001b[0m \u001b[0mwork\u001b[0m\u001b[0;34m.\u001b[0m\u001b[0mdoi\u001b[0m\u001b[0;34m,\u001b[0m \u001b[0mwork\u001b[0m\u001b[0;34m.\u001b[0m\u001b[0mscore\u001b[0m\u001b[0;34m)\u001b[0m\u001b[0;34m\u001b[0m\u001b[0;34m\u001b[0m\u001b[0m\n",
      "\u001b[0;32m~/anaconda3/envs/opensource/lib/python3.7/site-packages/metapub/crossref.py\u001b[0m in \u001b[0;36marticle_by_pma\u001b[0;34m(self, pma, ideal_ld, min_ld)\u001b[0m\n\u001b[1;32m    220\u001b[0m         \"\"\"\n\u001b[1;32m    221\u001b[0m         \u001b[0;31m# Try with Title and Journal only\u001b[0m\u001b[0;34m\u001b[0m\u001b[0;34m\u001b[0m\u001b[0;34m\u001b[0m\u001b[0m\n\u001b[0;32m--> 222\u001b[0;31m         \u001b[0mres\u001b[0m \u001b[0;34m=\u001b[0m \u001b[0mself\u001b[0m\u001b[0;34m.\u001b[0m\u001b[0mcr\u001b[0m\u001b[0;34m.\u001b[0m\u001b[0mworks\u001b[0m\u001b[0;34m(\u001b[0m\u001b[0mquery_title\u001b[0m\u001b[0;34m=\u001b[0m\u001b[0mpma\u001b[0m\u001b[0;34m.\u001b[0m\u001b[0mtitle\u001b[0m\u001b[0;34m,\u001b[0m \u001b[0mquery_container_title\u001b[0m\u001b[0;34m=\u001b[0m\u001b[0mpma\u001b[0m\u001b[0;34m.\u001b[0m\u001b[0mjournal\u001b[0m\u001b[0;34m,\u001b[0m \u001b[0mlimit\u001b[0m\u001b[0;34m=\u001b[0m\u001b[0;36m5\u001b[0m\u001b[0;34m)\u001b[0m\u001b[0;34m\u001b[0m\u001b[0;34m\u001b[0m\u001b[0m\n\u001b[0m\u001b[1;32m    223\u001b[0m         \u001b[0mself\u001b[0m\u001b[0;34m.\u001b[0m\u001b[0mlog\u001b[0m\u001b[0;34m.\u001b[0m\u001b[0mdebug\u001b[0m\u001b[0;34m(\u001b[0m\u001b[0;34m'PMID %s: Crossref Title/Journal query got %i results'\u001b[0m\u001b[0;34m,\u001b[0m \u001b[0mpma\u001b[0m\u001b[0;34m.\u001b[0m\u001b[0mpmid\u001b[0m\u001b[0;34m,\u001b[0m \u001b[0mres\u001b[0m\u001b[0;34m[\u001b[0m\u001b[0;34m'message'\u001b[0m\u001b[0;34m]\u001b[0m\u001b[0;34m[\u001b[0m\u001b[0;34m'total-results'\u001b[0m\u001b[0;34m]\u001b[0m\u001b[0;34m)\u001b[0m\u001b[0;34m\u001b[0m\u001b[0;34m\u001b[0m\u001b[0m\n\u001b[1;32m    224\u001b[0m \u001b[0;34m\u001b[0m\u001b[0m\n",
      "\u001b[0;32m~/anaconda3/envs/opensource/lib/python3.7/site-packages/habanero/crossref/crossref.py\u001b[0m in \u001b[0;36mworks\u001b[0;34m(self, ids, query, filter, offset, limit, sample, sort, order, facet, select, cursor, cursor_max, progress_bar, **kwargs)\u001b[0m\n\u001b[1;32m    379\u001b[0m                 \u001b[0;32mNone\u001b[0m\u001b[0;34m,\u001b[0m\u001b[0;34m\u001b[0m\u001b[0;34m\u001b[0m\u001b[0m\n\u001b[1;32m    380\u001b[0m                 \u001b[0mprogress_bar\u001b[0m\u001b[0;34m,\u001b[0m\u001b[0;34m\u001b[0m\u001b[0;34m\u001b[0m\u001b[0m\n\u001b[0;32m--> 381\u001b[0;31m                 \u001b[0;34m**\u001b[0m\u001b[0mkwargs\u001b[0m\u001b[0;34m\u001b[0m\u001b[0;34m\u001b[0m\u001b[0m\n\u001b[0m\u001b[1;32m    382\u001b[0m             ).do_request()\n\u001b[1;32m    383\u001b[0m \u001b[0;34m\u001b[0m\u001b[0m\n",
      "\u001b[0;32m~/anaconda3/envs/opensource/lib/python3.7/site-packages/habanero/request_class.py\u001b[0m in \u001b[0;36mdo_request\u001b[0;34m(self)\u001b[0m\n\u001b[1;32m     95\u001b[0m         \u001b[0mpayload\u001b[0m \u001b[0;34m=\u001b[0m \u001b[0mrename_query_filters\u001b[0m\u001b[0;34m(\u001b[0m\u001b[0mpayload\u001b[0m\u001b[0;34m)\u001b[0m\u001b[0;34m\u001b[0m\u001b[0;34m\u001b[0m\u001b[0m\n\u001b[1;32m     96\u001b[0m \u001b[0;34m\u001b[0m\u001b[0m\n\u001b[0;32m---> 97\u001b[0;31m         \u001b[0mjs\u001b[0m \u001b[0;34m=\u001b[0m \u001b[0mself\u001b[0m\u001b[0;34m.\u001b[0m\u001b[0m_req\u001b[0m\u001b[0;34m(\u001b[0m\u001b[0mpayload\u001b[0m\u001b[0;34m=\u001b[0m\u001b[0mpayload\u001b[0m\u001b[0;34m)\u001b[0m\u001b[0;34m\u001b[0m\u001b[0;34m\u001b[0m\u001b[0m\n\u001b[0m\u001b[1;32m     98\u001b[0m         \u001b[0mcu\u001b[0m \u001b[0;34m=\u001b[0m \u001b[0mjs\u001b[0m\u001b[0;34m[\u001b[0m\u001b[0;34m\"message\"\u001b[0m\u001b[0;34m]\u001b[0m\u001b[0;34m.\u001b[0m\u001b[0mget\u001b[0m\u001b[0;34m(\u001b[0m\u001b[0;34m\"next-cursor\"\u001b[0m\u001b[0;34m)\u001b[0m\u001b[0;34m\u001b[0m\u001b[0;34m\u001b[0m\u001b[0m\n\u001b[1;32m     99\u001b[0m         \u001b[0mmax_avail\u001b[0m \u001b[0;34m=\u001b[0m \u001b[0mjs\u001b[0m\u001b[0;34m[\u001b[0m\u001b[0;34m\"message\"\u001b[0m\u001b[0;34m]\u001b[0m\u001b[0;34m[\u001b[0m\u001b[0;34m\"total-results\"\u001b[0m\u001b[0;34m]\u001b[0m\u001b[0;34m\u001b[0m\u001b[0;34m\u001b[0m\u001b[0m\n",
      "\u001b[0;32m~/anaconda3/envs/opensource/lib/python3.7/site-packages/habanero/request_class.py\u001b[0m in \u001b[0;36m_req\u001b[0;34m(self, payload)\u001b[0m\n\u001b[1;32m    149\u001b[0m                 \u001b[0;32mraise\u001b[0m \u001b[0mRequestError\u001b[0m\u001b[0;34m(\u001b[0m\u001b[0mr\u001b[0m\u001b[0;34m.\u001b[0m\u001b[0mstatus_code\u001b[0m\u001b[0;34m,\u001b[0m \u001b[0mf\u001b[0m\u001b[0;34m[\u001b[0m\u001b[0;34m\"message\"\u001b[0m\u001b[0;34m]\u001b[0m\u001b[0;34m[\u001b[0m\u001b[0;36m0\u001b[0m\u001b[0;34m]\u001b[0m\u001b[0;34m[\u001b[0m\u001b[0;34m\"message\"\u001b[0m\u001b[0;34m]\u001b[0m\u001b[0;34m)\u001b[0m\u001b[0;34m\u001b[0m\u001b[0;34m\u001b[0m\u001b[0m\n\u001b[1;32m    150\u001b[0m             \u001b[0;32mexcept\u001b[0m\u001b[0;34m:\u001b[0m\u001b[0;34m\u001b[0m\u001b[0;34m\u001b[0m\u001b[0m\n\u001b[0;32m--> 151\u001b[0;31m                 \u001b[0mr\u001b[0m\u001b[0;34m.\u001b[0m\u001b[0mraise_for_status\u001b[0m\u001b[0;34m(\u001b[0m\u001b[0;34m)\u001b[0m\u001b[0;34m\u001b[0m\u001b[0;34m\u001b[0m\u001b[0m\n\u001b[0m\u001b[1;32m    152\u001b[0m         \u001b[0;32mexcept\u001b[0m \u001b[0mrequests\u001b[0m\u001b[0;34m.\u001b[0m\u001b[0mexceptions\u001b[0m\u001b[0;34m.\u001b[0m\u001b[0mRequestException\u001b[0m \u001b[0;32mas\u001b[0m \u001b[0me\u001b[0m\u001b[0;34m:\u001b[0m\u001b[0;34m\u001b[0m\u001b[0;34m\u001b[0m\u001b[0m\n\u001b[1;32m    153\u001b[0m             \u001b[0mprint\u001b[0m\u001b[0;34m(\u001b[0m\u001b[0me\u001b[0m\u001b[0;34m)\u001b[0m\u001b[0;34m\u001b[0m\u001b[0;34m\u001b[0m\u001b[0m\n",
      "\u001b[0;32m~/anaconda3/envs/opensource/lib/python3.7/site-packages/requests/models.py\u001b[0m in \u001b[0;36mraise_for_status\u001b[0;34m(self)\u001b[0m\n\u001b[1;32m    938\u001b[0m \u001b[0;34m\u001b[0m\u001b[0m\n\u001b[1;32m    939\u001b[0m         \u001b[0;32mif\u001b[0m \u001b[0mhttp_error_msg\u001b[0m\u001b[0;34m:\u001b[0m\u001b[0;34m\u001b[0m\u001b[0;34m\u001b[0m\u001b[0m\n\u001b[0;32m--> 940\u001b[0;31m             \u001b[0;32mraise\u001b[0m \u001b[0mHTTPError\u001b[0m\u001b[0;34m(\u001b[0m\u001b[0mhttp_error_msg\u001b[0m\u001b[0;34m,\u001b[0m \u001b[0mresponse\u001b[0m\u001b[0;34m=\u001b[0m\u001b[0mself\u001b[0m\u001b[0;34m)\u001b[0m\u001b[0;34m\u001b[0m\u001b[0;34m\u001b[0m\u001b[0m\n\u001b[0m\u001b[1;32m    941\u001b[0m \u001b[0;34m\u001b[0m\u001b[0m\n\u001b[1;32m    942\u001b[0m     \u001b[0;32mdef\u001b[0m \u001b[0mclose\u001b[0m\u001b[0;34m(\u001b[0m\u001b[0mself\u001b[0m\u001b[0;34m)\u001b[0m\u001b[0;34m:\u001b[0m\u001b[0;34m\u001b[0m\u001b[0;34m\u001b[0m\u001b[0m\n",
      "\u001b[0;31mHTTPError\u001b[0m: 400 Client Error: Bad Request for url: https://api.crossref.org/works?rows=5&query.title=Advantages+of+Modular+Hybrid+Network+Communication+on+Clinical+Wards.&query.container-title=Stud+Health+Technol+Inform"
     ]
    }
   ],
   "source": [
    "'''Trying to get missing pmid'''\n",
    "test_dois=get_dois_from_series(pubmed_ids); #For now only first 10 entries"
   ]
  },
  {
   "cell_type": "code",
   "execution_count": null,
   "metadata": {},
   "outputs": [],
   "source": [
    "test_dois"
   ]
  },
  {
   "cell_type": "code",
   "execution_count": null,
   "metadata": {},
   "outputs": [],
   "source": []
  }
 ],
 "metadata": {
  "kernelspec": {
   "display_name": "opensource",
   "language": "python",
   "name": "opensource"
  },
  "language_info": {
   "codemirror_mode": {
    "name": "ipython",
    "version": 3
   },
   "file_extension": ".py",
   "mimetype": "text/x-python",
   "name": "python",
   "nbconvert_exporter": "python",
   "pygments_lexer": "ipython3",
   "version": "3.7.7"
  }
 },
 "nbformat": 4,
 "nbformat_minor": 4
}
