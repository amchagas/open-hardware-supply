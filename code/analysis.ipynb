{
 "cells": [
  {
   "cell_type": "markdown",
   "id": "22e83573-93ef-444d-aaeb-67f07279ea5e",
   "metadata": {},
   "source": [
    "### initial data analysis and final database preparation\n"
   ]
  },
  {
   "cell_type": "code",
   "execution_count": 18,
   "id": "863b4be1-a557-4b6f-9454-1f2f418651a0",
   "metadata": {},
   "outputs": [],
   "source": [
    "\n",
    "import doi as doiLib\n",
    "#from prepare_wos_data_to_json import Prepare as prp\n",
    "import pandas as pd\n",
    "import json\n",
    "import seaborn as sns\n",
    "import numpy as np\n",
    "from matplotlib import pyplot as plt"
   ]
  },
  {
   "cell_type": "code",
   "execution_count": 7,
   "id": "41dbce4a-015a-4012-8f84-ed860bffb625",
   "metadata": {},
   "outputs": [],
   "source": [
    "dataPath = \"../data/derived2/\"\n",
    "dataFile = \"articles_to_review.json\"\n",
    "articles = pd.read_json(dataPath+dataFile)"
   ]
  },
  {
   "cell_type": "markdown",
   "id": "4632b3b2",
   "metadata": {},
   "source": [
    "Use unpaywall api to find information about the papers"
   ]
  },
  {
   "cell_type": "code",
   "execution_count": 19,
   "id": "a43398dc",
   "metadata": {},
   "outputs": [
    {
     "name": "stdout",
     "output_type": "stream",
     "text": [
      "closed    0.384203\n",
      "gold      0.310576\n",
      "green     0.168675\n",
      "bronze    0.074967\n",
      "hybrid    0.061580\n",
      "Name: oa_status, dtype: float64\n",
      "closed    287\n",
      "gold      232\n",
      "green     126\n",
      "bronze     56\n",
      "hybrid     46\n",
      "Name: oa_status, dtype: int64\n"
     ]
    }
   ],
   "source": [
    "#Open Access\n",
    "\n",
    "#Paper distribution \n",
    "print(articles.oa_status.value_counts(normalize=True))\n",
    "print(articles.oa_status.value_counts(normalize=False))\n",
    "#sns.histplot(data = articles.is_oa)\n",
    "\n"
   ]
  },
  {
   "cell_type": "code",
   "execution_count": 39,
   "id": "224106c3",
   "metadata": {},
   "outputs": [
    {
     "data": {
      "text/plain": [
       "<AxesSubplot:>"
      ]
     },
     "execution_count": 39,
     "metadata": {},
     "output_type": "execute_result"
    },
    {
     "data": {
      "image/png": "[encoded data removed]",
      "text/plain": [
       "<Figure size 1440x432 with 2 Axes>"
      ]
     },
     "metadata": {
      "needs_background": "light"
     },
     "output_type": "display_data"
    }
   ],
   "source": [
    "fh = plt.figure(figsize=(20,6))\n",
    "#fh.size()\n",
    "#plt.subplot(3,3,1)\n",
    "#articles.area.hist()\n",
    "plt.subplot(3,3,2)\n",
    "articles.pubYear.hist()\n"
   ]
  },
  {
   "cell_type": "markdown",
   "id": "f7d2bf18",
   "metadata": {},
   "source": [
    "### plot for the paper:\n",
    "- number of papers in OSH over years\n",
    "  - divide them per area (using research areas tags)\n",
    "    - Engineering, life sciences, humanities?\n",
    "- quality of the papers - how many fit the OSHWA OSH classification?\n",
    "- Accessibility of the papers - how many are OA?"
   ]
  }
 ],
 "metadata": {
  "kernelspec": {
   "display_name": "Python 3.9.5 ('base')",
   "language": "python",
   "name": "python3"
  },
  "language_info": {
   "codemirror_mode": {
    "name": "ipython",
    "version": 3
   },
   "file_extension": ".py",
   "mimetype": "text/x-python",
   "name": "python",
   "nbconvert_exporter": "python",
   "pygments_lexer": "ipython3",
   "version": "3.9.5"
  },
  "vscode": {
   "interpreter": {
    "hash": "19d1d53a962d236aa061289c2ac16dc8e6d9648c89fe79f459ae9a3493bc67b4"
   }
  }
 },
 "nbformat": 4,
 "nbformat_minor": 5
}
