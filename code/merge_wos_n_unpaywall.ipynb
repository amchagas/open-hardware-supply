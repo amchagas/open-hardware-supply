{
 "cells": [
  {
   "cell_type": "markdown",
   "id": "22e83573-93ef-444d-aaeb-67f07279ea5e",
   "metadata": {},
   "source": [
    "### initial data analysis and final database preparation\n"
   ]
  },
  {
   "cell_type": "code",
   "execution_count": 1,
   "id": "863b4be1-a557-4b6f-9454-1f2f418651a0",
   "metadata": {},
   "outputs": [],
   "source": [
    "\n",
    "import doi as doiLib\n",
    "from unpywall.utils import UnpywallCredentials\n",
    "from unpywall import Unpywall\n",
    "#from prepare_wos_data_to_json import Prepare as prp\n",
    "import pandas as pd\n",
    "import json\n",
    "import seaborn as sns\n",
    "import numpy as np"
   ]
  },
  {
   "cell_type": "code",
   "execution_count": 3,
   "id": "4a33b8ed",
   "metadata": {},
   "outputs": [
    {
     "data": {
      "text/plain": [
       "Your email has been set."
      ]
     },
     "execution_count": 3,
     "metadata": {},
     "output_type": "execute_result"
    }
   ],
   "source": [
    "with open(\"email\") as fid:\n",
    "    unpaywallcred = fid.readline()\n",
    "\n",
    "UnpywallCredentials(unpaywallcred)# could not get api cred on time, so using this email which is pasted all over the web.... #unpaywallcred)"
   ]
  },
  {
   "cell_type": "code",
   "execution_count": 4,
   "id": "41dbce4a-015a-4012-8f84-ed860bffb625",
   "metadata": {},
   "outputs": [],
   "source": [
    "dataPath = \"../data/derived2/\"\n",
    "dataFile = \"wos_data_as.json\"\n"
   ]
  },
  {
   "cell_type": "code",
   "execution_count": 5,
   "id": "af0efa19",
   "metadata": {},
   "outputs": [],
   "source": [
    "with open(dataPath+dataFile,\"r\") as fid:\n",
    "    dataDict = json.load(fid)\n",
    "#convert dictionary to panda dataframe\n",
    "data = pd.DataFrame.from_dict(dataDict)\n"
   ]
  },
  {
   "cell_type": "code",
   "execution_count": 20,
   "id": "309018a1",
   "metadata": {},
   "outputs": [],
   "source": [
    "entryType = list()\n",
    "for item in data[\"pubType\"]:\n",
    "    if type(item)==str:\n",
    "        if item == \"Article\":# or item == \"Journal Article\":\n",
    "            entryType.append(True)\n",
    "        else:\n",
    "            entryType.append(False)\n",
    "    else:\n",
    "        #print(item)\n",
    "        if \"Article\" in item:# or \"Journal Article\" in item:\n",
    "            entryType.append(True)\n",
    "        else:\n",
    "            entryType.append(False)\n",
    "\n",
    "\n",
    "wosArticles = data[entryType]\n",
    "\n",
    "dois = list(wosArticles[\"doi\"])\n",
    "for idx,item in enumerate(dois):\n",
    "    if item == None:\n",
    "        dois[idx]=\"none\""
   ]
  },
  {
   "cell_type": "markdown",
   "id": "4632b3b2",
   "metadata": {},
   "source": [
    "Use unpaywall api to find information about the papers"
   ]
  },
  {
   "cell_type": "code",
   "execution_count": 21,
   "id": "b90ff93e",
   "metadata": {},
   "outputs": [
    {
     "name": "stdout",
     "output_type": "stream",
     "text": [
      "|==================================================| 100%\n",
      "\n"
     ]
    }
   ],
   "source": [
    "upwData = Unpywall.doi(dois=dois,errors=\"ignore\",progress=True)\n"
   ]
  },
  {
   "cell_type": "code",
   "execution_count": 25,
   "id": "4c8853a6",
   "metadata": {},
   "outputs": [],
   "source": [
    "articles = pd.merge(wosArticles, upwData,on=\"doi\" )\n",
    "articles.to_json(dataPath+\"articles_to_review\")\n"
   ]
  },
  {
   "cell_type": "code",
   "execution_count": 19,
   "id": "a43398dc",
   "metadata": {},
   "outputs": [
    {
     "name": "stdout",
     "output_type": "stream",
     "text": [
      "closed    0.384203\n",
      "gold      0.310576\n",
      "green     0.168675\n",
      "bronze    0.074967\n",
      "hybrid    0.061580\n",
      "Name: oa_status, dtype: float64\n",
      "closed    287\n",
      "gold      232\n",
      "green     126\n",
      "bronze     56\n",
      "hybrid     46\n",
      "Name: oa_status, dtype: int64\n"
     ]
    }
   ],
   "source": [
    "#Open Access\n",
    "\n",
    "#Paper distribution \n",
    "print(articles.oa_status.value_counts(normalize=True))\n",
    "print(articles.oa_status.value_counts(normalize=False))\n",
    "#sns.histplot(data = articles.is_oa)\n",
    "\n"
   ]
  },
  {
   "cell_type": "code",
   "execution_count": 69,
   "id": "d5168759",
   "metadata": {},
   "outputs": [
    {
     "data": {
      "text/plain": [
       "0      http://www.tandfonline.com/doi/abs/10.1080/095...\n",
       "1                http://www.mdpi.com/1424-8220/8/11/7545\n",
       "2      https://www.sciencedirect.com/science/article/...\n",
       "3      https://onlinelibrary.wiley.com/doi/10.1002/st...\n",
       "4      http://link.springer.com/10.1007/978-90-481-96...\n",
       "                             ...                        \n",
       "742    https://www.sciencedirect.com/science/article/...\n",
       "743    https://www.sciencedirect.com/science/article/...\n",
       "744           http://www.nature.com/articles/nature24021\n",
       "745    https://www.triple-c.at/index.php/tripleC/arti...\n",
       "746              http://www.mdpi.com/1424-8220/17/6/1326\n",
       "Name: url, Length: 747, dtype: object"
      ]
     },
     "execution_count": 69,
     "metadata": {},
     "output_type": "execute_result"
    }
   ],
   "source": []
  }
 ],
 "metadata": {
  "kernelspec": {
   "display_name": "Python 3.9.5 ('base')",
   "language": "python",
   "name": "python3"
  },
  "language_info": {
   "codemirror_mode": {
    "name": "ipython",
    "version": 3
   },
   "file_extension": ".py",
   "mimetype": "text/x-python",
   "name": "python",
   "nbconvert_exporter": "python",
   "pygments_lexer": "ipython3",
   "version": "3.9.5"
  },
  "vscode": {
   "interpreter": {
    "hash": "19d1d53a962d236aa061289c2ac16dc8e6d9648c89fe79f459ae9a3493bc67b4"
   }
  }
 },
 "nbformat": 4,
 "nbformat_minor": 5
}
