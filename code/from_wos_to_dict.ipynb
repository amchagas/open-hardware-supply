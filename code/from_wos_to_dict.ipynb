{
 "cells": [
  {
   "cell_type": "markdown",
   "id": "22e83573-93ef-444d-aaeb-67f07279ea5e",
   "metadata": {},
   "source": [
    "### load derived data (jsonl file) into dictionary\n",
    "This notebook shows how to:\n",
    "- Pull data from the derived data file (JSON lines file)\n",
    "- Extract the information we want, organize it into a dictionary\n",
    "- Save the dictionary into a JSON file\n",
    "\n",
    "After this has been stored into a JSON file, we can load it into pandas, cross check with unpaywall, etc. (all to be done in other notebooks)"
   ]
  },
  {
   "cell_type": "code",
   "execution_count": 1,
   "id": "863b4be1-a557-4b6f-9454-1f2f418651a0",
   "metadata": {},
   "outputs": [],
   "source": [
    "\n",
    "import doi as doiLib\n",
    "from unpywall.utils import UnpywallCredentials\n",
    "from unpywall import Unpywall\n",
    "from prepare_wos_data_to_json import Prepare as prp"
   ]
  },
  {
   "cell_type": "code",
   "execution_count": 2,
   "id": "41dbce4a-015a-4012-8f84-ed860bffb625",
   "metadata": {},
   "outputs": [],
   "source": [
    "dataPath = \"../data/derived3/\"\n",
    "dataFile = \"records.jsonl\""
   ]
  },
  {
   "cell_type": "code",
   "execution_count": 8,
   "id": "b39c4dab",
   "metadata": {},
   "outputs": [],
   "source": [
    "data = prp(dataPath+dataFile, dataPath)\n",
    "data.run()\n",
    "data.save(\"wos_data_as.json\")\n",
    "\n",
    "#import json\n",
    "#with open(dataPath+\"wos_data_as.json\", 'w') as fp:\n",
    "#    json.dump(data.dataDict, fp)"
   ]
  },
  {
   "cell_type": "code",
   "execution_count": 5,
   "id": "4d90efd1",
   "metadata": {},
   "outputs": [],
   "source": []
  },
  {
   "cell_type": "code",
   "execution_count": null,
   "id": "74be9baf",
   "metadata": {},
   "outputs": [],
   "source": [
    "\n",
    "#convert dictionary to panda dataframe\n",
    "data = pd.DataFrame.from_dict(dataDict)\n"
   ]
  },
  {
   "cell_type": "code",
   "execution_count": null,
   "id": "4a33b8ed",
   "metadata": {},
   "outputs": [],
   "source": [
    "with open(\"email\") as fid:\n",
    "    unpaywallcred = fid.readline()\n",
    "\n",
    "UnpywallCredentials(\"nick.haupka@gmail.com\")# could not get api cred on time, so using this email which is pasted all over the web.... #unpaywallcred)"
   ]
  },
  {
   "cell_type": "code",
   "execution_count": 64,
   "id": "b90ff93e",
   "metadata": {},
   "outputs": [
    {
     "name": "stderr",
     "output_type": "stream",
     "text": [
      "C:\\ProgramData\\Miniconda3\\lib\\site-packages\\unpywall\\cache.py:203: UserWarning: Could not download doi: 10.1145.2556288.2557132\n",
      "  warnings.warn('Could not download doi: {}'.format(doi))\n",
      "C:\\ProgramData\\Miniconda3\\lib\\site-packages\\unpywall\\cache.py:203: UserWarning: Could not download doi: 10.3233/978-1-61499-393-3-124\n",
      "  warnings.warn('Could not download doi: {}'.format(doi))\n",
      "C:\\ProgramData\\Miniconda3\\lib\\site-packages\\unpywall\\cache.py:203: UserWarning: Could not download doi: 10.3233/978-1-61499-484-8-631\n",
      "  warnings.warn('Could not download doi: {}'.format(doi))\n",
      "C:\\ProgramData\\Miniconda3\\lib\\site-packages\\unpywall\\cache.py:203: UserWarning: Could not download doi: 10.18690/18557147.7.2.139-159(2015)\n",
      "  warnings.warn('Could not download doi: {}'.format(doi))\n",
      "C:\\ProgramData\\Miniconda3\\lib\\site-packages\\unpywall\\cache.py:203: UserWarning: Could not download doi: 10.1504/IJSNET.2016.076858\n",
      "  warnings.warn('Could not download doi: {}'.format(doi))\n",
      "C:\\ProgramData\\Miniconda3\\lib\\site-packages\\unpywall\\cache.py:203: UserWarning: Could not download doi: 10.13128/Aestimum-20454\n",
      "  warnings.warn('Could not download doi: {}'.format(doi))\n",
      "C:\\ProgramData\\Miniconda3\\lib\\site-packages\\unpywall\\cache.py:203: UserWarning: Could not download doi: 10.5194/isprsarchives-XL-5-W8-25-2016\n",
      "  warnings.warn('Could not download doi: {}'.format(doi))\n",
      "C:\\ProgramData\\Miniconda3\\lib\\site-packages\\unpywall\\cache.py:203: UserWarning: Could not download doi: 10.18421/TEM64-02\n",
      "  warnings.warn('Could not download doi: {}'.format(doi))\n",
      "C:\\ProgramData\\Miniconda3\\lib\\site-packages\\unpywall\\cache.py:203: UserWarning: Could not download doi: 10.4314/jfas.v9i7s.88\n",
      "  warnings.warn('Could not download doi: {}'.format(doi))\n",
      "C:\\ProgramData\\Miniconda3\\lib\\site-packages\\unpywall\\cache.py:203: UserWarning: Could not download doi: 10.3233/978-1-61499-769-6-293\n",
      "  warnings.warn('Could not download doi: {}'.format(doi))\n",
      "C:\\ProgramData\\Miniconda3\\lib\\site-packages\\unpywall\\cache.py:203: UserWarning: Could not download doi: 10.19199/2017.2.2038-5625.025\n",
      "  warnings.warn('Could not download doi: {}'.format(doi))\n",
      "C:\\ProgramData\\Miniconda3\\lib\\site-packages\\unpywall\\cache.py:203: UserWarning: Could not download doi: 10.5277/ABB-01132-2018-02\n",
      "  warnings.warn('Could not download doi: {}'.format(doi))\n",
      "C:\\ProgramData\\Miniconda3\\lib\\site-packages\\unpywall\\cache.py:203: UserWarning: Could not download doi: 10.6531/JFS.201812_23(2).0005\n",
      "  warnings.warn('Could not download doi: {}'.format(doi))\n",
      "C:\\ProgramData\\Miniconda3\\lib\\site-packages\\unpywall\\cache.py:203: UserWarning: Could not download doi: 10.25341/D4859D\n",
      "  warnings.warn('Could not download doi: {}'.format(doi))\n",
      "C:\\ProgramData\\Miniconda3\\lib\\site-packages\\unpywall\\cache.py:203: UserWarning: Could not download doi: 10.1504/IJSAMI.2019.101375\n",
      "  warnings.warn('Could not download doi: {}'.format(doi))\n"
     ]
    }
   ],
   "source": [
    "#use unpaywall api to check if papers are open access\n",
    "upArticles = Unpywall.doi(dois=list(data[\"doi\"].dropna()),errors=\"ignore\")             \n",
    "\n"
   ]
  },
  {
   "cell_type": "code",
   "execution_count": 73,
   "id": "34a03358",
   "metadata": {},
   "outputs": [
    {
     "ename": "ValueError",
     "evalue": "Cannot mask with non-boolean array containing NA / NaN values",
     "output_type": "error",
     "traceback": [
      "\u001b[1;31m---------------------------------------------------------------------------\u001b[0m",
      "\u001b[1;31mValueError\u001b[0m                                Traceback (most recent call last)",
      "\u001b[1;32mC:\\Users\\ANDREM~1\\AppData\\Local\\Temp/ipykernel_10368/3931677994.py\u001b[0m in \u001b[0;36m<module>\u001b[1;34m\u001b[0m\n\u001b[0;32m      2\u001b[0m \u001b[0mdataMerge\u001b[0m \u001b[1;33m=\u001b[0m \u001b[0mpd\u001b[0m\u001b[1;33m.\u001b[0m\u001b[0mmerge\u001b[0m\u001b[1;33m(\u001b[0m\u001b[0mdata\u001b[0m\u001b[1;33m,\u001b[0m \u001b[0mupArticles\u001b[0m\u001b[1;33m,\u001b[0m \u001b[0mon\u001b[0m\u001b[1;33m=\u001b[0m\u001b[1;34m'doi'\u001b[0m\u001b[1;33m,\u001b[0m\u001b[0mhow\u001b[0m\u001b[1;33m=\u001b[0m\u001b[1;34m\"outer\"\u001b[0m\u001b[1;33m)\u001b[0m\u001b[1;33m\u001b[0m\u001b[1;33m\u001b[0m\u001b[0m\n\u001b[0;32m      3\u001b[0m \u001b[1;33m\u001b[0m\u001b[0m\n\u001b[1;32m----> 4\u001b[1;33m \u001b[0mlen\u001b[0m\u001b[1;33m(\u001b[0m\u001b[0mdataMerge\u001b[0m\u001b[1;33m[\u001b[0m\u001b[0mdataMerge\u001b[0m\u001b[1;33m.\u001b[0m\u001b[0mis_oa\u001b[0m\u001b[1;33m]\u001b[0m\u001b[1;33m)\u001b[0m\u001b[1;33m/\u001b[0m\u001b[0mlen\u001b[0m\u001b[1;33m(\u001b[0m\u001b[0mdataMerge\u001b[0m\u001b[1;33m)\u001b[0m\u001b[1;33m\u001b[0m\u001b[1;33m\u001b[0m\u001b[0m\n\u001b[0m\u001b[0;32m      5\u001b[0m \u001b[1;33m\u001b[0m\u001b[0m\n\u001b[0;32m      6\u001b[0m \u001b[1;31m#'best_oa_location.license'\u001b[0m\u001b[1;33m\u001b[0m\u001b[1;33m\u001b[0m\u001b[1;33m\u001b[0m\u001b[0m\n",
      "\u001b[1;32mC:\\ProgramData\\Miniconda3\\lib\\site-packages\\pandas\\core\\frame.py\u001b[0m in \u001b[0;36m__getitem__\u001b[1;34m(self, key)\u001b[0m\n\u001b[0;32m   3446\u001b[0m \u001b[1;33m\u001b[0m\u001b[0m\n\u001b[0;32m   3447\u001b[0m         \u001b[1;31m# Do we have a (boolean) 1d indexer?\u001b[0m\u001b[1;33m\u001b[0m\u001b[1;33m\u001b[0m\u001b[1;33m\u001b[0m\u001b[0m\n\u001b[1;32m-> 3448\u001b[1;33m         \u001b[1;32mif\u001b[0m \u001b[0mcom\u001b[0m\u001b[1;33m.\u001b[0m\u001b[0mis_bool_indexer\u001b[0m\u001b[1;33m(\u001b[0m\u001b[0mkey\u001b[0m\u001b[1;33m)\u001b[0m\u001b[1;33m:\u001b[0m\u001b[1;33m\u001b[0m\u001b[1;33m\u001b[0m\u001b[0m\n\u001b[0m\u001b[0;32m   3449\u001b[0m             \u001b[1;32mreturn\u001b[0m \u001b[0mself\u001b[0m\u001b[1;33m.\u001b[0m\u001b[0m_getitem_bool_array\u001b[0m\u001b[1;33m(\u001b[0m\u001b[0mkey\u001b[0m\u001b[1;33m)\u001b[0m\u001b[1;33m\u001b[0m\u001b[1;33m\u001b[0m\u001b[0m\n\u001b[0;32m   3450\u001b[0m \u001b[1;33m\u001b[0m\u001b[0m\n",
      "\u001b[1;32mC:\\ProgramData\\Miniconda3\\lib\\site-packages\\pandas\\core\\common.py\u001b[0m in \u001b[0;36mis_bool_indexer\u001b[1;34m(key)\u001b[0m\n\u001b[0;32m    137\u001b[0m                     \u001b[1;31m# Don't raise on e.g. [\"A\", \"B\", np.nan], see\u001b[0m\u001b[1;33m\u001b[0m\u001b[1;33m\u001b[0m\u001b[1;33m\u001b[0m\u001b[0m\n\u001b[0;32m    138\u001b[0m                     \u001b[1;31m#  test_loc_getitem_list_of_labels_categoricalindex_with_na\u001b[0m\u001b[1;33m\u001b[0m\u001b[1;33m\u001b[0m\u001b[1;33m\u001b[0m\u001b[0m\n\u001b[1;32m--> 139\u001b[1;33m                     \u001b[1;32mraise\u001b[0m \u001b[0mValueError\u001b[0m\u001b[1;33m(\u001b[0m\u001b[0mna_msg\u001b[0m\u001b[1;33m)\u001b[0m\u001b[1;33m\u001b[0m\u001b[1;33m\u001b[0m\u001b[0m\n\u001b[0m\u001b[0;32m    140\u001b[0m                 \u001b[1;32mreturn\u001b[0m \u001b[1;32mFalse\u001b[0m\u001b[1;33m\u001b[0m\u001b[1;33m\u001b[0m\u001b[0m\n\u001b[0;32m    141\u001b[0m             \u001b[1;32mreturn\u001b[0m \u001b[1;32mTrue\u001b[0m\u001b[1;33m\u001b[0m\u001b[1;33m\u001b[0m\u001b[0m\n",
      "\u001b[1;31mValueError\u001b[0m: Cannot mask with non-boolean array containing NA / NaN values"
     ]
    }
   ],
   "source": [
    "#merge information based on doi\n",
    "##TODO\n",
    "#dataMerge = pd.merge(data, upArticles, on='doi')\n",
    "\n",
    "\n",
    "    \n",
    "#'best_oa_location.license'\n",
    "#df[\"OA\"] = up[\"is_oa\"]\n",
    "#df[\"OA-pdf_url\"] = up[\"best_oa_location.url_for_pdf\"]"
   ]
  },
  {
   "cell_type": "code",
   "execution_count": 1,
   "id": "7e0a48e7",
   "metadata": {},
   "outputs": [
    {
     "ename": "NameError",
     "evalue": "name 'data' is not defined",
     "output_type": "error",
     "traceback": [
      "\u001b[1;31m---------------------------------------------------------------------------\u001b[0m",
      "\u001b[1;31mNameError\u001b[0m                                 Traceback (most recent call last)",
      "\u001b[1;32mC:\\Users\\ANDREM~1\\AppData\\Local\\Temp/ipykernel_9860/3418008062.py\u001b[0m in \u001b[0;36m<module>\u001b[1;34m\u001b[0m\n\u001b[1;32m----> 1\u001b[1;33m \u001b[0mprint\u001b[0m\u001b[1;33m(\u001b[0m\u001b[0mlen\u001b[0m\u001b[1;33m(\u001b[0m\u001b[0mdata\u001b[0m\u001b[1;33m)\u001b[0m\u001b[1;33m)\u001b[0m\u001b[1;33m\u001b[0m\u001b[1;33m\u001b[0m\u001b[0m\n\u001b[0m\u001b[0;32m      2\u001b[0m \u001b[0msns\u001b[0m\u001b[1;33m.\u001b[0m\u001b[0mhistplot\u001b[0m\u001b[1;33m(\u001b[0m\u001b[0mdata\u001b[0m\u001b[1;33m[\u001b[0m\u001b[1;34m\"pubYear\"\u001b[0m\u001b[1;33m]\u001b[0m\u001b[1;33m,\u001b[0m\u001b[0mbins\u001b[0m\u001b[1;33m=\u001b[0m\u001b[0mlist\u001b[0m\u001b[1;33m(\u001b[0m\u001b[0mrange\u001b[0m\u001b[1;33m(\u001b[0m\u001b[1;36m2004\u001b[0m\u001b[1;33m,\u001b[0m\u001b[1;36m2023\u001b[0m\u001b[1;33m)\u001b[0m\u001b[1;33m)\u001b[0m\u001b[1;33m)\u001b[0m\u001b[1;33m\u001b[0m\u001b[1;33m\u001b[0m\u001b[0m\n",
      "\u001b[1;31mNameError\u001b[0m: name 'data' is not defined"
     ]
    }
   ],
   "source": [
    "print(len(data))\n",
    "sns.histplot(data[\"pubYear\"],bins=list(range(2004,2023)))"
   ]
  },
  {
   "cell_type": "code",
   "execution_count": 16,
   "id": "10604348",
   "metadata": {},
   "outputs": [],
   "source": [
    "#identifier\n",
    "#obj[\"record\"][\"dynamic_data\"][\"cluster_related\"][\"identifiers\"][\"identifier\"]\n",
    "\n",
    "#WOSID \n",
    "#obj[\"record\"][\"UID\"][4:]\n",
    "\n",
    "#'find if this is an article\n",
    "#obj[\"record\"][\"static_data\"][\"summary\"][\"doctypes\"][\"doctype\"]\n",
    "\n",
    "#find publication title\n",
    "#obj[\"record\"][\"static_data\"][\"summary\"][\"titles\"][\"title\"][-1][\"content\"]\n",
    "\n",
    "#find journal title\n",
    "#obj[\"record\"][\"static_data\"][\"summary\"][\"titles\"][\"title\"][0][\"content\"]\n",
    "\n",
    "#find publisher (elsevier, nature, etc)\n",
    "#obj[\"record\"][\"static_data\"][\"summary\"][\"publishers\"][\"publisher\"][\"names\"][\"name\"][\"unified_name\"]\n",
    "\n",
    "#get publication year\n",
    "#obj[\"record\"][\"static_data\"][\"summary\"][\"pub_info\"][\"pubyear\"]\n",
    "\n",
    "#find area (still requires more code to systematically extract all categories)\n",
    "#obj[\"record\"][\"static_data\"][\"fullrecord_metadata\"][\"category_info\"][\"subheadings\"]"
   ]
  },
  {
   "cell_type": "markdown",
   "id": "f7d2bf18",
   "metadata": {},
   "source": [
    "### plot for the paper:\n",
    "- number of papers in OSH over years\n",
    "  - divide them per area (using research areas tags)\n",
    "    - Engineering, life sciences, humanities?\n",
    "- quality of the papers - how many fit the OSHWA OSH classification?\n",
    "- Accessibility of the papers - how many are OA?"
   ]
  }
 ],
 "metadata": {
  "kernelspec": {
   "display_name": "Python 3.9.5 ('base')",
   "language": "python",
   "name": "python3"
  },
  "language_info": {
   "codemirror_mode": {
    "name": "ipython",
    "version": 3
   },
   "file_extension": ".py",
   "mimetype": "text/x-python",
   "name": "python",
   "nbconvert_exporter": "python",
   "pygments_lexer": "ipython3",
   "version": "3.9.5"
  },
  "vscode": {
   "interpreter": {
    "hash": "19d1d53a962d236aa061289c2ac16dc8e6d9648c89fe79f459ae9a3493bc67b4"
   }
  }
 },
 "nbformat": 4,
 "nbformat_minor": 5
}
