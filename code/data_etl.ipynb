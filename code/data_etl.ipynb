{
 "cells": [
  {
   "cell_type": "markdown",
   "metadata": {},
   "source": [
    "# Data extraction, transformation, and loading into a JSON file\n",
    "This is part of the project described in <https://github.com/amchagas/OSH_papers_DB>, check the project readme for more details.\n",
    "\n",
    "This notebook loads data sources and merges them in a single compressed JSON file."
   ]
  },
  {
   "cell_type": "code",
   "execution_count": 1,
   "metadata": {},
   "outputs": [],
   "source": [
    "import os\n",
    "import re\n",
    "import pandas as pd\n",
    "import bibtexparser\n",
    "import matplotlib.pyplot as plt\n",
    "from pathlib import Path\n",
    "from project_definitions import baseDir, dataSourceDir, dataOutDir, figDir, allDataFile\n",
    "from project_definitions import store_data, load_data\n",
    "from pprint import pprint\n",
    "import html"
   ]
  },
  {
   "cell_type": "markdown",
   "metadata": {},
   "source": [
    "## Bibtex sources"
   ]
  },
  {
   "cell_type": "code",
   "execution_count": 2,
   "metadata": {},
   "outputs": [],
   "source": [
    "scieloSource = {\n",
    "    'paths': [dataSourceDir / x for x in (\"scielo.bib\",)],\n",
    "    'col_rename': {\"crossref\": \"doi\"},\n",
    "    'transforms': [\n",
    "        lambda x: x.map(html.unescape, na_action=\"ignore\").str.replace(\"{\", \"\").str.replace(\"}\", \"\").str.strip(),\n",
    "        lambda x: x.astype(int) if x.name == \"year\" else x,\n",
    "    ],\n",
    "}\n",
    "scopusSource = {\n",
    "    'paths': [dataSourceDir / x for x in (\"scopus1.bib\", \"scopus2.bib\")],\n",
    "    'col_rename': {},\n",
    "    'transforms': [\n",
    "        lambda x: x.astype(int) if x.name == \"year\" else x,\n",
    "    ],\n",
    "}\n",
    "wosSource = {\n",
    "    'paths': [dataSourceDir / x for x in (\"wos1.bib\", \"wos2.bib\", \"wos3.bib\", \"wos4.bib\")],\n",
    "    'col_rename': {},\n",
    "    'transforms': [\n",
    "        lambda x: x.str.replace(\"\\\\\", \"\").str.replace(\"{\", \"\").str.replace(\"}\", \"\").str.strip(),\n",
    "        lambda x: x.astype(int) if x.name == \"year\" else x,\n",
    "    ],\n",
    "}"
   ]
  },
  {
   "cell_type": "code",
   "execution_count": 3,
   "metadata": {},
   "outputs": [],
   "source": [
    "def load_bibtex(bibtexSource):\n",
    "    dfs = []\n",
    "    for path in bibtexSource['paths']:\n",
    "        with path.open() as f:\n",
    "            df = pd.DataFrame(bibtexparser.load(f).entries)\n",
    "        df['__bibtex_source'] = path.name\n",
    "        dfs.append(df)\n",
    "    cdf = pd.concat(dfs, join='outer', ignore_index=True)\n",
    "    cdf = cdf.rename(columns=bibtexSource['col_rename'])\n",
    "    for trans in bibtexSource['transforms']:\n",
    "        cdf = cdf.transform(trans)\n",
    "    return cdf"
   ]
  },
  {
   "cell_type": "code",
   "execution_count": 4,
   "metadata": {},
   "outputs": [
    {
     "name": "stderr",
     "output_type": "stream",
     "text": [
      "<ipython-input-2-1ca024bfee1a>:5: FutureWarning: The default value of regex will change from True to False in a future version. In addition, single character regular expressions will*not* be treated as literal strings when regex=True.\n",
      "  lambda x: x.map(html.unescape, na_action=\"ignore\").str.replace(\"{\", \"\").str.replace(\"}\", \"\").str.strip(),\n"
     ]
    }
   ],
   "source": [
    "scieloData = load_bibtex(scieloSource)"
   ]
  },
  {
   "cell_type": "code",
   "execution_count": 5,
   "metadata": {},
   "outputs": [],
   "source": [
    "scopusData = load_bibtex(scopusSource)"
   ]
  },
  {
   "cell_type": "code",
   "execution_count": 6,
   "metadata": {},
   "outputs": [
    {
     "name": "stderr",
     "output_type": "stream",
     "text": [
      "<ipython-input-2-1ca024bfee1a>:20: FutureWarning: The default value of regex will change from True to False in a future version. In addition, single character regular expressions will*not* be treated as literal strings when regex=True.\n",
      "  lambda x: x.str.replace(\"\\\\\", \"\").str.replace(\"{\", \"\").str.replace(\"}\", \"\").str.strip(),\n"
     ]
    }
   ],
   "source": [
    "wosData = load_bibtex(wosSource)"
   ]
  },
  {
   "cell_type": "code",
   "execution_count": 7,
   "metadata": {},
   "outputs": [],
   "source": [
    "allDataList = [scieloData, scopusData, wosData]"
   ]
  },
  {
   "cell_type": "code",
   "execution_count": 8,
   "metadata": {},
   "outputs": [],
   "source": [
    "allData = pd.concat(allDataList, join='outer', ignore_index=True)"
   ]
  },
  {
   "cell_type": "code",
   "execution_count": 9,
   "metadata": {},
   "outputs": [],
   "source": [
    "store_data(allData, allDataFile)"
   ]
  },
  {
   "cell_type": "code",
   "execution_count": 10,
   "metadata": {},
   "outputs": [],
   "source": [
    "assert allData.equals(load_data(allDataFile))"
   ]
  },
  {
   "cell_type": "markdown",
   "metadata": {},
   "source": [
    "## CSV sources"
   ]
  },
  {
   "cell_type": "code",
   "execution_count": 11,
   "metadata": {},
   "outputs": [
    {
     "data": {
      "text/html": [
       "<div>\n",
       "<style scoped>\n",
       "    .dataframe tbody tr th:only-of-type {\n",
       "        vertical-align: middle;\n",
       "    }\n",
       "\n",
       "    .dataframe tbody tr th {\n",
       "        vertical-align: top;\n",
       "    }\n",
       "\n",
       "    .dataframe thead th {\n",
       "        text-align: right;\n",
       "    }\n",
       "</style>\n",
       "<table border=\"1\" class=\"dataframe\">\n",
       "  <thead>\n",
       "    <tr style=\"text-align: right;\">\n",
       "      <th></th>\n",
       "      <th>URI (DOI or URL)</th>\n",
       "      <th>Hardware or software</th>\n",
       "      <th>Title (URL items only)</th>\n",
       "      <th>Authors (URL items only)</th>\n",
       "      <th>Content Type (URL items only - Research Article, Web Article, Commentary, Video, Poster)</th>\n",
       "      <th>Date Published (URL items only)</th>\n",
       "      <th>Source (URL items only)</th>\n",
       "      <th>Summary</th>\n",
       "      <th>Featured Rank (1 = Editor's Pick, 2-6 = Featured Research, 7-12 = Related Content)</th>\n",
       "      <th>Paywall (x = paywall, otherwise leave blank)</th>\n",
       "      <th>Featured Preprint (x = Featured Preprint, otherwise leave blank)</th>\n",
       "      <th>Remove (x = delete the item)</th>\n",
       "    </tr>\n",
       "  </thead>\n",
       "  <tbody>\n",
       "    <tr>\n",
       "      <th>9</th>\n",
       "      <td>https://doi.org/10.1101/2020.05.01.071878</td>\n",
       "      <td>hardware</td>\n",
       "      <td>Bottom-Illuminated Orbital Shaker for Microalg...</td>\n",
       "      <td>Jakub Nedbal,  Lu Gao,  Klaus Suhling</td>\n",
       "      <td>Research Article</td>\n",
       "      <td>2020-06-15</td>\n",
       "      <td>bioRxiv</td>\n",
       "      <td>NaN</td>\n",
       "      <td>NaN</td>\n",
       "      <td>NaN</td>\n",
       "      <td>NaN</td>\n",
       "      <td>NaN</td>\n",
       "    </tr>\n",
       "    <tr>\n",
       "      <th>10</th>\n",
       "      <td>https://doi.org/10.1101/2020.05.29.123166</td>\n",
       "      <td>hardware</td>\n",
       "      <td>SiCTeC: an inexpensive, easily assembled Pelti...</td>\n",
       "      <td>Benjamin D. Knapp,  Lillian Zhu,  Kerwyn Casey...</td>\n",
       "      <td>Research Article</td>\n",
       "      <td>2020-06-15</td>\n",
       "      <td>bioRxiv</td>\n",
       "      <td>NaN</td>\n",
       "      <td>NaN</td>\n",
       "      <td>NaN</td>\n",
       "      <td>NaN</td>\n",
       "      <td>NaN</td>\n",
       "    </tr>\n",
       "    <tr>\n",
       "      <th>11</th>\n",
       "      <td>https://doi.org/10.1101/2020.04.23.056978</td>\n",
       "      <td>hardware</td>\n",
       "      <td>PlanktonScope: Affordable modular imaging plat...</td>\n",
       "      <td>Thibaut Pollina, Adam G. Larson, Fabien Lombar...</td>\n",
       "      <td>Research Article</td>\n",
       "      <td>2020-06-15</td>\n",
       "      <td>bioRxiv</td>\n",
       "      <td>NaN</td>\n",
       "      <td>NaN</td>\n",
       "      <td>NaN</td>\n",
       "      <td>NaN</td>\n",
       "      <td>NaN</td>\n",
       "    </tr>\n",
       "    <tr>\n",
       "      <th>12</th>\n",
       "      <td>https://doi.org/10.1016/j.ohx.2020.e00112</td>\n",
       "      <td>hardware</td>\n",
       "      <td>Low-cost and precise inline pressure sensor ho...</td>\n",
       "      <td>Luke Goertzen, Nicole Mehr, Manuel Lopez, Chet...</td>\n",
       "      <td>Research Article</td>\n",
       "      <td>2020-06-15</td>\n",
       "      <td>Hardware X</td>\n",
       "      <td>NaN</td>\n",
       "      <td>NaN</td>\n",
       "      <td>NaN</td>\n",
       "      <td>NaN</td>\n",
       "      <td>NaN</td>\n",
       "    </tr>\n",
       "    <tr>\n",
       "      <th>13</th>\n",
       "      <td>https://doi.org/10.1016/j.ohx.2020.e00113</td>\n",
       "      <td>hardware</td>\n",
       "      <td>DIY hybrid SSVEP-P300 LED stimuli for BCI plat...</td>\n",
       "      <td>Sure jMouli, Ramaswamy Palaniappan</td>\n",
       "      <td>Research Article</td>\n",
       "      <td>2020-06-15</td>\n",
       "      <td>HardwareX</td>\n",
       "      <td>NaN</td>\n",
       "      <td>NaN</td>\n",
       "      <td>NaN</td>\n",
       "      <td>NaN</td>\n",
       "      <td>NaN</td>\n",
       "    </tr>\n",
       "    <tr>\n",
       "      <th>...</th>\n",
       "      <td>...</td>\n",
       "      <td>...</td>\n",
       "      <td>...</td>\n",
       "      <td>...</td>\n",
       "      <td>...</td>\n",
       "      <td>...</td>\n",
       "      <td>...</td>\n",
       "      <td>...</td>\n",
       "      <td>...</td>\n",
       "      <td>...</td>\n",
       "      <td>...</td>\n",
       "      <td>...</td>\n",
       "    </tr>\n",
       "    <tr>\n",
       "      <th>460</th>\n",
       "      <td>10.1371/journal.pone.0049365</td>\n",
       "      <td>hardware</td>\n",
       "      <td>A Simple, Low-Cost Conductive Composite Materi...</td>\n",
       "      <td>Simon J. Leigh, Robert J. Bradley, Christopher...</td>\n",
       "      <td>Research Article</td>\n",
       "      <td>2012-11-21</td>\n",
       "      <td>PLOS ONE</td>\n",
       "      <td>NaN</td>\n",
       "      <td>NaN</td>\n",
       "      <td>NaN</td>\n",
       "      <td>NaN</td>\n",
       "      <td>NaN</td>\n",
       "    </tr>\n",
       "    <tr>\n",
       "      <th>461</th>\n",
       "      <td>http://www.rsc.org/images/loc/2012/pdf/T.4.111...</td>\n",
       "      <td>hardware</td>\n",
       "      <td>Portable Liquid Chromatography - PDF download</td>\n",
       "      <td>Akihiko Ishida, Takehiro Fujimoto, Satoshi Yok...</td>\n",
       "      <td>Research Article</td>\n",
       "      <td>2012-10-01</td>\n",
       "      <td>RSC</td>\n",
       "      <td>NaN</td>\n",
       "      <td>NaN</td>\n",
       "      <td>NaN</td>\n",
       "      <td>NaN</td>\n",
       "      <td>NaN</td>\n",
       "    </tr>\n",
       "    <tr>\n",
       "      <th>462</th>\n",
       "      <td>10.1371/journal.pone.0030837</td>\n",
       "      <td>hardware</td>\n",
       "      <td>The SpikerBox: A Low Cost, Open-Source BioAmpl...</td>\n",
       "      <td>Timothy C. Marzullo, Gregory J. Gage</td>\n",
       "      <td>Research Article</td>\n",
       "      <td>2012-03-21</td>\n",
       "      <td>PLOS ONE</td>\n",
       "      <td>NaN</td>\n",
       "      <td>NaN</td>\n",
       "      <td>NaN</td>\n",
       "      <td>NaN</td>\n",
       "      <td>NaN</td>\n",
       "    </tr>\n",
       "    <tr>\n",
       "      <th>464</th>\n",
       "      <td>10.1371/journal.pone.0023783</td>\n",
       "      <td>hardware</td>\n",
       "      <td>CheapStat: An Open-Source, “Do-It-Yourself” Po...</td>\n",
       "      <td>Aaron A. Rowe, Andrew J. Bonham, Ryan J. White...</td>\n",
       "      <td>Research Article</td>\n",
       "      <td>2011-09-13</td>\n",
       "      <td>PLOS ONE</td>\n",
       "      <td>NaN</td>\n",
       "      <td>NaN</td>\n",
       "      <td>NaN</td>\n",
       "      <td>NaN</td>\n",
       "      <td>NaN</td>\n",
       "    </tr>\n",
       "    <tr>\n",
       "      <th>465</th>\n",
       "      <td>10.1371/journal.pone.0011890</td>\n",
       "      <td>hardware</td>\n",
       "      <td>Portable, Battery-Operated, Low-Cost, Bright F...</td>\n",
       "      <td>Andrew R. Miller, Gregory L. Davis, Z. Maria O...</td>\n",
       "      <td>Research Article</td>\n",
       "      <td>2010-08-04</td>\n",
       "      <td>PLOS ONE</td>\n",
       "      <td>NaN</td>\n",
       "      <td>NaN</td>\n",
       "      <td>NaN</td>\n",
       "      <td>NaN</td>\n",
       "      <td>NaN</td>\n",
       "    </tr>\n",
       "  </tbody>\n",
       "</table>\n",
       "<p>111 rows × 12 columns</p>\n",
       "</div>"
      ],
      "text/plain": [
       "                                      URI (DOI or URL) Hardware or software  \\\n",
       "9            https://doi.org/10.1101/2020.05.01.071878             hardware   \n",
       "10           https://doi.org/10.1101/2020.05.29.123166             hardware   \n",
       "11           https://doi.org/10.1101/2020.04.23.056978             hardware   \n",
       "12           https://doi.org/10.1016/j.ohx.2020.e00112             hardware   \n",
       "13           https://doi.org/10.1016/j.ohx.2020.e00113             hardware   \n",
       "..                                                 ...                  ...   \n",
       "460                       10.1371/journal.pone.0049365             hardware   \n",
       "461  http://www.rsc.org/images/loc/2012/pdf/T.4.111...             hardware   \n",
       "462                       10.1371/journal.pone.0030837             hardware   \n",
       "464                       10.1371/journal.pone.0023783             hardware   \n",
       "465                       10.1371/journal.pone.0011890             hardware   \n",
       "\n",
       "                                Title (URL items only)  \\\n",
       "9    Bottom-Illuminated Orbital Shaker for Microalg...   \n",
       "10   SiCTeC: an inexpensive, easily assembled Pelti...   \n",
       "11   PlanktonScope: Affordable modular imaging plat...   \n",
       "12   Low-cost and precise inline pressure sensor ho...   \n",
       "13   DIY hybrid SSVEP-P300 LED stimuli for BCI plat...   \n",
       "..                                                 ...   \n",
       "460  A Simple, Low-Cost Conductive Composite Materi...   \n",
       "461      Portable Liquid Chromatography - PDF download   \n",
       "462  The SpikerBox: A Low Cost, Open-Source BioAmpl...   \n",
       "464  CheapStat: An Open-Source, “Do-It-Yourself” Po...   \n",
       "465  Portable, Battery-Operated, Low-Cost, Bright F...   \n",
       "\n",
       "                              Authors (URL items only)  \\\n",
       "9                Jakub Nedbal,  Lu Gao,  Klaus Suhling   \n",
       "10   Benjamin D. Knapp,  Lillian Zhu,  Kerwyn Casey...   \n",
       "11   Thibaut Pollina, Adam G. Larson, Fabien Lombar...   \n",
       "12   Luke Goertzen, Nicole Mehr, Manuel Lopez, Chet...   \n",
       "13                  Sure jMouli, Ramaswamy Palaniappan   \n",
       "..                                                 ...   \n",
       "460  Simon J. Leigh, Robert J. Bradley, Christopher...   \n",
       "461  Akihiko Ishida, Takehiro Fujimoto, Satoshi Yok...   \n",
       "462               Timothy C. Marzullo, Gregory J. Gage   \n",
       "464  Aaron A. Rowe, Andrew J. Bonham, Ryan J. White...   \n",
       "465  Andrew R. Miller, Gregory L. Davis, Z. Maria O...   \n",
       "\n",
       "    Content Type (URL items only - Research Article, Web Article, Commentary, Video, Poster)  \\\n",
       "9                                     Research Article                                         \n",
       "10                                    Research Article                                         \n",
       "11                                    Research Article                                         \n",
       "12                                    Research Article                                         \n",
       "13                                    Research Article                                         \n",
       "..                                                 ...                                         \n",
       "460                                   Research Article                                         \n",
       "461                                   Research Article                                         \n",
       "462                                   Research Article                                         \n",
       "464                                   Research Article                                         \n",
       "465                                   Research Article                                         \n",
       "\n",
       "    Date Published (URL items only) Source (URL items only) Summary  \\\n",
       "9                        2020-06-15                 bioRxiv     NaN   \n",
       "10                       2020-06-15                 bioRxiv     NaN   \n",
       "11                       2020-06-15                 bioRxiv     NaN   \n",
       "12                       2020-06-15              Hardware X     NaN   \n",
       "13                       2020-06-15               HardwareX     NaN   \n",
       "..                              ...                     ...     ...   \n",
       "460                      2012-11-21                PLOS ONE     NaN   \n",
       "461                      2012-10-01                     RSC     NaN   \n",
       "462                      2012-03-21                PLOS ONE     NaN   \n",
       "464                      2011-09-13                PLOS ONE     NaN   \n",
       "465                      2010-08-04                PLOS ONE     NaN   \n",
       "\n",
       "    Featured Rank (1 = Editor's Pick, 2-6 = Featured Research, 7-12 = Related Content)  \\\n",
       "9                                                  NaN                                   \n",
       "10                                                 NaN                                   \n",
       "11                                                 NaN                                   \n",
       "12                                                 NaN                                   \n",
       "13                                                 NaN                                   \n",
       "..                                                 ...                                   \n",
       "460                                                NaN                                   \n",
       "461                                                NaN                                   \n",
       "462                                                NaN                                   \n",
       "464                                                NaN                                   \n",
       "465                                                NaN                                   \n",
       "\n",
       "    Paywall (x = paywall, otherwise leave blank)  \\\n",
       "9                                            NaN   \n",
       "10                                           NaN   \n",
       "11                                           NaN   \n",
       "12                                           NaN   \n",
       "13                                           NaN   \n",
       "..                                           ...   \n",
       "460                                          NaN   \n",
       "461                                          NaN   \n",
       "462                                          NaN   \n",
       "464                                          NaN   \n",
       "465                                          NaN   \n",
       "\n",
       "    Featured Preprint (x = Featured Preprint, otherwise leave blank)  \\\n",
       "9                                                  NaN                 \n",
       "10                                                 NaN                 \n",
       "11                                                 NaN                 \n",
       "12                                                 NaN                 \n",
       "13                                                 NaN                 \n",
       "..                                                 ...                 \n",
       "460                                                NaN                 \n",
       "461                                                NaN                 \n",
       "462                                                NaN                 \n",
       "464                                                NaN                 \n",
       "465                                                NaN                 \n",
       "\n",
       "     Remove (x = delete the item)  \n",
       "9                             NaN  \n",
       "10                            NaN  \n",
       "11                            NaN  \n",
       "12                            NaN  \n",
       "13                            NaN  \n",
       "..                            ...  \n",
       "460                           NaN  \n",
       "461                           NaN  \n",
       "462                           NaN  \n",
       "464                           NaN  \n",
       "465                           NaN  \n",
       "\n",
       "[111 rows x 12 columns]"
      ]
     },
     "execution_count": 11,
     "metadata": {},
     "output_type": "execute_result"
    }
   ],
   "source": [
    "plosData = pd.read_csv(dataSourceDir / 'plos-items.csv')\n",
    "sel_article = plosData[\"Content Type (URL items only - Research Article, Web Article, Commentary, Video, Poster)\"].eq(\"Research Article\")\n",
    "sel_hardware = plosData[\"Hardware or software\"].eq(\"hardware\")\n",
    "plosData = plosData.loc[sel_article & sel_hardware]\n",
    "assert not plosData[\"URI (DOI or URL)\"].isna().any()\n",
    "plosData['Title (URL items only)'] = plosData['Title (URL items only)'].str.strip()\n",
    "plosData"
   ]
  },
  {
   "cell_type": "code",
   "execution_count": 12,
   "metadata": {},
   "outputs": [],
   "source": [
    "plos2bibtex = {\n",
    "    \"URI (DOI or URL)\": \"doi\",\n",
    "    \"\": \"\",\n",
    "}"
   ]
  },
  {
   "cell_type": "code",
   "execution_count": 13,
   "metadata": {},
   "outputs": [
    {
     "data": {
      "text/plain": [
       "105"
      ]
     },
     "execution_count": 13,
     "metadata": {},
     "output_type": "execute_result"
    }
   ],
   "source": [
    "sel_new_doi = ~plosData[\"URI (DOI or URL)\"].isin(allData.doi.values)\n",
    "sel_new_doi.sum()"
   ]
  },
  {
   "cell_type": "code",
   "execution_count": 14,
   "metadata": {},
   "outputs": [
    {
     "data": {
      "text/plain": [
       "95"
      ]
     },
     "execution_count": 14,
     "metadata": {},
     "output_type": "execute_result"
    }
   ],
   "source": [
    "sel_new_title = ~plosData[\"Title (URL items only)\"].isin(allData.title.values)\n",
    "sel_new_title.sum()"
   ]
  },
  {
   "cell_type": "code",
   "execution_count": 15,
   "metadata": {},
   "outputs": [
    {
     "data": {
      "text/html": [
       "<div>\n",
       "<style scoped>\n",
       "    .dataframe tbody tr th:only-of-type {\n",
       "        vertical-align: middle;\n",
       "    }\n",
       "\n",
       "    .dataframe tbody tr th {\n",
       "        vertical-align: top;\n",
       "    }\n",
       "\n",
       "    .dataframe thead th {\n",
       "        text-align: right;\n",
       "    }\n",
       "</style>\n",
       "<table border=\"1\" class=\"dataframe\">\n",
       "  <thead>\n",
       "    <tr style=\"text-align: right;\">\n",
       "      <th></th>\n",
       "      <th>URI (DOI or URL)</th>\n",
       "      <th>Title (URL items only)</th>\n",
       "      <th>doi</th>\n",
       "    </tr>\n",
       "  </thead>\n",
       "  <tbody>\n",
       "    <tr>\n",
       "      <th>29</th>\n",
       "      <td>https://doi.org/10.1016/j.techfore.2020.119986</td>\n",
       "      <td>Towards national policy for open source hardwa...</td>\n",
       "      <td>10.1016/j.techfore.2020.119986</td>\n",
       "    </tr>\n",
       "    <tr>\n",
       "      <th>34</th>\n",
       "      <td>https://www.preprints.org/manuscript/202003.03...</td>\n",
       "      <td>Leveraging open hardware to alleviate the burd...</td>\n",
       "      <td>10.1371/journal.pbio.3000730</td>\n",
       "    </tr>\n",
       "    <tr>\n",
       "      <th>37</th>\n",
       "      <td>https://doi.org/10.1016/j.ohx.2020.e00107</td>\n",
       "      <td>Open-source five degree of freedom motion plat...</td>\n",
       "      <td>10.1016/j.ohx.2020.e00107</td>\n",
       "    </tr>\n",
       "    <tr>\n",
       "      <th>38</th>\n",
       "      <td>https://doi.org/10.1016/j.ohx.2020.e00102</td>\n",
       "      <td>PlasPI marine cameras: Open-source, affordable...</td>\n",
       "      <td>10.1016/j.ohx.2020.e00102</td>\n",
       "    </tr>\n",
       "    <tr>\n",
       "      <th>280</th>\n",
       "      <td>https://doi.org/10.1016/j.ohx.2017.07.001</td>\n",
       "      <td>A programmable optical stimulator for the Dros...</td>\n",
       "      <td>10.1016/j.ohx.2017.07.001</td>\n",
       "    </tr>\n",
       "    <tr>\n",
       "      <th>284</th>\n",
       "      <td>http://www.appropedia.org/Free_and_open-source...</td>\n",
       "      <td>Free and open-source automated 3-D microscope</td>\n",
       "      <td>2020    10.1111/jmi.12433\n",
       "3055    10.1111/jmi....</td>\n",
       "    </tr>\n",
       "    <tr>\n",
       "      <th>285</th>\n",
       "      <td>http://www.appropedia.org/Open-source_mobile_w...</td>\n",
       "      <td>Open-source mobile water quality testing platform</td>\n",
       "      <td>376     10.2166/washdev.2014.137\n",
       "3562    10.21...</td>\n",
       "    </tr>\n",
       "    <tr>\n",
       "      <th>343</th>\n",
       "      <td>http://doi.org/10.1016/j.ohx.2016.07.001</td>\n",
       "      <td>Open source laboratory sample rotator mixer an...</td>\n",
       "      <td>10.1016/j.ohx.2016.07.001</td>\n",
       "    </tr>\n",
       "    <tr>\n",
       "      <th>347</th>\n",
       "      <td>http://doi.org/10.1016/j.ohx.2016.09.001</td>\n",
       "      <td>An open source automatic feeder for animal exp...</td>\n",
       "      <td>10.1016/j.ohx.2016.09.001</td>\n",
       "    </tr>\n",
       "    <tr>\n",
       "      <th>399</th>\n",
       "      <td>http://scitation.aip.org/content/aip/journal/r...</td>\n",
       "      <td>A one-piece 3D printed flexure translation sta...</td>\n",
       "      <td>10.1063/1.4941068</td>\n",
       "    </tr>\n",
       "    <tr>\n",
       "      <th>457</th>\n",
       "      <td>http://www.mdpi.com/1424-8220/13/4/5338</td>\n",
       "      <td>Open-Source Colorimeter</td>\n",
       "      <td>10.3390/s130405338</td>\n",
       "    </tr>\n",
       "  </tbody>\n",
       "</table>\n",
       "</div>"
      ],
      "text/plain": [
       "                                      URI (DOI or URL)  \\\n",
       "29      https://doi.org/10.1016/j.techfore.2020.119986   \n",
       "34   https://www.preprints.org/manuscript/202003.03...   \n",
       "37           https://doi.org/10.1016/j.ohx.2020.e00107   \n",
       "38           https://doi.org/10.1016/j.ohx.2020.e00102   \n",
       "280          https://doi.org/10.1016/j.ohx.2017.07.001   \n",
       "284  http://www.appropedia.org/Free_and_open-source...   \n",
       "285  http://www.appropedia.org/Open-source_mobile_w...   \n",
       "343           http://doi.org/10.1016/j.ohx.2016.07.001   \n",
       "347           http://doi.org/10.1016/j.ohx.2016.09.001   \n",
       "399  http://scitation.aip.org/content/aip/journal/r...   \n",
       "457            http://www.mdpi.com/1424-8220/13/4/5338   \n",
       "\n",
       "                                Title (URL items only)  \\\n",
       "29   Towards national policy for open source hardwa...   \n",
       "34   Leveraging open hardware to alleviate the burd...   \n",
       "37   Open-source five degree of freedom motion plat...   \n",
       "38   PlasPI marine cameras: Open-source, affordable...   \n",
       "280  A programmable optical stimulator for the Dros...   \n",
       "284      Free and open-source automated 3-D microscope   \n",
       "285  Open-source mobile water quality testing platform   \n",
       "343  Open source laboratory sample rotator mixer an...   \n",
       "347  An open source automatic feeder for animal exp...   \n",
       "399  A one-piece 3D printed flexure translation sta...   \n",
       "457                            Open-Source Colorimeter   \n",
       "\n",
       "                                                   doi  \n",
       "29                      10.1016/j.techfore.2020.119986  \n",
       "34                        10.1371/journal.pbio.3000730  \n",
       "37                           10.1016/j.ohx.2020.e00107  \n",
       "38                           10.1016/j.ohx.2020.e00102  \n",
       "280                          10.1016/j.ohx.2017.07.001  \n",
       "284  2020    10.1111/jmi.12433\n",
       "3055    10.1111/jmi....  \n",
       "285  376     10.2166/washdev.2014.137\n",
       "3562    10.21...  \n",
       "343                          10.1016/j.ohx.2016.07.001  \n",
       "347                          10.1016/j.ohx.2016.09.001  \n",
       "399                                  10.1063/1.4941068  \n",
       "457                                 10.3390/s130405338  "
      ]
     },
     "execution_count": 15,
     "metadata": {},
     "output_type": "execute_result"
    }
   ],
   "source": [
    "# Same titles, different DOIs\n",
    "x = plosData[[\"URI (DOI or URL)\", \"Title (URL items only)\"]].loc[sel_new_doi & ~sel_new_title]\n",
    "x['doi'] = [\n",
    "    allData[\"doi\"].loc[\n",
    "        allData['title'].eq(y)\n",
    "    ].squeeze()\n",
    "    for y in x[\"Title (URL items only)\"]\n",
    "]\n",
    "x"
   ]
  },
  {
   "cell_type": "code",
   "execution_count": 16,
   "metadata": {},
   "outputs": [
    {
     "name": "stdout",
     "output_type": "stream",
     "text": [
      "464    CheapStat: An Open-Source, “Do-It-Yourself” Po...\n",
      "Name: Title (URL items only), dtype: object\n",
      "\n",
      "3808    CheapStat: An Open-Source, ``Do-It-Yourself'' ...\n",
      "Name: title, dtype: object\n"
     ]
    }
   ],
   "source": [
    "# Same DOI, different Titles\n",
    "pprint(plosData[\"Title (URL items only)\"].loc[~sel_new_doi & sel_new_title])\n",
    "print()\n",
    "pprint(allData[\"title\"].loc[\n",
    "    allData[\"doi\"].eq('10.1371/journal.pone.0023783')\n",
    "])"
   ]
  },
  {
   "cell_type": "markdown",
   "metadata": {},
   "source": [
    "# All done, now just mess around"
   ]
  },
  {
   "cell_type": "code",
   "execution_count": 17,
   "metadata": {},
   "outputs": [
    {
     "name": "stdout",
     "output_type": "stream",
     "text": [
      "(4218, 60)\n",
      "Index(['url', 'pages', 'doi', 'month', 'language', 'publisher', 'year',\n",
      "       'volume', 'author', 'journal', 'title', 'ENTRYTYPE', 'ID',\n",
      "       '__bibtex_source', 'source', 'document_type', 'abbrev_source_title',\n",
      "       'isbn', 'keywords', 'author_keywords', 'abstract', 'affiliation',\n",
      "       'note', 'art_number', 'editor', 'correspondence_address1', 'page_count',\n",
      "       'issn', 'number', 'pubmed_id', 'coden', 'da', 'unique-id',\n",
      "       'doc-delivery-number', 'journal-iso', 'usage-count-since-2013',\n",
      "       'usage-count-last-180-days', 'times-cited',\n",
      "       'number-of-cited-references', 'funding-text', 'funding-acknowledgement',\n",
      "       'author-email', 'web-of-science-categories', 'research-areas',\n",
      "       'keywords-plus', 'eissn', 'type', 'address', 'orcid-numbers',\n",
      "       'article-number', 'researcherid-numbers', 'oa', 'organization',\n",
      "       'booktitle', 'book-group-author', 'meeting', 'series', 'esi-hot-paper',\n",
      "       'esi-highly-cited-paper', 'book-author'],\n",
      "      dtype='object')\n"
     ]
    }
   ],
   "source": [
    "print(allData.shape)\n",
    "print(allData.columns)"
   ]
  },
  {
   "cell_type": "code",
   "execution_count": 18,
   "metadata": {},
   "outputs": [
    {
     "name": "stdout",
     "output_type": "stream",
     "text": [
      "(2076, 60)\n"
     ]
    }
   ],
   "source": [
    "article_data = allData.loc[allData[\"ENTRYTYPE\"].eq('article')]\n",
    "print(article_data.shape)"
   ]
  },
  {
   "cell_type": "code",
   "execution_count": 19,
   "metadata": {},
   "outputs": [
    {
     "name": "stdout",
     "output_type": "stream",
     "text": [
      "261 1473 139 255 6\n"
     ]
    }
   ],
   "source": [
    "dup_title = article_data.duplicated('title', keep=False)\n",
    "dup_doi = article_data.duplicated('doi', keep=False)\n",
    "nan_doi = article_data['doi'].isna()\n",
    "print(\n",
    "    dup_title.sum(),\n",
    "    dup_doi.sum(),\n",
    "    nan_doi.sum(),\n",
    "    (dup_title & dup_doi).sum(),\n",
    "    (dup_title & ~dup_doi).sum(),\n",
    ")"
   ]
  },
  {
   "cell_type": "code",
   "execution_count": 20,
   "metadata": {},
   "outputs": [
    {
     "data": {
      "text/plain": [
       "Lecture Notes in Computer Science (including subseries Lecture Notes in Artificial Intelligence and Lecture Notes in Bioinformatics)    55\n",
       "SENSORS                                                                                                                                 54\n",
       "Sensors (Switzerland)                                                                                                                   49\n",
       "HardwareX                                                                                                                               34\n",
       "Advances in Intelligent Systems and Computing                                                                                           23\n",
       "                                                                                                                                        ..\n",
       "Journal of Electroanalytical Chemistry                                                                                                   1\n",
       "FORESTS                                                                                                                                  1\n",
       "VISION TECNOLOGICA                                                                                                                       1\n",
       "Biomedical Research (India)                                                                                                              1\n",
       "Frontiers in Behavioral Neuroscience                                                                                                     1\n",
       "Name: journal, Length: 1189, dtype: int64"
      ]
     },
     "execution_count": 20,
     "metadata": {},
     "output_type": "execute_result"
    }
   ],
   "source": [
    "article_data.journal.value_counts()"
   ]
  },
  {
   "cell_type": "code",
   "execution_count": 21,
   "metadata": {},
   "outputs": [
    {
     "data": {
      "text/plain": [
       "<matplotlib.axes._subplots.AxesSubplot at 0x7fa7f22f9d00>"
      ]
     },
     "execution_count": 21,
     "metadata": {},
     "output_type": "execute_result"
    },
    {
     "data": {
      "image/png": "[encoded data removed]",
      "text/plain": [
       "<Figure size 432x288 with 1 Axes>"
      ]
     },
     "metadata": {
      "needs_background": "light"
     },
     "output_type": "display_data"
    }
   ],
   "source": [
    "article_data.journal.value_counts().reset_index().plot(loglog=True)"
   ]
  },
  {
   "cell_type": "code",
   "execution_count": 22,
   "metadata": {},
   "outputs": [
    {
     "data": {
      "text/plain": [
       "<matplotlib.axes._subplots.AxesSubplot at 0x7fa7f2461160>"
      ]
     },
     "execution_count": 22,
     "metadata": {},
     "output_type": "execute_result"
    },
    {
     "data": {
      "image/png": "[encoded data removed]",
      "text/plain": [
       "<Figure size 432x288 with 1 Axes>"
      ]
     },
     "metadata": {
      "needs_background": "light"
     },
     "output_type": "display_data"
    }
   ],
   "source": [
    "article_data.groupby('year').size().plot.bar()"
   ]
  },
  {
   "cell_type": "code",
   "execution_count": null,
   "metadata": {},
   "outputs": [],
   "source": []
  }
 ],
 "metadata": {
  "kernelspec": {
   "display_name": "Python 3",
   "language": "python",
   "name": "python3"
  },
  "language_info": {
   "codemirror_mode": {
    "name": "ipython",
    "version": 3
   },
   "file_extension": ".py",
   "mimetype": "text/x-python",
   "name": "python",
   "nbconvert_exporter": "python",
   "pygments_lexer": "ipython3",
   "version": "3.8.7"
  }
 },
 "nbformat": 4,
 "nbformat_minor": 4
}
