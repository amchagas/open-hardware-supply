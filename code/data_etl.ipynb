{
 "cells": [
  {
   "cell_type": "markdown",
   "metadata": {},
   "source": [
    "# Data extraction, transformation, and loading into a JSON file\n",
    "This is part of the project described in <https://github.com/amchagas/OSH_papers_DB>, check the project readme for more details.\n",
    "\n",
    "This notebook loads data sources and merges them in a single compressed JSON file."
   ]
  },
  {
   "cell_type": "code",
   "execution_count": 51,
   "metadata": {},
   "outputs": [],
   "source": [
    "import os\n",
    "import re\n",
    "import numpy as np\n",
    "import pandas as pd\n",
    "import rispy\n",
    "import matplotlib.pyplot as plt\n",
    "from pathlib import Path\n",
    "from project_definitions import baseDir, dataSourceDir, dataOutDir, figDir, articleDataFile\n",
    "from project_definitions import store_data, load_data\n",
    "from pprint import pprint\n",
    "import html\n",
    "from jellyfish import damerau_levenshtein_distance as edit_distance"
   ]
  },
  {
   "cell_type": "markdown",
   "metadata": {},
   "source": [
    "## Sources"
   ]
  },
  {
   "cell_type": "code",
   "execution_count": 52,
   "metadata": {},
   "outputs": [],
   "source": [
    "scieloSource = {\n",
    "    'paths': [dataSourceDir / x for x in (\"scielo.ris\",)],\n",
    "    'rispy_args': {},\n",
    "    'col_rename': {},\n",
    "    'transforms': [],\n",
    "}\n",
    "scopusSource = {\n",
    "    'paths': [dataSourceDir / x for x in (\"scopus.ris\",)],\n",
    "    'rispy_args': {},\n",
    "    'col_rename': {},\n",
    "    'transforms': [],\n",
    "}\n",
    "wosSource = {\n",
    "    'paths': [dataSourceDir / x for x in (\"wos1-500.ciw\", \"wos501-973.ciw\")],\n",
    "    'rispy_args': {'implementation': 'wok'},\n",
    "    'col_rename': {'publication_year': 'year', 'document_title': 'title'},\n",
    "    'transforms': [],\n",
    "}"
   ]
  },
  {
   "cell_type": "code",
   "execution_count": 53,
   "metadata": {},
   "outputs": [],
   "source": [
    "def load_source(dataSource):\n",
    "    dfs = []\n",
    "    for path in dataSource['paths']:\n",
    "        with path.open() as f:\n",
    "            df = pd.DataFrame(rispy.load(f, **dataSource['rispy_args']))\n",
    "        df['__source'] = [[path.name] for _ in range(len(df))]\n",
    "        dfs.append(df)\n",
    "    cdf = pd.concat(dfs, join='outer', ignore_index=True)\n",
    "    cdf = cdf.rename(columns=dataSource['col_rename'])\n",
    "    for trans in dataSource['transforms']:\n",
    "        cdf = cdf.transform(trans)\n",
    "    return cdf.sort_index(axis=1)"
   ]
  },
  {
   "cell_type": "code",
   "execution_count": 54,
   "metadata": {},
   "outputs": [],
   "source": [
    "scieloData = load_source(scieloSource)"
   ]
  },
  {
   "cell_type": "code",
   "execution_count": 55,
   "metadata": {},
   "outputs": [],
   "source": [
    "scopusData = load_source(scopusSource)"
   ]
  },
  {
   "cell_type": "code",
   "execution_count": 56,
   "metadata": {},
   "outputs": [],
   "source": [
    "wosData = load_source(wosSource)"
   ]
  },
  {
   "cell_type": "code",
   "execution_count": null,
   "metadata": {},
   "outputs": [],
   "source": [
    "allDataList = [scieloData, scopusData, wosData]"
   ]
  },
  {
   "cell_type": "code",
   "execution_count": null,
   "metadata": {},
   "outputs": [],
   "source": [
    "allData = pd.concat(allDataList, join='outer', ignore_index=True)"
   ]
  },
  {
   "cell_type": "code",
   "execution_count": null,
   "metadata": {
    "scrolled": true
   },
   "outputs": [],
   "source": [
    "allData.describe()"
   ]
  },
  {
   "cell_type": "code",
   "execution_count": null,
   "metadata": {},
   "outputs": [],
   "source": [
    "def merge_series_keep_longest(sx):\n",
    "    if sx.isna().all():\n",
    "        return np.nan\n",
    "    if sx.name == '__source':\n",
    "        return sx.sum()\n",
    "    return sx[sx.map(len, na_action='ignore').idxmax()]\n",
    "\n",
    "def merge_records_keep_longest(dfx):\n",
    "    return dfx.agg(merge_series_keep_longest)"
   ]
  },
  {
   "cell_type": "code",
   "execution_count": null,
   "metadata": {},
   "outputs": [],
   "source": [
    "# Keep only article data\n",
    "article_data = allData.loc[allData[\"type_of_reference\"].eq('JOUR') | allData[\"publication_type\"].eq('J')]\n",
    "# Merge data with same DOI\n",
    "article_doi = article_data.groupby(article_data['doi'].values).agg(merge_records_keep_longest)\n",
    "# Reassemble data with and without DOI\n",
    "article_nodoi = article_data[~article_data.doi.isin(article_doi.index)]\n",
    "article_data = pd.concat([article_doi, article_nodoi], ignore_index=True)"
   ]
  },
  {
   "cell_type": "code",
   "execution_count": 15,
   "metadata": {},
   "outputs": [],
   "source": [
    "def clean_titles(sx):\n",
    "    return (\n",
    "        sx\n",
    "        .str.lower()\n",
    "        .str.replace(r'[^\\s\\w]', ' ', regex=True)\n",
    "        .str.replace(r'\\s+', ' ', regex=True)\n",
    "        .str.strip()\n",
    "    )"
   ]
  },
  {
   "cell_type": "code",
   "execution_count": 17,
   "metadata": {},
   "outputs": [],
   "source": [
    "class Match:\n",
    "    \"\"\"\n",
    "    Index string values with similar strings under the same index, for use in a `groupby`.\n",
    "\n",
    "    First normalizes titles. Then, for each value, returns the index of the first previously indexed value\n",
    "    whose edit_distance is <= threshold, or a new index if none is found.\n",
    "    \"\"\"\n",
    "    def __init__(self, df, threshold=0):\n",
    "        self.df = df\n",
    "        assert not df['title'].hasnans\n",
    "        self.titles = clean_titles(self.df['title'])\n",
    "        self.threshold = threshold\n",
    "        self.match_index = {}\n",
    "    def match(self, x):\n",
    "        x = self.titles.loc[x]\n",
    "        if x in self.match_index:\n",
    "            return self.match_index[x]\n",
    "        if self.threshold > 0:\n",
    "            for m, idx in self.match_index.items():\n",
    "                if edit_distance(x, m) <= self.threshold:\n",
    "                    self.match_index[x] = idx\n",
    "                    return self.match_index[x]\n",
    "        self.match_index[x] = len(self.match_index)\n",
    "        return self.match_index[x]"
   ]
  },
  {
   "cell_type": "code",
   "execution_count": null,
   "metadata": {},
   "outputs": [],
   "source": [
    "articles_g = article_data.groupby(Match(article_data, 5).match)"
   ]
  },
  {
   "cell_type": "code",
   "execution_count": null,
   "metadata": {},
   "outputs": [],
   "source": [
    "aa = articles_g.agg(list)[articles_g.size()>=2]"
   ]
  },
  {
   "cell_type": "code",
   "execution_count": null,
   "metadata": {},
   "outputs": [],
   "source": [
    "# Test alternatives matchers\n",
    "# articles_gx = article_data.groupby(Match(article_data, 15).match)\n",
    "# bb = articles_gx.agg(list)[articles_gx.size()>=2]\n",
    "# set(clean_titles(aa.explode('title')['title'])).difference(clean_title(bb.explode('title')['title']))\n",
    "# set(clean_titles(bb.explode('title')['title'])).difference(clean_title(aa.explode('title')['title']))"
   ]
  },
  {
   "cell_type": "code",
   "execution_count": null,
   "metadata": {},
   "outputs": [],
   "source": [
    "# Check that matching titles also have matching year and author (impl: first author last name)\n",
    "assert aa['year'].map(lambda x: len(set(x)) < 2).all()\n",
    "aa['authors'].map(\n",
    "    lambda x: set(\n",
    "        tuple(z.split(',')[0].split(' ')[-1] for z in y) # last name of each author\n",
    "        for y in x\n",
    "        if not ( isinstance(y, np.float) and pd.isna(y) ) # skip NANs\n",
    "    )\n",
    ").map(\n",
    "    lambda x: sum(\n",
    "        edit_distance(y, z) # sum the edit distances\n",
    "        for x in list(zip(*x))[:1] # first authors\n",
    "        for i, y in enumerate(x) for z in x[i+1:] # distinct pairs\n",
    "    )\n",
    ").max() < 2"
   ]
  },
  {
   "cell_type": "code",
   "execution_count": 90,
   "metadata": {},
   "outputs": [
    {
     "data": {
      "text/html": [
       "<div>\n",
       "<style scoped>\n",
       "    .dataframe tbody tr th:only-of-type {\n",
       "        vertical-align: middle;\n",
       "    }\n",
       "\n",
       "    .dataframe tbody tr th {\n",
       "        vertical-align: top;\n",
       "    }\n",
       "\n",
       "    .dataframe thead th {\n",
       "        text-align: right;\n",
       "    }\n",
       "</style>\n",
       "<table border=\"1\" class=\"dataframe\">\n",
       "  <thead>\n",
       "    <tr style=\"text-align: right;\">\n",
       "      <th></th>\n",
       "      <th>doi</th>\n",
       "      <th>title</th>\n",
       "      <th>authors</th>\n",
       "    </tr>\n",
       "  </thead>\n",
       "  <tbody>\n",
       "    <tr>\n",
       "      <th>count</th>\n",
       "      <td>623</td>\n",
       "      <td>706</td>\n",
       "      <td>702</td>\n",
       "    </tr>\n",
       "    <tr>\n",
       "      <th>unique</th>\n",
       "      <td>623</td>\n",
       "      <td>706</td>\n",
       "      <td>680</td>\n",
       "    </tr>\n",
       "    <tr>\n",
       "      <th>top</th>\n",
       "      <td>10.1016/j.ohx.2020.e00127</td>\n",
       "      <td>Research on Monitoring Platform of Agricultura...</td>\n",
       "      <td>[Pearce, J.M.]</td>\n",
       "    </tr>\n",
       "    <tr>\n",
       "      <th>freq</th>\n",
       "      <td>1</td>\n",
       "      <td>1</td>\n",
       "      <td>10</td>\n",
       "    </tr>\n",
       "  </tbody>\n",
       "</table>\n",
       "</div>"
      ],
      "text/plain": [
       "                              doi  \\\n",
       "count                         623   \n",
       "unique                        623   \n",
       "top     10.1016/j.ohx.2020.e00127   \n",
       "freq                            1   \n",
       "\n",
       "                                                    title         authors  \n",
       "count                                                 706             702  \n",
       "unique                                                706             680  \n",
       "top     Research on Monitoring Platform of Agricultura...  [Pearce, J.M.]  \n",
       "freq                                                    1              10  "
      ]
     },
     "execution_count": 90,
     "metadata": {},
     "output_type": "execute_result"
    }
   ],
   "source": [
    "article_data[['doi', 'title', 'authors']].describe()"
   ]
  },
  {
   "cell_type": "code",
   "execution_count": null,
   "metadata": {
    "scrolled": true
   },
   "outputs": [],
   "source": [
    "article_data = articles_g.agg(merge_records_keep_longest)\n",
    "article_data"
   ]
  },
  {
   "cell_type": "code",
   "execution_count": null,
   "metadata": {},
   "outputs": [],
   "source": [
    "# Store deduplicated data and check the stored version reproduces the data\n",
    "store_data(article_data, articleDataFile)\n",
    "assert article_data.equals(load_data(articleDataFile))"
   ]
  },
  {
   "cell_type": "markdown",
   "metadata": {},
   "source": [
    "# Load article data (instead of running the code above)"
   ]
  },
  {
   "cell_type": "code",
   "execution_count": 3,
   "metadata": {},
   "outputs": [],
   "source": [
    "article_data = load_data(articleDataFile)"
   ]
  },
  {
   "cell_type": "markdown",
   "metadata": {},
   "source": [
    "## CSV sources"
   ]
  },
  {
   "cell_type": "code",
   "execution_count": 98,
   "metadata": {},
   "outputs": [],
   "source": [
    "plosData = pd.read_csv('https://raw.githubusercontent.com/amchagas/open-source-toolkit/main/plos-items.csv')"
   ]
  },
  {
   "cell_type": "code",
   "execution_count": 99,
   "metadata": {},
   "outputs": [
    {
     "data": {
      "text/html": [
       "<div>\n",
       "<style scoped>\n",
       "    .dataframe tbody tr th:only-of-type {\n",
       "        vertical-align: middle;\n",
       "    }\n",
       "\n",
       "    .dataframe tbody tr th {\n",
       "        vertical-align: top;\n",
       "    }\n",
       "\n",
       "    .dataframe thead th {\n",
       "        text-align: right;\n",
       "    }\n",
       "</style>\n",
       "<table border=\"1\" class=\"dataframe\">\n",
       "  <thead>\n",
       "    <tr style=\"text-align: right;\">\n",
       "      <th></th>\n",
       "      <th>URI (DOI or URL)</th>\n",
       "      <th>Hardware or software</th>\n",
       "      <th>Title (URL items only)</th>\n",
       "      <th>Authors (URL items only)</th>\n",
       "      <th>Content Type (URL items only - Research Article, Web Article, Commentary, Video, Poster)</th>\n",
       "      <th>Date Published (URL items only)</th>\n",
       "      <th>Source (URL items only)</th>\n",
       "      <th>Summary</th>\n",
       "      <th>Featured Rank (1 = Editor's Pick, 2-6 = Featured Research, 7-12 = Related Content)</th>\n",
       "      <th>Paywall (x = paywall, otherwise leave blank)</th>\n",
       "      <th>Featured Preprint (x = Featured Preprint, otherwise leave blank)</th>\n",
       "      <th>Remove (x = delete the item)</th>\n",
       "    </tr>\n",
       "  </thead>\n",
       "  <tbody>\n",
       "    <tr>\n",
       "      <th>4</th>\n",
       "      <td>https://pubs.acs.org/doi/pdf/10.1021/acs.analc...</td>\n",
       "      <td>hardware</td>\n",
       "      <td>ODX: A Fitness Tracker-Based Device for Contin...</td>\n",
       "      <td>Venkata V. B. YallapragadaUday GowdaDavid Wong...</td>\n",
       "      <td>Research Article</td>\n",
       "      <td>2019-10-17</td>\n",
       "      <td>ACS Publications</td>\n",
       "      <td>NaN</td>\n",
       "      <td>NaN</td>\n",
       "      <td>NaN</td>\n",
       "      <td>NaN</td>\n",
       "      <td>NaN</td>\n",
       "    </tr>\n",
       "    <tr>\n",
       "      <th>6</th>\n",
       "      <td>http://scitation.aip.org/content/aip/journal/r...</td>\n",
       "      <td>hardware</td>\n",
       "      <td>A one-piece 3D printed flexure translation sta...</td>\n",
       "      <td>James P. Sharkey, Darryl C. W. Foo, Alexandre ...</td>\n",
       "      <td>Research Article</td>\n",
       "      <td>2016-02-08</td>\n",
       "      <td>AIP Scientific Instruments</td>\n",
       "      <td>NaN</td>\n",
       "      <td>NaN</td>\n",
       "      <td>NaN</td>\n",
       "      <td>NaN</td>\n",
       "      <td>NaN</td>\n",
       "    </tr>\n",
       "    <tr>\n",
       "      <th>8</th>\n",
       "      <td>http://www.appropedia.org/Free_and_open-source...</td>\n",
       "      <td>hardware</td>\n",
       "      <td>Free and open-source automated 3-D microscope</td>\n",
       "      <td>Wijnen, B., Petersen, E. E., Hunt, E. J. and P...</td>\n",
       "      <td>Research Article</td>\n",
       "      <td>2017-08-01</td>\n",
       "      <td>Appropedia</td>\n",
       "      <td>This paper presents a low-cost, open-source mi...</td>\n",
       "      <td>NaN</td>\n",
       "      <td>NaN</td>\n",
       "      <td>NaN</td>\n",
       "      <td>NaN</td>\n",
       "    </tr>\n",
       "    <tr>\n",
       "      <th>9</th>\n",
       "      <td>http://www.appropedia.org/Open-source_mobile_w...</td>\n",
       "      <td>hardware</td>\n",
       "      <td>Open-source mobile water quality testing platform</td>\n",
       "      <td>Bas Wijnen, G. C. Anzalone and Joshua M. Pearce</td>\n",
       "      <td>Research Article</td>\n",
       "      <td>2017-08-01</td>\n",
       "      <td>Appropedia</td>\n",
       "      <td>This project details an open source water test...</td>\n",
       "      <td>NaN</td>\n",
       "      <td>NaN</td>\n",
       "      <td>NaN</td>\n",
       "      <td>NaN</td>\n",
       "    </tr>\n",
       "    <tr>\n",
       "      <th>10</th>\n",
       "      <td>http://www.appropedia.org/Open-source_Wax_RepR...</td>\n",
       "      <td>hardware</td>\n",
       "      <td>Open-source Wax RepRap 3-D Printer for Rapid P...</td>\n",
       "      <td>J. M. Pearce, N. C. Anzalone, and C. L. Heldt.</td>\n",
       "      <td>Research Article</td>\n",
       "      <td>2017-08-01</td>\n",
       "      <td>Appropedia</td>\n",
       "      <td>This study reports on the development of a Rep...</td>\n",
       "      <td>NaN</td>\n",
       "      <td>NaN</td>\n",
       "      <td>NaN</td>\n",
       "      <td>NaN</td>\n",
       "    </tr>\n",
       "    <tr>\n",
       "      <th>...</th>\n",
       "      <td>...</td>\n",
       "      <td>...</td>\n",
       "      <td>...</td>\n",
       "      <td>...</td>\n",
       "      <td>...</td>\n",
       "      <td>...</td>\n",
       "      <td>...</td>\n",
       "      <td>...</td>\n",
       "      <td>...</td>\n",
       "      <td>...</td>\n",
       "      <td>...</td>\n",
       "      <td>...</td>\n",
       "    </tr>\n",
       "    <tr>\n",
       "      <th>434</th>\n",
       "      <td>http://www.mdpi.com/1424-8220/13/4/5338</td>\n",
       "      <td>hardware</td>\n",
       "      <td>Open-Source Colorimeter</td>\n",
       "      <td>Gerald C. Anzalone, Alexandra G. Glover and Jo...</td>\n",
       "      <td>Research Article</td>\n",
       "      <td>2013-04-19</td>\n",
       "      <td>Sensors</td>\n",
       "      <td>This paper provides a methodology for applying...</td>\n",
       "      <td>NaN</td>\n",
       "      <td>NaN</td>\n",
       "      <td>NaN</td>\n",
       "      <td>NaN</td>\n",
       "    </tr>\n",
       "    <tr>\n",
       "      <th>435</th>\n",
       "      <td>https://www.sciencedirect.com/science/article/...</td>\n",
       "      <td>hardware</td>\n",
       "      <td>Glucose biosensor based on open-source wireles...</td>\n",
       "      <td>Conan Mercer, Richard Bennett, Peter Ó Conghai...</td>\n",
       "      <td>Research Article</td>\n",
       "      <td>2019-03-28</td>\n",
       "      <td>Sensors and Actuators B: Chemical</td>\n",
       "      <td>Wireless potentiostats capable of cyclic volta...</td>\n",
       "      <td>NaN</td>\n",
       "      <td>x</td>\n",
       "      <td>NaN</td>\n",
       "      <td>NaN</td>\n",
       "    </tr>\n",
       "    <tr>\n",
       "      <th>436</th>\n",
       "      <td>http://biomedicaloptics.spiedigitallibrary.org...</td>\n",
       "      <td>hardware</td>\n",
       "      <td>Fabricating optical lenses by inkjet printing ...</td>\n",
       "      <td>Yu-Lung Sung, Jenn Jeang, Chia-Hsiung Lee, Wei...</td>\n",
       "      <td>Research Article</td>\n",
       "      <td>2015-03-30</td>\n",
       "      <td>SPIE | Journal of Biomedical Optics</td>\n",
       "      <td>NaN</td>\n",
       "      <td>NaN</td>\n",
       "      <td>NaN</td>\n",
       "      <td>NaN</td>\n",
       "      <td>NaN</td>\n",
       "    </tr>\n",
       "    <tr>\n",
       "      <th>440</th>\n",
       "      <td>http://sro.sussex.ac.uk/66499/</td>\n",
       "      <td>hardware</td>\n",
       "      <td>Microsco-pi: a novel and inexpensive way of me...</td>\n",
       "      <td>Jonathan P Bacon, Harry R Kent</td>\n",
       "      <td>Research Article</td>\n",
       "      <td>2017-03-06</td>\n",
       "      <td>Sussex Research Online</td>\n",
       "      <td>NaN</td>\n",
       "      <td>NaN</td>\n",
       "      <td>NaN</td>\n",
       "      <td>NaN</td>\n",
       "      <td>NaN</td>\n",
       "    </tr>\n",
       "    <tr>\n",
       "      <th>443</th>\n",
       "      <td>https://doi.org/10.1016/j.techfore.2020.119986</td>\n",
       "      <td>hardware</td>\n",
       "      <td>Towards national policy for open source hardwa...</td>\n",
       "      <td>T.S. Heikkinen, H.Savin, J.Partanen, J.Seppälä...</td>\n",
       "      <td>Research Article</td>\n",
       "      <td>2020-04-06</td>\n",
       "      <td>Technological Forecasting and Social Change</td>\n",
       "      <td>Free and open-source hardware (FOSH) is rapidl...</td>\n",
       "      <td>NaN</td>\n",
       "      <td>NaN</td>\n",
       "      <td>NaN</td>\n",
       "      <td>NaN</td>\n",
       "    </tr>\n",
       "  </tbody>\n",
       "</table>\n",
       "<p>166 rows × 12 columns</p>\n",
       "</div>"
      ],
      "text/plain": [
       "                                      URI (DOI or URL) Hardware or software  \\\n",
       "4    https://pubs.acs.org/doi/pdf/10.1021/acs.analc...             hardware   \n",
       "6    http://scitation.aip.org/content/aip/journal/r...             hardware   \n",
       "8    http://www.appropedia.org/Free_and_open-source...             hardware   \n",
       "9    http://www.appropedia.org/Open-source_mobile_w...             hardware   \n",
       "10   http://www.appropedia.org/Open-source_Wax_RepR...             hardware   \n",
       "..                                                 ...                  ...   \n",
       "434            http://www.mdpi.com/1424-8220/13/4/5338             hardware   \n",
       "435  https://www.sciencedirect.com/science/article/...             hardware   \n",
       "436  http://biomedicaloptics.spiedigitallibrary.org...             hardware   \n",
       "440                     http://sro.sussex.ac.uk/66499/             hardware   \n",
       "443     https://doi.org/10.1016/j.techfore.2020.119986             hardware   \n",
       "\n",
       "                                Title (URL items only)  \\\n",
       "4    ODX: A Fitness Tracker-Based Device for Contin...   \n",
       "6    A one-piece 3D printed flexure translation sta...   \n",
       "8        Free and open-source automated 3-D microscope   \n",
       "9    Open-source mobile water quality testing platform   \n",
       "10   Open-source Wax RepRap 3-D Printer for Rapid P...   \n",
       "..                                                 ...   \n",
       "434                            Open-Source Colorimeter   \n",
       "435  Glucose biosensor based on open-source wireles...   \n",
       "436  Fabricating optical lenses by inkjet printing ...   \n",
       "440  Microsco-pi: a novel and inexpensive way of me...   \n",
       "443  Towards national policy for open source hardwa...   \n",
       "\n",
       "                              Authors (URL items only)  \\\n",
       "4    Venkata V. B. YallapragadaUday GowdaDavid Wong...   \n",
       "6    James P. Sharkey, Darryl C. W. Foo, Alexandre ...   \n",
       "8    Wijnen, B., Petersen, E. E., Hunt, E. J. and P...   \n",
       "9     Bas Wijnen, G. C. Anzalone and Joshua M. Pearce    \n",
       "10      J. M. Pearce, N. C. Anzalone, and C. L. Heldt.   \n",
       "..                                                 ...   \n",
       "434  Gerald C. Anzalone, Alexandra G. Glover and Jo...   \n",
       "435  Conan Mercer, Richard Bennett, Peter Ó Conghai...   \n",
       "436  Yu-Lung Sung, Jenn Jeang, Chia-Hsiung Lee, Wei...   \n",
       "440                     Jonathan P Bacon, Harry R Kent   \n",
       "443  T.S. Heikkinen, H.Savin, J.Partanen, J.Seppälä...   \n",
       "\n",
       "    Content Type (URL items only - Research Article, Web Article, Commentary, Video, Poster)  \\\n",
       "4                                     Research Article                                         \n",
       "6                                     Research Article                                         \n",
       "8                                     Research Article                                         \n",
       "9                                     Research Article                                         \n",
       "10                                    Research Article                                         \n",
       "..                                                 ...                                         \n",
       "434                                   Research Article                                         \n",
       "435                                   Research Article                                         \n",
       "436                                   Research Article                                         \n",
       "440                                   Research Article                                         \n",
       "443                                   Research Article                                         \n",
       "\n",
       "    Date Published (URL items only)  \\\n",
       "4                        2019-10-17   \n",
       "6                        2016-02-08   \n",
       "8                        2017-08-01   \n",
       "9                        2017-08-01   \n",
       "10                       2017-08-01   \n",
       "..                              ...   \n",
       "434                      2013-04-19   \n",
       "435                      2019-03-28   \n",
       "436                      2015-03-30   \n",
       "440                      2017-03-06   \n",
       "443                      2020-04-06   \n",
       "\n",
       "                         Source (URL items only)  \\\n",
       "4                               ACS Publications   \n",
       "6                     AIP Scientific Instruments   \n",
       "8                                     Appropedia   \n",
       "9                                     Appropedia   \n",
       "10                                    Appropedia   \n",
       "..                                           ...   \n",
       "434                                      Sensors   \n",
       "435            Sensors and Actuators B: Chemical   \n",
       "436          SPIE | Journal of Biomedical Optics   \n",
       "440                       Sussex Research Online   \n",
       "443  Technological Forecasting and Social Change   \n",
       "\n",
       "                                               Summary  \\\n",
       "4                                                  NaN   \n",
       "6                                                  NaN   \n",
       "8    This paper presents a low-cost, open-source mi...   \n",
       "9    This project details an open source water test...   \n",
       "10   This study reports on the development of a Rep...   \n",
       "..                                                 ...   \n",
       "434  This paper provides a methodology for applying...   \n",
       "435  Wireless potentiostats capable of cyclic volta...   \n",
       "436                                                NaN   \n",
       "440                                                NaN   \n",
       "443  Free and open-source hardware (FOSH) is rapidl...   \n",
       "\n",
       "    Featured Rank (1 = Editor's Pick, 2-6 = Featured Research, 7-12 = Related Content)  \\\n",
       "4                                                  NaN                                   \n",
       "6                                                  NaN                                   \n",
       "8                                                  NaN                                   \n",
       "9                                                  NaN                                   \n",
       "10                                                 NaN                                   \n",
       "..                                                 ...                                   \n",
       "434                                                NaN                                   \n",
       "435                                                NaN                                   \n",
       "436                                                NaN                                   \n",
       "440                                                NaN                                   \n",
       "443                                                NaN                                   \n",
       "\n",
       "    Paywall (x = paywall, otherwise leave blank)  \\\n",
       "4                                            NaN   \n",
       "6                                            NaN   \n",
       "8                                            NaN   \n",
       "9                                            NaN   \n",
       "10                                           NaN   \n",
       "..                                           ...   \n",
       "434                                          NaN   \n",
       "435                                            x   \n",
       "436                                          NaN   \n",
       "440                                          NaN   \n",
       "443                                          NaN   \n",
       "\n",
       "    Featured Preprint (x = Featured Preprint, otherwise leave blank)  \\\n",
       "4                                                  NaN                 \n",
       "6                                                  NaN                 \n",
       "8                                                  NaN                 \n",
       "9                                                  NaN                 \n",
       "10                                                 NaN                 \n",
       "..                                                 ...                 \n",
       "434                                                NaN                 \n",
       "435                                                NaN                 \n",
       "436                                                NaN                 \n",
       "440                                                NaN                 \n",
       "443                                                NaN                 \n",
       "\n",
       "     Remove (x = delete the item)  \n",
       "4                             NaN  \n",
       "6                             NaN  \n",
       "8                             NaN  \n",
       "9                             NaN  \n",
       "10                            NaN  \n",
       "..                            ...  \n",
       "434                           NaN  \n",
       "435                           NaN  \n",
       "436                           NaN  \n",
       "440                           NaN  \n",
       "443                           NaN  \n",
       "\n",
       "[166 rows x 12 columns]"
      ]
     },
     "execution_count": 99,
     "metadata": {},
     "output_type": "execute_result"
    }
   ],
   "source": [
    "sel_article = plosData[\"Content Type (URL items only - Research Article, Web Article, Commentary, Video, Poster)\"].eq(\"Research Article\")\n",
    "sel_hardware = plosData[\"Hardware or software\"].eq(\"hardware\")\n",
    "plosData = plosData.loc[sel_article & sel_hardware]\n",
    "assert not plosData[\"URI (DOI or URL)\"].isna().any()\n",
    "plosData['Title (URL items only)'] = plosData['Title (URL items only)'].str.strip()\n",
    "plosData"
   ]
  },
  {
   "cell_type": "code",
   "execution_count": 103,
   "metadata": {},
   "outputs": [
    {
     "data": {
      "text/plain": [
       "True     120\n",
       "False     46\n",
       "Name: URI (DOI or URL), dtype: int64"
      ]
     },
     "execution_count": 103,
     "metadata": {},
     "output_type": "execute_result"
    }
   ],
   "source": [
    "# How many are doi-like\n",
    "re_doi = '10\\.\\d+/.+'\n",
    "plosData['URI (DOI or URL)'].str.contains(re_doi).value_counts()"
   ]
  },
  {
   "cell_type": "code",
   "execution_count": 102,
   "metadata": {},
   "outputs": [
    {
     "data": {
      "text/plain": [
       "35"
      ]
     },
     "execution_count": 102,
     "metadata": {},
     "output_type": "execute_result"
    }
   ],
   "source": [
    "# How many have their title in the corpus\n",
    "plosData['Title (URL items only)'].pipe(clean_titles).map(\n",
    "    lambda x: article_data.title.pipe(clean_titles).str.contains(rf'(?i){x}', regex=True).any()\n",
    ").sum()"
   ]
  },
  {
   "cell_type": "code",
   "execution_count": 107,
   "metadata": {},
   "outputs": [
    {
     "data": {
      "text/plain": [
       "350    10.1371/journal.pone.0187219\n",
       "405    10.1371/journal.pone.0059840\n",
       "407    10.1371/journal.pone.0030837\n",
       "393    10.1371/journal.pone.0118545\n",
       "310    10.1371/journal.pone.0206678\n",
       "388    10.1371/journal.pone.0143547\n",
       "295    10.1371/journal.pone.0220751\n",
       "398    10.1371/journal.pone.0107216\n",
       "281    10.1371/journal.pone.0226761\n",
       "338    10.1371/journal.pone.0193744\n",
       "Name: URI (DOI or URL), dtype: object"
      ]
     },
     "execution_count": 107,
     "metadata": {},
     "output_type": "execute_result"
    }
   ],
   "source": [
    "# Give me 10 pone\n",
    "z = plosData['URI (DOI or URL)'][plosData['URI (DOI or URL)'].str.contains('\\.pone\\.')].sample(10)"
   ]
  },
  {
   "cell_type": "code",
   "execution_count": 111,
   "metadata": {},
   "outputs": [
    {
     "name": "stdout",
     "output_type": "stream",
     "text": [
      "350 democratizing science with the aid of parametric design and additive manufacturing design and fabrication of a versatile and low cost optical instrument for scattering measurement\n",
      "407 the spikerbox a low cost open source bioamplifier for increasing public participation in neuroscience inquiry\n",
      "393 the aerodynamic cost of head morphology in bats maybe not as bad as it seems\n",
      "310 open source sensor for measuring oxygen partial pressures below 100 microbars\n",
      "388 open led illuminator a simple and inexpensive led illuminator for fast multicolor particle tracking in neurons\n",
      "295 low cost solution for rodent home cage behaviour monitoring\n",
      "398 open source syringe pump library\n",
      "281 an accurate precise and affordable light emitting diode spectrophotometer for drinking water and other testing with limited resources\n",
      "338 do it yourself reliable ph stat device by using open source software inexpensive hardware and available laboratory equipment\n"
     ]
    }
   ],
   "source": [
    "# Which of those pone are not in the corpus\n",
    "for i, title in plosData.loc[z.index]['Title (URL items only)'].pipe(clean_titles).items():\n",
    "    if re.search(re_doi, plosData.loc[i, 'URI (DOI or URL)']):\n",
    "        if not clean_titles(article_data.title).str.contains(rf'(?i){title}', regex=True).any():\n",
    "            print(i, title)"
   ]
  },
  {
   "cell_type": "code",
   "execution_count": null,
   "metadata": {},
   "outputs": [],
   "source": [
    "plos2bibtex = {\n",
    "    \"URI (DOI or URL)\": \"doi\",\n",
    "    \"\": \"\",\n",
    "}"
   ]
  },
  {
   "cell_type": "code",
   "execution_count": null,
   "metadata": {},
   "outputs": [],
   "source": [
    "sel_new_doi = ~plosData[\"URI (DOI or URL)\"].isin(allData.doi.values)\n",
    "sel_new_doi.sum()"
   ]
  },
  {
   "cell_type": "code",
   "execution_count": null,
   "metadata": {},
   "outputs": [],
   "source": [
    "sel_new_title = ~plosData[\"Title (URL items only)\"].isin(allData.title.values)\n",
    "sel_new_title.sum()"
   ]
  },
  {
   "cell_type": "code",
   "execution_count": null,
   "metadata": {},
   "outputs": [],
   "source": [
    "# Same titles, different DOIs\n",
    "x = plosData[[\"URI (DOI or URL)\", \"Title (URL items only)\"]].loc[sel_new_doi & ~sel_new_title]\n",
    "x['doi'] = [\n",
    "    allData[\"doi\"].loc[\n",
    "        allData['title'].eq(y)\n",
    "    ].squeeze()\n",
    "    for y in x[\"Title (URL items only)\"]\n",
    "]\n",
    "x"
   ]
  },
  {
   "cell_type": "code",
   "execution_count": null,
   "metadata": {},
   "outputs": [],
   "source": [
    "# Same DOI, different Titles\n",
    "pprint(plosData[\"Title (URL items only)\"].loc[~sel_new_doi & sel_new_title])\n",
    "print()\n",
    "pprint(allData[\"title\"].loc[\n",
    "    allData[\"doi\"].eq('10.1371/journal.pone.0023783')\n",
    "])"
   ]
  },
  {
   "cell_type": "markdown",
   "metadata": {},
   "source": [
    "# All done, now just mess around"
   ]
  },
  {
   "cell_type": "code",
   "execution_count": null,
   "metadata": {},
   "outputs": [],
   "source": [
    "data = nad"
   ]
  },
  {
   "cell_type": "code",
   "execution_count": null,
   "metadata": {},
   "outputs": [],
   "source": [
    "print(data.shape)\n",
    "print(data.columns)"
   ]
  },
  {
   "cell_type": "code",
   "execution_count": null,
   "metadata": {},
   "outputs": [],
   "source": [
    "print(article_data.shape)"
   ]
  },
  {
   "cell_type": "code",
   "execution_count": null,
   "metadata": {},
   "outputs": [],
   "source": [
    "dup_title = article_data.duplicated('title', keep=False)\n",
    "dup_doi = article_data.duplicated('doi', keep=False)\n",
    "nan_doi = article_data['doi'].isna()\n",
    "print(\n",
    "    dup_title.sum(),\n",
    "    dup_doi.sum(),\n",
    "    nan_doi.sum(),\n",
    "    (dup_title & dup_doi).sum(),\n",
    "    (dup_title & ~dup_doi).sum(),\n",
    ")"
   ]
  },
  {
   "cell_type": "code",
   "execution_count": null,
   "metadata": {},
   "outputs": [],
   "source": [
    "article_data.issn.str.replace('[^\\d]', '', regex=True).value_counts()"
   ]
  },
  {
   "cell_type": "code",
   "execution_count": null,
   "metadata": {},
   "outputs": [],
   "source": [
    "article_data.issn.str.replace('[^\\d]', '', regex=True).value_counts().reset_index().plot(loglog=True)"
   ]
  },
  {
   "cell_type": "code",
   "execution_count": null,
   "metadata": {},
   "outputs": [],
   "source": [
    "article_data.groupby('year').size().plot.bar()"
   ]
  },
  {
   "cell_type": "code",
   "execution_count": null,
   "metadata": {},
   "outputs": [],
   "source": []
  }
 ],
 "metadata": {
  "kernelspec": {
   "display_name": "Python 3",
   "language": "python",
   "name": "python3"
  },
  "language_info": {
   "codemirror_mode": {
    "name": "ipython",
    "version": 3
   },
   "file_extension": ".py",
   "mimetype": "text/x-python",
   "name": "python",
   "nbconvert_exporter": "python",
   "pygments_lexer": "ipython3",
   "version": "3.8.7"
  }
 },
 "nbformat": 4,
 "nbformat_minor": 4
}
