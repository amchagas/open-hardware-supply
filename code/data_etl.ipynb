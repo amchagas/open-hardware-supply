{
 "cells": [
  {
   "cell_type": "markdown",
   "metadata": {},
   "source": [
    "# Data extraction, transformation, and loading into a JSON file\n",
    "This is part of the project described in <https://github.com/amchagas/OSH_papers_DB>, check the project readme for more details.\n",
    "\n",
    "This notebook loads data sources and merges them in a single compressed JSON file."
   ]
  },
  {
   "cell_type": "code",
   "execution_count": 26,
   "metadata": {},
   "outputs": [],
   "source": [
    "import os\n",
    "import re\n",
    "import numpy as np\n",
    "import pandas as pd\n",
    "import rispy\n",
    "import matplotlib.pyplot as plt\n",
    "from pathlib import Path\n",
    "from project_definitions import baseDir, dataSourceDir, dataOutDir, figDir, allDataFile\n",
    "from project_definitions import store_data, load_data\n",
    "from pprint import pprint\n",
    "import html\n",
    "from nltk.metrics.distance import edit_distance"
   ]
  },
  {
   "cell_type": "markdown",
   "metadata": {},
   "source": [
    "## Sources"
   ]
  },
  {
   "cell_type": "code",
   "execution_count": 2,
   "metadata": {},
   "outputs": [],
   "source": [
    "scieloSource = {\n",
    "    'paths': [dataSourceDir / x for x in (\"scielo.ris\",)],\n",
    "    'rispy_args': {},\n",
    "    'col_rename': {'journal_name': 'publication_name'},\n",
    "    'transforms': [],\n",
    "}\n",
    "scopusSource = {\n",
    "    'paths': [dataSourceDir / x for x in (\"scopus.ris\",)],\n",
    "    'rispy_args': {},\n",
    "    'col_rename': {},\n",
    "    'transforms': [],\n",
    "}\n",
    "wosSource = {\n",
    "    'paths': [dataSourceDir / x for x in (\"wos1-500.ciw\", \"wos501-973.ciw\")],\n",
    "    'rispy_args': {'implementation': 'wok'},\n",
    "    'col_rename': {'publication_year': 'year', 'document_title': 'title'},\n",
    "    'transforms': [],\n",
    "}"
   ]
  },
  {
   "cell_type": "code",
   "execution_count": 3,
   "metadata": {},
   "outputs": [],
   "source": [
    "def load_source(dataSource):\n",
    "    dfs = []\n",
    "    for path in dataSource['paths']:\n",
    "        with path.open() as f:\n",
    "            df = pd.DataFrame(rispy.load(f, **dataSource['rispy_args']))\n",
    "        df['__source'] = path.name\n",
    "        dfs.append(df)\n",
    "    cdf = pd.concat(dfs, join='outer', ignore_index=True)\n",
    "    cdf = cdf.rename(columns=dataSource['col_rename'])\n",
    "    for trans in dataSource['transforms']:\n",
    "        cdf = cdf.transform(trans)\n",
    "    return cdf.sort_index(axis=1)"
   ]
  },
  {
   "cell_type": "code",
   "execution_count": 4,
   "metadata": {},
   "outputs": [],
   "source": [
    "scieloData = load_source(scieloSource)"
   ]
  },
  {
   "cell_type": "code",
   "execution_count": 5,
   "metadata": {},
   "outputs": [],
   "source": [
    "scopusData = load_source(scopusSource)"
   ]
  },
  {
   "cell_type": "code",
   "execution_count": 6,
   "metadata": {},
   "outputs": [],
   "source": [
    "wosData = load_source(wosSource)"
   ]
  },
  {
   "cell_type": "code",
   "execution_count": 18,
   "metadata": {},
   "outputs": [],
   "source": [
    "allDataList = [scieloData, scopusData, wosData]"
   ]
  },
  {
   "cell_type": "code",
   "execution_count": 19,
   "metadata": {},
   "outputs": [],
   "source": [
    "allData = pd.concat(allDataList, join='outer', ignore_index=True)"
   ]
  },
  {
   "cell_type": "code",
   "execution_count": 20,
   "metadata": {},
   "outputs": [],
   "source": [
    "store_data(allData, allDataFile)"
   ]
  },
  {
   "cell_type": "code",
   "execution_count": 21,
   "metadata": {},
   "outputs": [],
   "source": [
    "assert allData.equals(load_data(allDataFile))"
   ]
  },
  {
   "cell_type": "code",
   "execution_count": 22,
   "metadata": {},
   "outputs": [
    {
     "data": {
      "text/html": [
       "<div>\n",
       "<style scoped>\n",
       "    .dataframe tbody tr th:only-of-type {\n",
       "        vertical-align: middle;\n",
       "    }\n",
       "\n",
       "    .dataframe tbody tr th {\n",
       "        vertical-align: top;\n",
       "    }\n",
       "\n",
       "    .dataframe thead th {\n",
       "        text-align: right;\n",
       "    }\n",
       "</style>\n",
       "<table border=\"1\" class=\"dataframe\">\n",
       "  <thead>\n",
       "    <tr style=\"text-align: right;\">\n",
       "      <th></th>\n",
       "      <th>__source</th>\n",
       "      <th>abstract</th>\n",
       "      <th>alternate_title1</th>\n",
       "      <th>authors</th>\n",
       "      <th>database_provider</th>\n",
       "      <th>date</th>\n",
       "      <th>doi</th>\n",
       "      <th>end_page</th>\n",
       "      <th>file_attachments1</th>\n",
       "      <th>id</th>\n",
       "      <th>...</th>\n",
       "      <th>research_areas</th>\n",
       "      <th>researcher_id</th>\n",
       "      <th>source_abbreviation_29c</th>\n",
       "      <th>special_issue</th>\n",
       "      <th>supplement</th>\n",
       "      <th>total_times_cited_count</th>\n",
       "      <th>usage_count_180</th>\n",
       "      <th>usage_count_2013</th>\n",
       "      <th>wos_categories</th>\n",
       "      <th>wos_core_collection_cited_count</th>\n",
       "    </tr>\n",
       "  </thead>\n",
       "  <tbody>\n",
       "    <tr>\n",
       "      <th>count</th>\n",
       "      <td>2475</td>\n",
       "      <td>2414</td>\n",
       "      <td>1499</td>\n",
       "      <td>2438</td>\n",
       "      <td>20</td>\n",
       "      <td>20</td>\n",
       "      <td>1880</td>\n",
       "      <td>991</td>\n",
       "      <td>19</td>\n",
       "      <td>20</td>\n",
       "      <td>...</td>\n",
       "      <td>972</td>\n",
       "      <td>455</td>\n",
       "      <td>752</td>\n",
       "      <td>38</td>\n",
       "      <td>5</td>\n",
       "      <td>973</td>\n",
       "      <td>973</td>\n",
       "      <td>973</td>\n",
       "      <td>972</td>\n",
       "      <td>973</td>\n",
       "    </tr>\n",
       "    <tr>\n",
       "      <th>unique</th>\n",
       "      <td>4</td>\n",
       "      <td>2390</td>\n",
       "      <td>927</td>\n",
       "      <td>2344</td>\n",
       "      <td>1</td>\n",
       "      <td>19</td>\n",
       "      <td>1330</td>\n",
       "      <td>645</td>\n",
       "      <td>19</td>\n",
       "      <td>20</td>\n",
       "      <td>...</td>\n",
       "      <td>217</td>\n",
       "      <td>407</td>\n",
       "      <td>440</td>\n",
       "      <td>2</td>\n",
       "      <td>3</td>\n",
       "      <td>66</td>\n",
       "      <td>14</td>\n",
       "      <td>78</td>\n",
       "      <td>349</td>\n",
       "      <td>65</td>\n",
       "    </tr>\n",
       "    <tr>\n",
       "      <th>top</th>\n",
       "      <td>scopus.ris</td>\n",
       "      <td>The reasons for the inferior performance of ma...</td>\n",
       "      <td>HardwareX</td>\n",
       "      <td>[Pearce, J.M.]</td>\n",
       "      <td>http://www.scielo.org/</td>\n",
       "      <td>2017-09</td>\n",
       "      <td>10.5935/0100-4042.20160020</td>\n",
       "      <td>6</td>\n",
       "      <td>http://www.scielo.br/pdf/rbef/v37n1/0102-4744-...</td>\n",
       "      <td>S0100-40422013000800023-scl</td>\n",
       "      <td>...</td>\n",
       "      <td>Engineering</td>\n",
       "      <td>Pearce, J.M/C-9240-2013; Pearce, Joshua M/D-20...</td>\n",
       "      <td>SENSORS-BASEL</td>\n",
       "      <td>SI</td>\n",
       "      <td>1</td>\n",
       "      <td>0</td>\n",
       "      <td>0</td>\n",
       "      <td>0</td>\n",
       "      <td>Engineering, Electrical &amp; Electronic</td>\n",
       "      <td>0</td>\n",
       "    </tr>\n",
       "    <tr>\n",
       "      <th>freq</th>\n",
       "      <td>1482</td>\n",
       "      <td>3</td>\n",
       "      <td>46</td>\n",
       "      <td>12</td>\n",
       "      <td>20</td>\n",
       "      <td>2</td>\n",
       "      <td>3</td>\n",
       "      <td>14</td>\n",
       "      <td>1</td>\n",
       "      <td>1</td>\n",
       "      <td>...</td>\n",
       "      <td>116</td>\n",
       "      <td>13</td>\n",
       "      <td>40</td>\n",
       "      <td>37</td>\n",
       "      <td>3</td>\n",
       "      <td>378</td>\n",
       "      <td>735</td>\n",
       "      <td>263</td>\n",
       "      <td>46</td>\n",
       "      <td>379</td>\n",
       "    </tr>\n",
       "  </tbody>\n",
       "</table>\n",
       "<p>4 rows × 87 columns</p>\n",
       "</div>"
      ],
      "text/plain": [
       "          __source                                           abstract  \\\n",
       "count         2475                                               2414   \n",
       "unique           4                                               2390   \n",
       "top     scopus.ris  The reasons for the inferior performance of ma...   \n",
       "freq          1482                                                  3   \n",
       "\n",
       "       alternate_title1         authors       database_provider     date  \\\n",
       "count              1499            2438                      20       20   \n",
       "unique              927            2344                       1       19   \n",
       "top           HardwareX  [Pearce, J.M.]  http://www.scielo.org/  2017-09   \n",
       "freq                 46              12                      20        2   \n",
       "\n",
       "                               doi end_page  \\\n",
       "count                         1880      991   \n",
       "unique                        1330      645   \n",
       "top     10.5935/0100-4042.20160020        6   \n",
       "freq                             3       14   \n",
       "\n",
       "                                        file_attachments1  \\\n",
       "count                                                  19   \n",
       "unique                                                 19   \n",
       "top     http://www.scielo.br/pdf/rbef/v37n1/0102-4744-...   \n",
       "freq                                                    1   \n",
       "\n",
       "                                 id  ... research_areas  \\\n",
       "count                            20  ...            972   \n",
       "unique                           20  ...            217   \n",
       "top     S0100-40422013000800023-scl  ...    Engineering   \n",
       "freq                              1  ...            116   \n",
       "\n",
       "                                            researcher_id  \\\n",
       "count                                                 455   \n",
       "unique                                                407   \n",
       "top     Pearce, J.M/C-9240-2013; Pearce, Joshua M/D-20...   \n",
       "freq                                                   13   \n",
       "\n",
       "       source_abbreviation_29c special_issue supplement  \\\n",
       "count                      752            38          5   \n",
       "unique                     440             2          3   \n",
       "top              SENSORS-BASEL            SI          1   \n",
       "freq                        40            37          3   \n",
       "\n",
       "       total_times_cited_count usage_count_180 usage_count_2013  \\\n",
       "count                      973             973              973   \n",
       "unique                      66              14               78   \n",
       "top                          0               0                0   \n",
       "freq                       378             735              263   \n",
       "\n",
       "                              wos_categories wos_core_collection_cited_count  \n",
       "count                                    972                             973  \n",
       "unique                                   349                              65  \n",
       "top     Engineering, Electrical & Electronic                               0  \n",
       "freq                                      46                             379  \n",
       "\n",
       "[4 rows x 87 columns]"
      ]
     },
     "execution_count": 22,
     "metadata": {},
     "output_type": "execute_result"
    }
   ],
   "source": [
    "allData.describe()"
   ]
  },
  {
   "cell_type": "code",
   "execution_count": 23,
   "metadata": {},
   "outputs": [],
   "source": [
    "x = allData.copy()\n",
    "del x[\"__source\"]\n",
    "x = x.groupby('doi').agg(\n",
    "    lambda x: x.agg(\n",
    "        lambda y: np.nan if y.isna().all() else y[y.map(len, na_action='ignore').idxmax()],\n",
    "    )\n",
    ")"
   ]
  },
  {
   "cell_type": "code",
   "execution_count": 174,
   "metadata": {},
   "outputs": [],
   "source": [
    "class Match:\n",
    "    def __init__(self, series, threshold):\n",
    "        self.s = series\n",
    "        self.threshold = threshold\n",
    "        self.match_index = {}\n",
    "    def match(self, x):\n",
    "        x = self.s.loc[x]\n",
    "        if x in self.match_index:\n",
    "            return self.match_index[x]\n",
    "        for m, idx in self.match_index.items():\n",
    "            if self.threshold == 0:\n",
    "                if x == m:\n",
    "                    return idx\n",
    "            elif edit_distance(x, m) <= self.threshold:\n",
    "                return idx\n",
    "        self.match_index[x] = len(self.match_index)\n",
    "        return self.match_index[x]"
   ]
  },
  {
   "cell_type": "code",
   "execution_count": 211,
   "metadata": {},
   "outputs": [],
   "source": [
    "all_nodoi = allData[~allData.doi.isin(x.index)]\n",
    "a = (\n",
    "    all_nodoi\n",
    "    .title\n",
    "    .str.lower()\n",
    "    .str.replace(r'[^\\s\\w]', ' ', regex=True)\n",
    "    .str.replace(r'(?<=\\s)\\S{,5}(?=\\s)', '', regex=True)\n",
    "    .str.replace(r'\\s+', ' ', regex=True)\n",
    "    .str.strip()\n",
    ")\n",
    "a = a.groupby(Match(a, 5).match)"
   ]
  },
  {
   "cell_type": "code",
   "execution_count": 212,
   "metadata": {},
   "outputs": [],
   "source": [
    "aa = a.agg(list)[a.size()>=2].to_dict()"
   ]
  },
  {
   "cell_type": "code",
   "execution_count": 213,
   "metadata": {},
   "outputs": [],
   "source": [
    "all_nodoi = allData[~allData.doi.isin(x.index)]\n",
    "b = (\n",
    "    all_nodoi\n",
    "    .title\n",
    "    .str.lower()\n",
    "    .str.replace(r'[^\\s\\w]', ' ', regex=True)\n",
    "    .str.replace(r'(?<=\\s)\\S{,5}(?=\\s)', '', regex=True)\n",
    "    .str.replace(r'\\s+', ' ', regex=True)\n",
    "    .str.strip()\n",
    ")\n",
    "b = b.groupby(Match(b, 0).match)"
   ]
  },
  {
   "cell_type": "code",
   "execution_count": 214,
   "metadata": {},
   "outputs": [],
   "source": [
    "bb = b.agg(list)[b.size()>=2].to_dict()"
   ]
  },
  {
   "cell_type": "code",
   "execution_count": 215,
   "metadata": {},
   "outputs": [
    {
     "data": {
      "text/plain": [
       "set()"
      ]
     },
     "execution_count": 215,
     "metadata": {},
     "output_type": "execute_result"
    }
   ],
   "source": [
    "set(x for x in aa.values() for x in x).difference(x for x in bb.values() for x in x)"
   ]
  },
  {
   "cell_type": "code",
   "execution_count": 224,
   "metadata": {
    "scrolled": true
   },
   "outputs": [],
   "source": [
    "y = allData[~allData.doi.isin(x.index)].copy()\n",
    "del y[\"__source\"]\n",
    "y = y.groupby(b.ngroup()).agg(\n",
    "    lambda x: x.agg(\n",
    "        lambda y: np.nan if y.isna().all() else y[y.map(len, na_action='ignore').idxmax()],\n",
    "    )\n",
    ")"
   ]
  },
  {
   "cell_type": "code",
   "execution_count": 230,
   "metadata": {},
   "outputs": [],
   "source": [
    "udata = pd.concat([x,y])"
   ]
  },
  {
   "cell_type": "markdown",
   "metadata": {},
   "source": [
    "# bof"
   ]
  },
  {
   "cell_type": "code",
   "execution_count": 61,
   "metadata": {},
   "outputs": [
    {
     "data": {
      "text/plain": [
       "({2098: 'Low-cost Intelligent Static Gesture Recognition System',\n",
       "  1987: 'Low-Cost Wireless Intelligent Two Hand Gesture Recognition System'},\n",
       " 2098    low intelligent recognition system\n",
       " 1987    low intelligent recognition system\n",
       " Name: title, dtype: object,\n",
       " 2098    low intelligent static gesture recognition system\n",
       " 1987    low wireless intelligent gesture recognition s...\n",
       " Name: title, dtype: object)"
      ]
     },
     "execution_count": 61,
     "metadata": {},
     "output_type": "execute_result"
    }
   ],
   "source": [
    "all_nodoi = allData[~allData.doi.isin(x.index)]\n",
    "a = (all_nodoi\n",
    " .title\n",
    " .str.lower()\n",
    " .str.replace(r'[^\\s\\w]', ' ', regex=True)\n",
    " .str.replace(r'(?<=\\s)\\S{,5}(?=\\s)', '', regex=True)\n",
    " .str.replace(r'\\s+', ' ', regex=True)\n",
    " .str.strip()\n",
    ")\n",
    "a.value_counts().value_counts()\n",
    "idxa = np.concatenate([a.groupby(a).groups[x] for x in a.groupby(a).size().pipe(lambda x: x[x==2]).index])\n",
    "a[idxa]\n",
    "b = (all_nodoi\n",
    " .title\n",
    " .str.lower()\n",
    " .str.replace(r'[^\\s\\w]', ' ', regex=True)\n",
    "# .str.replace(r'(?<=\\s)\\S{,8}(?=\\s)', '', regex=True)\n",
    " .str.replace(r'\\s+', ' ', regex=True)\n",
    " .str.strip()\n",
    ")\n",
    "b.value_counts().value_counts()\n",
    "idxb = np.concatenate([b.groupby(b).groups[x] for x in b.groupby(b).size().pipe(lambda x: x[x==2]).index])\n",
    "b[idxb]\n",
    "idx = allData.title.loc[set(idxb).symmetric_difference(idxa)].index\n",
    "allData.title[idx].to_dict(), b[idx], a[idx]"
   ]
  },
  {
   "cell_type": "markdown",
   "metadata": {},
   "source": [
    "## CSV sources"
   ]
  },
  {
   "cell_type": "code",
   "execution_count": null,
   "metadata": {},
   "outputs": [],
   "source": [
    "plosData = pd.read_csv('https://raw.githubusercontent.com/amchagas/open-source-toolkit/main/plos-items.csv')"
   ]
  },
  {
   "cell_type": "code",
   "execution_count": null,
   "metadata": {},
   "outputs": [],
   "source": [
    "sel_article = plosData[\"Content Type (URL items only - Research Article, Web Article, Commentary, Video, Poster)\"].eq(\"Research Article\")\n",
    "sel_hardware = plosData[\"Hardware or software\"].eq(\"hardware\")\n",
    "plosData = plosData.loc[sel_article & sel_hardware]\n",
    "assert not plosData[\"URI (DOI or URL)\"].isna().any()\n",
    "plosData['Title (URL items only)'] = plosData['Title (URL items only)'].str.strip()\n",
    "plosData"
   ]
  },
  {
   "cell_type": "code",
   "execution_count": null,
   "metadata": {},
   "outputs": [],
   "source": [
    "plos2bibtex = {\n",
    "    \"URI (DOI or URL)\": \"doi\",\n",
    "    \"\": \"\",\n",
    "}"
   ]
  },
  {
   "cell_type": "code",
   "execution_count": null,
   "metadata": {},
   "outputs": [],
   "source": [
    "sel_new_doi = ~plosData[\"URI (DOI or URL)\"].isin(allData.doi.values)\n",
    "sel_new_doi.sum()"
   ]
  },
  {
   "cell_type": "code",
   "execution_count": null,
   "metadata": {},
   "outputs": [],
   "source": [
    "sel_new_title = ~plosData[\"Title (URL items only)\"].isin(allData.title.values)\n",
    "sel_new_title.sum()"
   ]
  },
  {
   "cell_type": "code",
   "execution_count": null,
   "metadata": {},
   "outputs": [],
   "source": [
    "# Same titles, different DOIs\n",
    "x = plosData[[\"URI (DOI or URL)\", \"Title (URL items only)\"]].loc[sel_new_doi & ~sel_new_title]\n",
    "x['doi'] = [\n",
    "    allData[\"doi\"].loc[\n",
    "        allData['title'].eq(y)\n",
    "    ].squeeze()\n",
    "    for y in x[\"Title (URL items only)\"]\n",
    "]\n",
    "x"
   ]
  },
  {
   "cell_type": "code",
   "execution_count": null,
   "metadata": {},
   "outputs": [],
   "source": [
    "# Same DOI, different Titles\n",
    "pprint(plosData[\"Title (URL items only)\"].loc[~sel_new_doi & sel_new_title])\n",
    "print()\n",
    "pprint(allData[\"title\"].loc[\n",
    "    allData[\"doi\"].eq('10.1371/journal.pone.0023783')\n",
    "])"
   ]
  },
  {
   "cell_type": "markdown",
   "metadata": {},
   "source": [
    "# All done, now just mess around"
   ]
  },
  {
   "cell_type": "code",
   "execution_count": 303,
   "metadata": {},
   "outputs": [],
   "source": [
    "data = udata"
   ]
  },
  {
   "cell_type": "code",
   "execution_count": 304,
   "metadata": {},
   "outputs": [
    {
     "name": "stdout",
     "output_type": "stream",
     "text": [
      "(1887, 86)\n",
      "Index(['abstract', 'alternate_title1', 'authors', 'database_provider', 'date',\n",
      "       'end_page', 'file_attachments1', 'id', 'issn', 'journal_name',\n",
      "       'keywords', 'language', 'name_of_database', 'number', 'start_page',\n",
      "       'title', 'translated_title', 'type_of_reference', 'url', 'volume',\n",
      "       'year', 'author_address', 'custom2', 'custom3', 'custom7', 'notes',\n",
      "       'place_published', 'publisher', 'secondary_authors', 'secondary_title',\n",
      "       'short_title', 'type_of_work', 'accession_number', 'article_number',\n",
      "       'author_full_name', 'author_keywords', 'beginning_page', 'book_authors',\n",
      "       'book_authors_full_name', 'book_doi', 'book_group_authors',\n",
      "       'book_series_title', 'cited_reference_count', 'conference_date',\n",
      "       'conference_host', 'conference_location', 'conference_sponsors',\n",
      "       'conference_title', 'date_generated', 'document_delivery_number',\n",
      "       'document_type', 'early_access_date', 'editors', 'eissn',\n",
      "       'email_address', 'ending_page', 'funding_agency_and_grant_number',\n",
      "       'funding_text', 'group_authors', 'isbn', 'iso_source_abbreviation',\n",
      "       'issue', 'keywords_plus', 'meeting_abstract', 'open_access_indicator',\n",
      "       'orcid_id', 'page_count', 'part_number', 'publication_date',\n",
      "       'publication_name', 'publication_type', 'publisher_address',\n",
      "       'publisher_city', 'pubmed_id', 'reprint_address', 'research_areas',\n",
      "       'researcher_id', 'source_abbreviation_29c', 'special_issue',\n",
      "       'supplement', 'total_times_cited_count', 'usage_count_180',\n",
      "       'usage_count_2013', 'wos_categories', 'wos_core_collection_cited_count',\n",
      "       'doi'],\n",
      "      dtype='object')\n"
     ]
    }
   ],
   "source": [
    "print(data.shape)\n",
    "print(data.columns)"
   ]
  },
  {
   "cell_type": "code",
   "execution_count": 305,
   "metadata": {},
   "outputs": [
    {
     "name": "stdout",
     "output_type": "stream",
     "text": [
      "(718, 86)\n"
     ]
    }
   ],
   "source": [
    "article_data = data.loc[data[\"type_of_reference\"].eq('JOUR') | data[\"publication_type\"].eq('J')]\n",
    "print(article_data.shape)"
   ]
  },
  {
   "cell_type": "code",
   "execution_count": 306,
   "metadata": {},
   "outputs": [
    {
     "name": "stdout",
     "output_type": "stream",
     "text": [
      "14 718 718 14 0\n"
     ]
    }
   ],
   "source": [
    "dup_title = article_data.duplicated('title', keep=False)\n",
    "dup_doi = article_data.duplicated('doi', keep=False)\n",
    "nan_doi = article_data['doi'].isna()\n",
    "print(\n",
    "    dup_title.sum(),\n",
    "    dup_doi.sum(),\n",
    "    nan_doi.sum(),\n",
    "    (dup_title & dup_doi).sum(),\n",
    "    (dup_title & ~dup_doi).sum(),\n",
    ")"
   ]
  },
  {
   "cell_type": "code",
   "execution_count": 310,
   "metadata": {},
   "outputs": [
    {
     "data": {
      "text/plain": [
       "24680672    46\n",
       "14248220    41\n",
       "21693536    20\n",
       "19326203    12\n",
       "15480992     9\n",
       "            ..\n",
       "15407063     1\n",
       "10613773     1\n",
       "18269745     1\n",
       "17517907     1\n",
       "09594388     1\n",
       "Name: issn, Length: 410, dtype: int64"
      ]
     },
     "execution_count": 310,
     "metadata": {},
     "output_type": "execute_result"
    }
   ],
   "source": [
    "article_data.issn.str.replace('[^\\d]', '', regex=True).value_counts()"
   ]
  },
  {
   "cell_type": "code",
   "execution_count": 312,
   "metadata": {},
   "outputs": [
    {
     "data": {
      "text/plain": [
       "<matplotlib.axes._subplots.AxesSubplot at 0x7f9d8c6dd040>"
      ]
     },
     "execution_count": 312,
     "metadata": {},
     "output_type": "execute_result"
    },
    {
     "data": {
      "image/png": "[encoded data removed]",
      "text/plain": [
       "<Figure size 432x288 with 1 Axes>"
      ]
     },
     "metadata": {
      "needs_background": "light"
     },
     "output_type": "display_data"
    }
   ],
   "source": [
    "article_data.issn.str.replace('[^\\d]', '', regex=True).value_counts().reset_index().plot(loglog=True)"
   ]
  },
  {
   "cell_type": "code",
   "execution_count": 313,
   "metadata": {},
   "outputs": [
    {
     "data": {
      "text/plain": [
       "<matplotlib.axes._subplots.AxesSubplot at 0x7f9d8c8d2cd0>"
      ]
     },
     "execution_count": 313,
     "metadata": {},
     "output_type": "execute_result"
    },
    {
     "data": {
      "image/png": "[encoded data removed]",
      "text/plain": [
       "<Figure size 432x288 with 1 Axes>"
      ]
     },
     "metadata": {
      "needs_background": "light"
     },
     "output_type": "display_data"
    }
   ],
   "source": [
    "article_data.groupby('year').size().plot.bar()"
   ]
  },
  {
   "cell_type": "code",
   "execution_count": null,
   "metadata": {},
   "outputs": [],
   "source": []
  }
 ],
 "metadata": {
  "kernelspec": {
   "display_name": "Python 3",
   "language": "python",
   "name": "python3"
  },
  "language_info": {
   "codemirror_mode": {
    "name": "ipython",
    "version": 3
   },
   "file_extension": ".py",
   "mimetype": "text/x-python",
   "name": "python",
   "nbconvert_exporter": "python",
   "pygments_lexer": "ipython3",
   "version": "3.8.7"
  }
 },
 "nbformat": 4,
 "nbformat_minor": 4
}
