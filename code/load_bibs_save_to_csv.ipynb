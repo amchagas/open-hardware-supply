{
 "cells": [
  {
   "cell_type": "markdown",
   "metadata": {},
   "source": [
    "# Bibtex to CSV\n",
    "This is part of the project described in <https://github.com/amchagas/OSH_papers_DB>, check the project readme for more details.\n",
    "\n",
    "This notebook loads bibtex sources and merges them in a single CSV file."
   ]
  },
  {
   "cell_type": "code",
   "execution_count": 1,
   "metadata": {},
   "outputs": [],
   "source": [
    "import os\n",
    "import pandas as pd\n",
    "import bibtexparser\n",
    "import matplotlib.pyplot as plt\n",
    "from pathlib import Path"
   ]
  },
  {
   "cell_type": "code",
   "execution_count": 2,
   "metadata": {},
   "outputs": [],
   "source": [
    "basePath = Path(\"..\")\n",
    "dataSourcePath = basePath / 'data' / 'sources'\n",
    "dataOutPath = basePath / 'data' / 'derived'\n",
    "figPath = basePath / 'figures'"
   ]
  },
  {
   "cell_type": "code",
   "execution_count": 3,
   "metadata": {},
   "outputs": [],
   "source": [
    "scieloSource = {\n",
    "    'paths': [dataSourcePath / x for x in (\"scielo.bib\",)],\n",
    "    'col_rename': {\n",
    "        \"type\": \"ENTRYTYPE\",\n",
    "    },\n",
    "}\n",
    "scopusSource = {\n",
    "    'paths': [dataSourcePath / x for x in (\"scopus1.bib\", \"scopus2.bib\")],\n",
    "    'col_rename': {},\n",
    "}\n",
    "wosSource = {\n",
    "    'paths': [dataSourcePath / x for x in (\"wos1.bib\", \"wos2.bib\", \"wos3.bib\", \"wos4.bib\")],\n",
    "    'col_rename': {},\n",
    "}"
   ]
  },
  {
   "cell_type": "code",
   "execution_count": 4,
   "metadata": {},
   "outputs": [],
   "source": [
    "def load_bibtext(bibtexSource):\n",
    "    dfs = []\n",
    "    for path in bibtexSource['paths']:\n",
    "        with path.open() as f:\n",
    "            df = pd.DataFrame(bibtexparser.load(f).entries)\n",
    "        df['__bibtex_source'] = path.name\n",
    "        dfs.append(df)\n",
    "    cdf = pd.concat(dfs, join='outer', ignore_index=True)\n",
    "    cdf = cdf.rename(columns=bibtexSource['col_rename'])\n",
    "    return cdf"
   ]
  },
  {
   "cell_type": "code",
   "execution_count": 5,
   "metadata": {},
   "outputs": [],
   "source": [
    "scieloData = load_bibtext(scieloSource)"
   ]
  },
  {
   "cell_type": "code",
   "execution_count": 6,
   "metadata": {},
   "outputs": [],
   "source": [
    "scopusData = load_bibtext(scopusSource)"
   ]
  },
  {
   "cell_type": "code",
   "execution_count": 7,
   "metadata": {},
   "outputs": [],
   "source": [
    "wosData = load_bibtext(wosSource)"
   ]
  },
  {
   "cell_type": "code",
   "execution_count": 8,
   "metadata": {},
   "outputs": [],
   "source": [
    "allDataList = [scieloData, scopusData, wosData]"
   ]
  },
  {
   "cell_type": "code",
   "execution_count": 9,
   "metadata": {},
   "outputs": [],
   "source": [
    "allData = pd.concat(allDataList, join='outer', ignore_index=True)\n",
    "allData = allData.transform(\n",
    "    lambda x: x # remove \"{}\" from wos and scielo entries\n",
    "    .str.strip()\n",
    "    .str.lstrip('{')\n",
    "    .str.rstrip('}')\n",
    "    .str.strip()\n",
    ")\n",
    "allData['year'] = allData['year'].astype(int)"
   ]
  },
  {
   "cell_type": "code",
   "execution_count": 10,
   "metadata": {},
   "outputs": [],
   "source": [
    "allData.to_csv(dataOutPath / \"allData.csv\")"
   ]
  },
  {
   "cell_type": "markdown",
   "metadata": {},
   "source": [
    "# All done, now just mess around"
   ]
  },
  {
   "cell_type": "code",
   "execution_count": 11,
   "metadata": {},
   "outputs": [
    {
     "name": "stdout",
     "output_type": "stream",
     "text": [
      "(4218, 61)\n",
      "Index(['url', 'pages', 'crossref', 'month', 'language', 'publisher', 'year',\n",
      "       'volume', 'author', 'journal', 'title', 'ENTRYTYPE', 'ID',\n",
      "       '__bibtex_source', 'source', 'document_type', 'abbrev_source_title',\n",
      "       'isbn', 'keywords', 'author_keywords', 'abstract', 'affiliation',\n",
      "       'note', 'art_number', 'doi', 'editor', 'correspondence_address1',\n",
      "       'page_count', 'issn', 'number', 'pubmed_id', 'coden', 'da', 'unique-id',\n",
      "       'doc-delivery-number', 'journal-iso', 'usage-count-since-2013',\n",
      "       'usage-count-last-180-days', 'times-cited',\n",
      "       'number-of-cited-references', 'funding-text', 'funding-acknowledgement',\n",
      "       'author-email', 'web-of-science-categories', 'research-areas',\n",
      "       'keywords-plus', 'eissn', 'type', 'address', 'orcid-numbers',\n",
      "       'article-number', 'researcherid-numbers', 'oa', 'organization',\n",
      "       'booktitle', 'book-group-author', 'meeting', 'series', 'esi-hot-paper',\n",
      "       'esi-highly-cited-paper', 'book-author'],\n",
      "      dtype='object')\n"
     ]
    }
   ],
   "source": [
    "print(allData.shape)\n",
    "print(allData.columns)"
   ]
  },
  {
   "cell_type": "code",
   "execution_count": 12,
   "metadata": {},
   "outputs": [
    {
     "name": "stdout",
     "output_type": "stream",
     "text": [
      "(2076, 61)\n"
     ]
    }
   ],
   "source": [
    "article_data = allData.loc[allData[\"ENTRYTYPE\"].eq('article')]\n",
    "print(article_data.shape)"
   ]
  },
  {
   "cell_type": "code",
   "execution_count": 13,
   "metadata": {},
   "outputs": [
    {
     "name": "stdout",
     "output_type": "stream",
     "text": [
      "261 1471 154 256 5\n"
     ]
    }
   ],
   "source": [
    "dup_title = article_data.duplicated('title', keep=False)\n",
    "dup_doi = article_data.duplicated('doi', keep=False)\n",
    "nan_doi = article_data['doi'].isna()\n",
    "print(\n",
    "    dup_title.sum(),\n",
    "    dup_doi.sum(),\n",
    "    nan_doi.sum(),\n",
    "    (dup_title & dup_doi).sum(),\n",
    "    (dup_title & ~dup_doi).sum(),\n",
    ")"
   ]
  },
  {
   "cell_type": "code",
   "execution_count": 14,
   "metadata": {},
   "outputs": [
    {
     "data": {
      "text/plain": [
       "Lecture Notes in Computer Science (including subseries Lecture Notes in Artificial Intelligence and Lecture Notes in Bioinformatics)    55\n",
       "SENSORS                                                                                                                                 54\n",
       "Sensors (Switzerland)                                                                                                                   49\n",
       "HardwareX                                                                                                                               34\n",
       "Advances in Intelligent Systems and Computing                                                                                           23\n",
       "                                                                                                                                        ..\n",
       "Radio Science                                                                                                                            1\n",
       "JOURNAL OF ASSISTIVE TECHNOLOGIES                                                                                                        1\n",
       "JOURNAL OF CIRCUITS SYSTEMS AND COMPUTERS                                                                                                1\n",
       "IEEE ANNALS OF THE HISTORY OF COMPUTING                                                                                                  1\n",
       "Optics Letters                                                                                                                           1\n",
       "Name: journal, Length: 1189, dtype: int64"
      ]
     },
     "execution_count": 14,
     "metadata": {},
     "output_type": "execute_result"
    }
   ],
   "source": [
    "article_data.journal.value_counts()"
   ]
  },
  {
   "cell_type": "code",
   "execution_count": 15,
   "metadata": {},
   "outputs": [
    {
     "data": {
      "text/plain": [
       "<matplotlib.axes._subplots.AxesSubplot at 0x7f1b6c647550>"
      ]
     },
     "execution_count": 15,
     "metadata": {},
     "output_type": "execute_result"
    },
    {
     "data": {
      "image/png": "[encoded data removed]",
      "text/plain": [
       "<Figure size 432x288 with 1 Axes>"
      ]
     },
     "metadata": {
      "needs_background": "light"
     },
     "output_type": "display_data"
    }
   ],
   "source": [
    "article_data.journal.value_counts().reset_index().plot(loglog=True)"
   ]
  },
  {
   "cell_type": "code",
   "execution_count": 16,
   "metadata": {},
   "outputs": [
    {
     "data": {
      "text/plain": [
       "<matplotlib.axes._subplots.AxesSubplot at 0x7f1b6c7ea9a0>"
      ]
     },
     "execution_count": 16,
     "metadata": {},
     "output_type": "execute_result"
    },
    {
     "data": {
      "image/png": "[encoded data removed]",
      "text/plain": [
       "<Figure size 432x288 with 1 Axes>"
      ]
     },
     "metadata": {
      "needs_background": "light"
     },
     "output_type": "display_data"
    }
   ],
   "source": [
    "article_data.groupby('year').size().plot.bar()"
   ]
  },
  {
   "cell_type": "code",
   "execution_count": null,
   "metadata": {},
   "outputs": [],
   "source": []
  }
 ],
 "metadata": {
  "kernelspec": {
   "display_name": "Python 3",
   "language": "python",
   "name": "python3"
  },
  "language_info": {
   "codemirror_mode": {
    "name": "ipython",
    "version": 3
   },
   "file_extension": ".py",
   "mimetype": "text/x-python",
   "name": "python",
   "nbconvert_exporter": "python",
   "pygments_lexer": "ipython3",
   "version": "3.8.7"
  }
 },
 "nbformat": 4,
 "nbformat_minor": 4
}
