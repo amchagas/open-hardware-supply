{
 "cells": [
  {
   "cell_type": "markdown",
   "id": "22e83573-93ef-444d-aaeb-67f07279ea5e",
   "metadata": {},
   "source": [
    "### load derived data (jsonl file) into dictionary\n",
    "This notebook shows how to:\n",
    "- Pull data from the derived data file (JSON lines file)\n",
    "- Extract the information we want, organize it into a dictionary\n",
    "- Save the dictionary into a JSON file\n",
    "\n",
    "After this has been stored into a JSON file, we can load it into pandas, cross check with unpaywall, etc. (all to be done in other notebooks)"
   ]
  },
  {
   "cell_type": "code",
   "execution_count": 1,
   "id": "863b4be1-a557-4b6f-9454-1f2f418651a0",
   "metadata": {},
   "outputs": [],
   "source": [
    "\n",
    "import doi as doiLib\n",
    "from unpywall.utils import UnpywallCredentials\n",
    "from unpywall import Unpywall\n",
    "from prepare_wos_data_to_json import Prepare as prp"
   ]
  },
  {
   "cell_type": "code",
   "execution_count": 2,
   "id": "41dbce4a-015a-4012-8f84-ed860bffb625",
   "metadata": {},
   "outputs": [],
   "source": [
    "dataPath = \"../data/derived2/\"\n",
    "dataFile = \"records.jsonl\""
   ]
  },
  {
   "cell_type": "code",
   "execution_count": 8,
   "id": "b39c4dab",
   "metadata": {},
   "outputs": [],
   "source": [
    "data = prp(dataPath+dataFile, dataPath)\n",
    "data.run()\n",
    "data.save(\"wos_data_as.json\")\n",
    "\n",
    "#import json\n",
    "#with open(dataPath+\"wos_data_as.json\", 'w') as fp:\n",
    "#    json.dump(data.dataDict, fp)"
   ]
  }
 ],
 "metadata": {
  "kernelspec": {
   "display_name": "Python 3.9.5 ('base')",
   "language": "python",
   "name": "python3"
  },
  "language_info": {
   "codemirror_mode": {
    "name": "ipython",
    "version": 3
   },
   "file_extension": ".py",
   "mimetype": "text/x-python",
   "name": "python",
   "nbconvert_exporter": "python",
   "pygments_lexer": "ipython3",
   "version": "3.9.5"
  },
  "vscode": {
   "interpreter": {
    "hash": "19d1d53a962d236aa061289c2ac16dc8e6d9648c89fe79f459ae9a3493bc67b4"
   }
  }
 },
 "nbformat": 4,
 "nbformat_minor": 5
}
