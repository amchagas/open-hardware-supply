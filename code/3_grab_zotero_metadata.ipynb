{
 "cells": [
  {
   "cell_type": "markdown",
   "metadata": {},
   "source": [
    "this notebook shows how to use Zotero translators to get zotero metadata from DOIs\n",
    "- for this users will need to set up a zotero server, described here https://github.com/zotero/translation-server"
   ]
  },
  {
   "cell_type": "code",
   "execution_count": 31,
   "metadata": {},
   "outputs": [],
   "source": [
    "import requests\n",
    "import pandas as pd\n",
    "from pyzotero import zotero\n",
    "import json\n",
    "import time"
   ]
  },
  {
   "cell_type": "code",
   "execution_count": 28,
   "metadata": {},
   "outputs": [],
   "source": [
    "with open(\"zotero_api\",\"r\") as fid:\n",
    "    key = fid.readline()\n",
    "\n",
    "zot = zotero.Zotero(library_id=4806991,library_type='group', api_key=key)\n",
    "\n",
    "\n"
   ]
  },
  {
   "cell_type": "code",
   "execution_count": 4,
   "metadata": {},
   "outputs": [],
   "source": [
    "\n",
    "\n",
    "dataPath = \"../data/derived2/\"\n",
    "dataFile = \"articles_to_review.json\"\n",
    "articles = pd.read_json(dataPath+dataFile)\n",
    "\n",
    "dois = list(articles.doi)"
   ]
  },
  {
   "cell_type": "code",
   "execution_count": 2,
   "metadata": {},
   "outputs": [],
   "source": [
    "url= \"http://127.0.0.1:1969/search\" #zotero translator server running locally\n",
    "headers = {'content-type': 'text/plain', 'Accept-Charset': 'UTF-8'}\n",
    "#r = requests.post(url=url, data=dois[0], headers=headers)"
   ]
  },
  {
   "cell_type": "code",
   "execution_count": 6,
   "metadata": {},
   "outputs": [],
   "source": [
    "allMeta = list()\n",
    "for item in dois:\n",
    "    r = requests.post(url=url, data=item, headers=headers)\n",
    "    allMeta.append(r.json())\n",
    "    r.close()\n",
    "\n",
    "with open(dataPath+\"zotMeta.json\", 'w') as fid:\n",
    "    json.dump(allMeta, fid)\n",
    "    \n"
   ]
  },
  {
   "cell_type": "code",
   "execution_count": 32,
   "metadata": {},
   "outputs": [],
   "source": [
    "for item in allMeta:\n",
    "    zot.create_items(item)\n",
    "    time.sleep (0.5)"
   ]
  },
  {
   "cell_type": "code",
   "execution_count": null,
   "metadata": {},
   "outputs": [],
   "source": []
  }
 ],
 "metadata": {
  "kernelspec": {
   "display_name": "Python 3.9.5 ('base')",
   "language": "python",
   "name": "python3"
  },
  "language_info": {
   "codemirror_mode": {
    "name": "ipython",
    "version": 3
   },
   "file_extension": ".py",
   "mimetype": "text/x-python",
   "name": "python",
   "nbconvert_exporter": "python",
   "pygments_lexer": "ipython3",
   "version": "3.9.5"
  },
  "orig_nbformat": 4,
  "vscode": {
   "interpreter": {
    "hash": "19d1d53a962d236aa061289c2ac16dc8e6d9648c89fe79f459ae9a3493bc67b4"
   }
  }
 },
 "nbformat": 4,
 "nbformat_minor": 2
}
