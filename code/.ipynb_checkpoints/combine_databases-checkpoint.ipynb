{
 "cells": [
  {
   "cell_type": "markdown",
   "metadata": {},
   "source": [
    "Code to remove duplicates that appear after combining different databases (Web of Science, Scopus, Scielo, etc).\n",
    "This is part of the project described in <https://github.com/amchagas/OSH_papers_DB>, check the project readme for more details."
   ]
  },
  {
   "cell_type": "code",
   "execution_count": 1,
   "metadata": {},
   "outputs": [
    {
     "name": "stderr",
     "output_type": "stream",
     "text": [
      "/home/andre/miniconda3/lib/python3.7/site-packages/statsmodels/tools/_testing.py:19: FutureWarning: pandas.util.testing is deprecated. Use the functions in the public API at pandas.testing instead.\n",
      "  import pandas.util.testing as tm\n"
     ]
    }
   ],
   "source": [
    "#import necessary libraries\n",
    "import os\n",
    "import pandas as pd\n",
    "import seaborn as sns\n",
    "import bibtexparser\n",
    "import matplotlib.pyplot as plt\n"
   ]
  },
  {
   "cell_type": "code",
   "execution_count": 8,
   "metadata": {},
   "outputs": [],
   "source": [
    "#databases output path\n",
    "dataPath = \"../data/\"\n",
    "scopusPath = [\"scopus1.bib\",\"scopus2.bib\"]\n",
    "wosPath = [\"wos1.bib\",\"wos2.bib\",\"wos3.bib\",\"wos4.bib\"]\n",
    "#wos2Path = \"wos_501to835.bib\"\n",
    "scieloPath = \"scielo.bib\"\n",
    "\n",
    "#path to store figures\n",
    "outputPath = \"../figures/\""
   ]
  },
  {
   "cell_type": "markdown",
   "metadata": {},
   "source": [
    "## notes on similarities and differences between the databases\n",
    "\n",
    "### Document_type vs type\n",
    "\n",
    "- Scopus sets \"document_types\" as a column, indicating Articles, proceedings, etc\n",
    "- Web of Science sets this column as \"type\".\n",
    "\n",
    "**Because of the above, we set Scopus to \"type\" so there aren't two columns with the same kind of data on the joint panda dataframe**"
   ]
  },
  {
   "cell_type": "code",
   "execution_count": 10,
   "metadata": {},
   "outputs": [],
   "source": [
    "# Open Scopus database\n",
    "scopusFrames = list()\n",
    "for i in range(len(scopusPath)):\n",
    "    with open(dataPath+scopusPath[i]) as scopusFile:\n",
    "        scopusDatabase = bibtexparser.load(scopusFile)\n",
    "        scData = pd.DataFrame(scopusDatabase.entries)\n",
    "        scData = scData.rename(columns={\"document_type\": \"type\"})\n",
    "        scopusFrames.append(scData)\n",
    "\n",
    "scData = pd.concat(scopusFrames, axis=0, join='outer', ignore_index=True, keys=None,\n",
    "          levels=None, names=None, verify_integrity=False, copy=True,sort=False)\n",
    "\n",
    "scData.to_csv(dataPath+\"scData.csv\")\n",
    "\n",
    "\n",
    "\n"
   ]
  },
  {
   "cell_type": "code",
   "execution_count": 11,
   "metadata": {},
   "outputs": [
    {
     "name": "stdout",
     "output_type": "stream",
     "text": [
      "running file: 0\n",
      "running file: 1\n",
      "running file: 2\n",
      "running file: 3\n"
     ]
    }
   ],
   "source": [
    "#Open Web of Science database\n",
    "\n",
    "wosFrames = list()\n",
    "for i in range(len(wosPath)):\n",
    "    print(\"running file: \" + str(i))\n",
    "    with open(dataPath+wosPath[i]) as wosFile:\n",
    "        wosDatabase = bibtexparser.load(wosFile)\n",
    "        wosFrames.append(pd.DataFrame(wosDatabase.entries))\n",
    "\n",
    "wosData = pd.concat(wosFrames, axis=0, join='outer', ignore_index=True, keys=None,\n",
    "          levels=None, names=None, verify_integrity=False, copy=True,sort=False)\n",
    "\n",
    "wosData.to_csv(dataPath+\"wosData.csv\")"
   ]
  },
  {
   "cell_type": "code",
   "execution_count": 12,
   "metadata": {},
   "outputs": [],
   "source": [
    "#join all databases\n",
    "allData = pd.concat([wosData,scData], axis=0, join='outer', ignore_index=True, keys=None,\n",
    "          levels=None, names=None, verify_integrity=False, copy=True,sort=False)\n",
    "\n",
    "#web of science exports data with {} on every entry. \n",
    "# so the next lines clean it up.\n",
    "for key in allData.keys():\n",
    "    allData[key]=allData[key].str.replace(\"{\",\"\")\n",
    "    allData[key]=allData[key].str.replace(\"}\",\"\")\n",
    "\n",
    "#convert the year string type to int (making it easier to plot histograms)\n",
    "allData.year = allData.year.astype(int)\n",
    "\n",
    "allData.to_csv(dataPath+\"allData.csv\")"
   ]
  },
  {
   "cell_type": "code",
   "execution_count": 13,
   "metadata": {},
   "outputs": [
    {
     "data": {
      "text/plain": [
       "1058"
      ]
     },
     "execution_count": 13,
     "metadata": {},
     "output_type": "execute_result"
    }
   ],
   "source": [
    "len(set(allData.journal[allData.type==\"Article\"]))"
   ]
  },
  {
   "cell_type": "code",
   "execution_count": 14,
   "metadata": {},
   "outputs": [
    {
     "name": "stdout",
     "output_type": "stream",
     "text": [
      "\n",
      "number of articles: 1732\n",
      "\n"
     ]
    },
    {
     "data": {
      "image/png": "[encoded data removed]",
      "text/plain": [
       "<Figure size 432x288 with 1 Axes>"
      ]
     },
     "metadata": {
      "needs_background": "light"
     },
     "output_type": "display_data"
    }
   ],
   "source": [
    "\n",
    "fHandle = allData.year[allData.type==\"Article\"].plot(kind=\"hist\",\n",
    "                 fontsize=18,\n",
    "                 bins=list(set(allData.year+0.5)),\n",
    "                 rwidth=0.65,\n",
    "                # color=\"blue\",\n",
    "                )\n",
    "fHandle.set(xlabel=\"Year\")\n",
    "fHandle.axes.xaxis.set_label_text(label=\"year\",fontsize=18)\n",
    "fHandle.axes.yaxis.set_label_text(label=\"count\",fontsize=18)\n",
    "fHandle.legend([\"N = \" + str(len(allData.year[allData.type==\"Article\"]))])\n",
    "#fHandle.suptitle(\"test\")\n",
    "\n",
    "fHandle.figure.savefig(outputPath+ \"test.png\")\n",
    "\n",
    "\n",
    "print(\"\\n\"+\"number of articles: \" + str(len(allData.year[allData.type==\"Article\"]))+ \"\\n\")\n"
   ]
  },
  {
   "cell_type": "code",
   "execution_count": 19,
   "metadata": {},
   "outputs": [
    {
     "name": "stdout",
     "output_type": "stream",
     "text": [
      "number of entries:4198\n",
      "4198\n"
     ]
    }
   ],
   "source": [
    "print(\"number of entries:\" + str(len(allData)))\n",
    "print(len(allData.language))\n"
   ]
  },
  {
   "cell_type": "code",
   "execution_count": 23,
   "metadata": {},
   "outputs": [
    {
     "data": {
      "text/html": [
       "<div>\n",
       "<style scoped>\n",
       "    .dataframe tbody tr th:only-of-type {\n",
       "        vertical-align: middle;\n",
       "    }\n",
       "\n",
       "    .dataframe tbody tr th {\n",
       "        vertical-align: top;\n",
       "    }\n",
       "\n",
       "    .dataframe thead th {\n",
       "        text-align: right;\n",
       "    }\n",
       "</style>\n",
       "<table border=\"1\" class=\"dataframe\">\n",
       "  <thead>\n",
       "    <tr style=\"text-align: right;\">\n",
       "      <th></th>\n",
       "      <th>da</th>\n",
       "      <th>unique-id</th>\n",
       "      <th>doc-delivery-number</th>\n",
       "      <th>journal-iso</th>\n",
       "      <th>usage-count-since-2013</th>\n",
       "      <th>usage-count-last-180-days</th>\n",
       "      <th>times-cited</th>\n",
       "      <th>number-of-cited-references</th>\n",
       "      <th>funding-text</th>\n",
       "      <th>funding-acknowledgement</th>\n",
       "      <th>...</th>\n",
       "      <th>book-author</th>\n",
       "      <th>source</th>\n",
       "      <th>abbrev_source_title</th>\n",
       "      <th>author_keywords</th>\n",
       "      <th>url</th>\n",
       "      <th>art_number</th>\n",
       "      <th>correspondence_address1</th>\n",
       "      <th>page_count</th>\n",
       "      <th>pubmed_id</th>\n",
       "      <th>coden</th>\n",
       "    </tr>\n",
       "  </thead>\n",
       "  <tbody>\n",
       "    <tr>\n",
       "      <th>0</th>\n",
       "      <td>2020-06-29</td>\n",
       "      <td>ISI:000530303600013</td>\n",
       "      <td>LJ6WQ</td>\n",
       "      <td>IEEE Trans. Power Electron.</td>\n",
       "      <td>15</td>\n",
       "      <td>15</td>\n",
       "      <td>0</td>\n",
       "      <td>42</td>\n",
       "      <td>This work was supported by the Air Force Resea...</td>\n",
       "      <td>Air Force Research Laboratory (AFRL) Intellige...</td>\n",
       "      <td>...</td>\n",
       "      <td>NaN</td>\n",
       "      <td>NaN</td>\n",
       "      <td>NaN</td>\n",
       "      <td>NaN</td>\n",
       "      <td>NaN</td>\n",
       "      <td>NaN</td>\n",
       "      <td>NaN</td>\n",
       "      <td>NaN</td>\n",
       "      <td>NaN</td>\n",
       "      <td>NaN</td>\n",
       "    </tr>\n",
       "    <tr>\n",
       "      <th>1</th>\n",
       "      <td>2020-06-29</td>\n",
       "      <td>ISI:000533780900010</td>\n",
       "      <td>LO7BI</td>\n",
       "      <td>Acta Astronaut.</td>\n",
       "      <td>2</td>\n",
       "      <td>2</td>\n",
       "      <td>0</td>\n",
       "      <td>49</td>\n",
       "      <td>The research work detailed in the present pape...</td>\n",
       "      <td>ESAEuropean Space Agency [4000117583/16/NL/HK/as]</td>\n",
       "      <td>...</td>\n",
       "      <td>NaN</td>\n",
       "      <td>NaN</td>\n",
       "      <td>NaN</td>\n",
       "      <td>NaN</td>\n",
       "      <td>NaN</td>\n",
       "      <td>NaN</td>\n",
       "      <td>NaN</td>\n",
       "      <td>NaN</td>\n",
       "      <td>NaN</td>\n",
       "      <td>NaN</td>\n",
       "    </tr>\n",
       "    <tr>\n",
       "      <th>2</th>\n",
       "      <td>2020-06-29</td>\n",
       "      <td>ISI:000531095200003</td>\n",
       "      <td>LK8FH</td>\n",
       "      <td>Signal Process.</td>\n",
       "      <td>1</td>\n",
       "      <td>1</td>\n",
       "      <td>0</td>\n",
       "      <td>26</td>\n",
       "      <td>NaN</td>\n",
       "      <td>NaN</td>\n",
       "      <td>...</td>\n",
       "      <td>NaN</td>\n",
       "      <td>NaN</td>\n",
       "      <td>NaN</td>\n",
       "      <td>NaN</td>\n",
       "      <td>NaN</td>\n",
       "      <td>NaN</td>\n",
       "      <td>NaN</td>\n",
       "      <td>NaN</td>\n",
       "      <td>NaN</td>\n",
       "      <td>NaN</td>\n",
       "    </tr>\n",
       "    <tr>\n",
       "      <th>3</th>\n",
       "      <td>2020-06-29</td>\n",
       "      <td>ISI:000521375400033</td>\n",
       "      <td>KW7PA</td>\n",
       "      <td>IEEE Trans. Ind. Electron.</td>\n",
       "      <td>45</td>\n",
       "      <td>45</td>\n",
       "      <td>0</td>\n",
       "      <td>30</td>\n",
       "      <td>NaN</td>\n",
       "      <td>NaN</td>\n",
       "      <td>...</td>\n",
       "      <td>NaN</td>\n",
       "      <td>NaN</td>\n",
       "      <td>NaN</td>\n",
       "      <td>NaN</td>\n",
       "      <td>NaN</td>\n",
       "      <td>NaN</td>\n",
       "      <td>NaN</td>\n",
       "      <td>NaN</td>\n",
       "      <td>NaN</td>\n",
       "      <td>NaN</td>\n",
       "    </tr>\n",
       "    <tr>\n",
       "      <th>4</th>\n",
       "      <td>2020-06-29</td>\n",
       "      <td>ISI:000539109600013</td>\n",
       "      <td>LW4JC</td>\n",
       "      <td>Eur. Resp. J.</td>\n",
       "      <td>0</td>\n",
       "      <td>0</td>\n",
       "      <td>0</td>\n",
       "      <td>37</td>\n",
       "      <td>NaN</td>\n",
       "      <td>NaN</td>\n",
       "      <td>...</td>\n",
       "      <td>NaN</td>\n",
       "      <td>NaN</td>\n",
       "      <td>NaN</td>\n",
       "      <td>NaN</td>\n",
       "      <td>NaN</td>\n",
       "      <td>NaN</td>\n",
       "      <td>NaN</td>\n",
       "      <td>NaN</td>\n",
       "      <td>NaN</td>\n",
       "      <td>NaN</td>\n",
       "    </tr>\n",
       "  </tbody>\n",
       "</table>\n",
       "<p>5 rows × 58 columns</p>\n",
       "</div>"
      ],
      "text/plain": [
       "           da            unique-id doc-delivery-number  \\\n",
       "0  2020-06-29  ISI:000530303600013               LJ6WQ   \n",
       "1  2020-06-29  ISI:000533780900010               LO7BI   \n",
       "2  2020-06-29  ISI:000531095200003               LK8FH   \n",
       "3  2020-06-29  ISI:000521375400033               KW7PA   \n",
       "4  2020-06-29  ISI:000539109600013               LW4JC   \n",
       "\n",
       "                   journal-iso usage-count-since-2013  \\\n",
       "0  IEEE Trans. Power Electron.                     15   \n",
       "1              Acta Astronaut.                      2   \n",
       "2              Signal Process.                      1   \n",
       "3   IEEE Trans. Ind. Electron.                     45   \n",
       "4                Eur. Resp. J.                      0   \n",
       "\n",
       "  usage-count-last-180-days times-cited number-of-cited-references  \\\n",
       "0                        15           0                         42   \n",
       "1                         2           0                         49   \n",
       "2                         1           0                         26   \n",
       "3                        45           0                         30   \n",
       "4                         0           0                         37   \n",
       "\n",
       "                                        funding-text  \\\n",
       "0  This work was supported by the Air Force Resea...   \n",
       "1  The research work detailed in the present pape...   \n",
       "2                                                NaN   \n",
       "3                                                NaN   \n",
       "4                                                NaN   \n",
       "\n",
       "                             funding-acknowledgement  ... book-author source  \\\n",
       "0  Air Force Research Laboratory (AFRL) Intellige...  ...         NaN    NaN   \n",
       "1  ESAEuropean Space Agency [4000117583/16/NL/HK/as]  ...         NaN    NaN   \n",
       "2                                                NaN  ...         NaN    NaN   \n",
       "3                                                NaN  ...         NaN    NaN   \n",
       "4                                                NaN  ...         NaN    NaN   \n",
       "\n",
       "  abbrev_source_title author_keywords  url art_number correspondence_address1  \\\n",
       "0                 NaN             NaN  NaN        NaN                     NaN   \n",
       "1                 NaN             NaN  NaN        NaN                     NaN   \n",
       "2                 NaN             NaN  NaN        NaN                     NaN   \n",
       "3                 NaN             NaN  NaN        NaN                     NaN   \n",
       "4                 NaN             NaN  NaN        NaN                     NaN   \n",
       "\n",
       "  page_count pubmed_id coden  \n",
       "0        NaN       NaN   NaN  \n",
       "1        NaN       NaN   NaN  \n",
       "2        NaN       NaN   NaN  \n",
       "3        NaN       NaN   NaN  \n",
       "4        NaN       NaN   NaN  \n",
       "\n",
       "[5 rows x 58 columns]"
      ]
     },
     "execution_count": 23,
     "metadata": {},
     "output_type": "execute_result"
    }
   ],
   "source": [
    "allData.head(5)"
   ]
  },
  {
   "cell_type": "code",
   "execution_count": 24,
   "metadata": {},
   "outputs": [
    {
     "data": {
      "text/plain": [
       "Index(['da', 'unique-id', 'doc-delivery-number', 'journal-iso',\n",
       "       'usage-count-since-2013', 'usage-count-last-180-days', 'times-cited',\n",
       "       'number-of-cited-references', 'funding-text', 'funding-acknowledgement',\n",
       "       'author-email', 'web-of-science-categories', 'research-areas',\n",
       "       'keywords-plus', 'keywords', 'eissn', 'issn', 'doi', 'affiliation',\n",
       "       'language', 'type', 'address', 'publisher', 'abstract', 'month',\n",
       "       'pages', 'number', 'volume', 'year', 'journal', 'title', 'author',\n",
       "       'ENTRYTYPE', 'ID', 'orcid-numbers', 'article-number',\n",
       "       'researcherid-numbers', 'oa', 'organization', 'note', 'isbn',\n",
       "       'booktitle', 'book-group-author', 'meeting', 'series', 'editor',\n",
       "       'esi-hot-paper', 'esi-highly-cited-paper', 'book-author', 'source',\n",
       "       'abbrev_source_title', 'author_keywords', 'url', 'art_number',\n",
       "       'correspondence_address1', 'page_count', 'pubmed_id', 'coden'],\n",
       "      dtype='object')"
      ]
     },
     "execution_count": 24,
     "metadata": {},
     "output_type": "execute_result"
    }
   ],
   "source": [
    "allData.keys()"
   ]
  },
  {
   "cell_type": "code",
   "execution_count": 38,
   "metadata": {},
   "outputs": [],
   "source": [
    "test = allData.sort_values(\"title\")"
   ]
  },
  {
   "cell_type": "code",
   "execution_count": null,
   "metadata": {},
   "outputs": [],
   "source": []
  }
 ],
 "metadata": {
  "kernelspec": {
   "display_name": "Python 3.7.4 64-bit ('base': conda)",
   "language": "python",
   "name": "python37464bitbaseconda3137f1b708d1463a910c69908fb66bfe"
  },
  "language_info": {
   "codemirror_mode": {
    "name": "ipython",
    "version": 3
   },
   "file_extension": ".py",
   "mimetype": "text/x-python",
   "name": "python",
   "nbconvert_exporter": "python",
   "pygments_lexer": "ipython3",
   "version": "3.7.4"
  }
 },
 "nbformat": 4,
 "nbformat_minor": 4
}
